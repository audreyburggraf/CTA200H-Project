{
 "cells": [
  {
   "cell_type": "code",
   "execution_count": 1,
   "id": "2e7d3477",
   "metadata": {},
   "outputs": [],
   "source": [
    "import numpy as np\n",
    "import matplotlib.pyplot as plt\n",
    "\n",
    "from scipy.linalg import lstsq\n",
    "from scipy.optimize import leastsq\n",
    "\n",
    "from functions_new_parameters import cov_func\n",
    "from functions_new_parameters import generate_parallax_signal_np\n",
    "from functions_new_parameters import signal_func_np\n",
    "from functions_new_parameters import normalized_residuals_np\n",
    "\n",
    "# %matplotlib inline\n",
    "# %config InlineBackend.figure_format = \"retina\"\n",
    "\n",
    "# # %run -i 'fitting_scriptfile.py'\n",
    "# %run -i 'np_fitting_scipy.py'"
   ]
  },
  {
   "cell_type": "code",
   "execution_count": 2,
   "id": "2e7e50ae",
   "metadata": {},
   "outputs": [],
   "source": [
    "times = np.linspace(0, 4.2, 4)\n",
    "\n",
    "alpha0, delta0 = 1, 0.3\n",
    "\n",
    "truepars = np.array((0,                       # alpha                                     [rad]\n",
    "                     0,                       # delta                                     [rad]\n",
    "                     2.3084641853871365e-07,  # proper motion in RA direction  (mu alpha) [rad/year]\n",
    "                     1.770935480191023e-07,   # proper motion in Dec direction (mu delta) [rad/year]\n",
    "                     9.699321049402031e-08))  # parallax                                  [rad]\n",
    "\n",
    "sigma_err = (1e-5*np.pi/180/60/60)*5"
   ]
  },
  {
   "cell_type": "code",
   "execution_count": 3,
   "id": "a64a3d49",
   "metadata": {},
   "outputs": [],
   "source": [
    "pm_ra_true, prlx_ra_true, true_ra, pm_dec_true, prlx_dec_true, true_dec = signal_func_np(truepars, alpha0, delta0, times)\n",
    "\n",
    "ra_obs  = true_ra   +  np.random.normal(0, sigma_err, len(true_ra)) \n",
    "dec_obs = true_dec  +  np.random.normal(0, sigma_err, len(true_dec)) \n",
    "\n",
    "yobs = np.concatenate((ra_obs , dec_obs))"
   ]
  },
  {
   "cell_type": "code",
   "execution_count": 4,
   "id": "dd967426",
   "metadata": {},
   "outputs": [],
   "source": [
    "guess = truepars * (1 + np.random.uniform(0,0.0001))\n",
    "best, cov, _ , _ , _ = leastsq(normalized_residuals_np, guess, args=(alpha0, delta0, sigma_err, ra_obs, dec_obs, times), full_output=1)"
   ]
  },
  {
   "cell_type": "code",
   "execution_count": 5,
   "id": "23bb46be",
   "metadata": {},
   "outputs": [],
   "source": [
    "# correction_term = []\n",
    "\n",
    "# for i in range(2*len(times)):\n",
    "#     if i < len(times):\n",
    "#         correction_term = np.append(correction_term, alpha0) \n",
    "#     if i >= len(times):\n",
    "#         correction_term = np.append(correction_term, delta0)\n",
    "        \n",
    "# print(correction_term)"
   ]
  },
  {
   "cell_type": "code",
   "execution_count": 6,
   "id": "aa55ef08",
   "metadata": {},
   "outputs": [
    {
     "name": "stdout",
     "output_type": "stream",
     "text": [
      "[[ 1.          0.          0.          0.          0.8808111 ]\n",
      " [ 1.          0.          1.4         0.         -1.04502033]\n",
      " [ 1.          0.          2.8         0.          0.81006731]\n",
      " [ 1.          0.          4.2         0.         -0.26569612]\n",
      " [ 0.          1.          0.          0.          0.15967025]\n",
      " [ 0.          1.          0.          1.4         0.0169896 ]\n",
      " [ 0.          1.          0.          2.8        -0.18716   ]\n",
      " [ 0.          1.          0.          4.2         0.28584164]]\n"
     ]
    }
   ],
   "source": [
    "times_double = np.concatenate((times, times))\n",
    "\n",
    "params = ['Delta alpha 0', 'Delta delta 0', 'mu alpha', 'mu delta', 'parallax']\n",
    "\n",
    "parallax_ra, parallax_dec = generate_parallax_signal_np(alpha0, delta0, 1, times)\n",
    "parallax_both = np.concatenate((parallax_ra, parallax_dec))\n",
    "\n",
    "M = np.zeros((2*len(times), len(params)))\n",
    "\n",
    "for i in range(2*len(times)):\n",
    "    if i < len(times):\n",
    "        M[i,0] = 1\n",
    "        M[i,1] = 0\n",
    "        M[i,2] = times[i]\n",
    "        M[i,3] = 0\n",
    "        M[i,4] = parallax_ra[i]\n",
    "    if i >= len(times):\n",
    "        M[i,0] = 0\n",
    "        M[i,1] = 1\n",
    "        M[i,2] = 0\n",
    "        M[i,3] = times_double[i]\n",
    "        M[i,4] = parallax_both[i]\n",
    "print(M)\n",
    "\n",
    "cov_part2 = cov_func(M, sigma_err, print_cov=False)\n",
    "\n",
    "x,  res,  rank,  s  = lstsq(M, yobs)"
   ]
  },
  {
   "cell_type": "code",
   "execution_count": 7,
   "id": "b7732e07",
   "metadata": {},
   "outputs": [],
   "source": [
    "_,_,ra1,_,_,dec1 =  signal_func_np(truepars,alpha0,delta0,times)"
   ]
  },
  {
   "cell_type": "code",
   "execution_count": 8,
   "id": "65447c03",
   "metadata": {},
   "outputs": [
    {
     "data": {
      "text/plain": [
       "8.543269652432592e-08"
      ]
     },
     "execution_count": 8,
     "metadata": {},
     "output_type": "execute_result"
    }
   ],
   "source": [
    "ra1[0]"
   ]
  },
  {
   "cell_type": "code",
   "execution_count": 9,
   "id": "6acc39ca",
   "metadata": {},
   "outputs": [],
   "source": [
    "#parameters = ['Delta alpha0', 'Delta delta0', 'mu_alpha', 'mu_delta', 'parallax']\n",
    "\n",
    "resids_test = lambda pars: (M @ np.array(pars)-(yobs))/sigma_err\n",
    "\n",
    "\n",
    "# resids_alpha = lambda pars:  M_alpha @ np.array([pars[0],pars[2],pars[4]])-(ra_obs-alpha0)\n",
    "# resids_delta = lambda pars:  M_alpha @ np.array([pars[1],pars[3],pars[4]])-(dec_obs-delta0)\n",
    "# resids = lambda pars: np.concatenate((resids_alpha(pars),resids_delta(pars)))\n",
    "\n",
    "x_test,cov_x,_,_,_ = leastsq(resids_test, guess, full_output=1)\n",
    "\n",
    "# plt.plot(times, M_delta @  np.array([x[1],x[3],x[4]]) )\n",
    "# plt.plot(times,(dec_obs-delta0))\n",
    "# plt.show()"
   ]
  },
  {
   "cell_type": "code",
   "execution_count": 10,
   "id": "8ac58b59",
   "metadata": {},
   "outputs": [
    {
     "name": "stdout",
     "output_type": "stream",
     "text": [
      "Part 1: Using scipy.optimize.leastsq\n",
      "Delta alpha 0  = -7.619357917971556e-11\n",
      "Delta delta 0  = 9.42064548493814e-11\n",
      "mu alpha       = 2.308490788489521e-07\n",
      "mu delta       = 1.770305162664979e-07\n",
      "parallax       = 9.690837708717299e-08\n",
      " \n",
      "Part 2: Using scipy.linalg.lstsq\n",
      "Delta alpha 0  = -7.619358226064033e-11\n",
      "Delta delta 0  = 9.420645334696915e-11\n",
      "mu alpha       = 2.3084907885012708e-07\n",
      "mu delta       = 1.770305162661772e-07\n",
      "parallax       = 9.690837709130721e-08\n",
      " \n",
      "Test:\n",
      "Delta alpha 0  = -7.619357804378614e-11\n",
      "Delta delta 0  = 9.420645490641554e-11\n",
      "mu alpha       = 2.3084907884867743e-07\n",
      "mu delta       = 1.7703051626651456e-07\n",
      "parallax       = 9.690837708583669e-08\n"
     ]
    }
   ],
   "source": [
    "print(\"Part 1: Using scipy.optimize.leastsq\")\n",
    "for i in range(0, len(best)):\n",
    "    print(params[i],(13-len(params[i]))*' ','=', best[i])\n",
    "\n",
    "print(\" \")\n",
    "print(\"Part 2: Using scipy.linalg.lstsq\")\n",
    "for i in range(len(x)):\n",
    "    print(params[i],  (13-len(params[i])) *' ','=', x[i])\n",
    "    \n",
    "print(\" \")\n",
    "print(\"Test:\")\n",
    "for i in range(len(x_test)):\n",
    "    print(params[i],  (13-len(params[i])) *' ','=', x_test[i])"
   ]
  },
  {
   "cell_type": "code",
   "execution_count": 11,
   "id": "d8fe7ec7",
   "metadata": {
    "scrolled": false
   },
   "outputs": [
    {
     "name": "stdout",
     "output_type": "stream",
     "text": [
      "Part 1:\n",
      "[[ 4.36751512e-20  3.26571037e-22 -1.34561352e-20  9.53045816e-23\n",
      "  -7.65197473e-21]\n",
      " [ 3.26571037e-22  4.11747495e-20 -1.11082970e-22 -1.25799774e-20\n",
      "  -9.81505747e-22]\n",
      " [-1.34561352e-20 -1.11082970e-22  6.28999657e-21 -3.24178043e-23\n",
      "   2.60281526e-21]\n",
      " [ 9.53045816e-23 -1.25799774e-20 -3.24178043e-23  5.99991795e-21\n",
      "  -2.86436897e-22]\n",
      " [-7.65197473e-21 -9.81505747e-22  2.60281526e-21 -2.86436897e-22\n",
      "   2.29979280e-20]]\n",
      " \n",
      "Part 2:\n",
      "[[ 4.36784321e-20  3.26568933e-22 -1.34576028e-20  9.52957857e-23\n",
      "  -7.65144522e-21]\n",
      " [ 3.26568933e-22  4.11746469e-20 -1.11086398e-22 -1.25794343e-20\n",
      "  -9.81555286e-22]\n",
      " [-1.34576028e-20 -1.11086398e-22  6.29058945e-21 -3.24160216e-23\n",
      "   2.60273223e-21]\n",
      " [ 9.52957857e-23 -1.25794343e-20 -3.24160216e-23  5.99959553e-21\n",
      "  -2.86426762e-22]\n",
      " [-7.65144522e-21 -9.81555286e-22  2.60273223e-21 -2.86426762e-22\n",
      "   2.29976453e-20]]\n",
      "Test\n",
      "[[ 4.36798979e-20  3.26561696e-22 -1.34583582e-20  9.52916429e-23\n",
      "  -7.65111042e-21]\n",
      " [ 3.26561696e-22  4.11741352e-20 -1.11086664e-22 -1.25789954e-20\n",
      "  -9.81569594e-22]\n",
      " [-1.34583582e-20 -1.11086664e-22  6.29091581e-21 -3.24154084e-23\n",
      "   2.60268227e-21]\n",
      " [ 9.52916429e-23 -1.25789954e-20 -3.24154084e-23  5.99937501e-21\n",
      "  -2.86424833e-22]\n",
      " [-7.65111042e-21 -9.81569594e-22  2.60268227e-21 -2.86424833e-22\n",
      "   2.29974839e-20]]\n"
     ]
    }
   ],
   "source": [
    "print(\"Part 1:\")\n",
    "print(cov)\n",
    "print(\" \")\n",
    "print(\"Part 2:\")\n",
    "print(cov_part2)\n",
    "print(\"Test\")\n",
    "print(cov_x)"
   ]
  },
  {
   "cell_type": "code",
   "execution_count": null,
   "id": "5865c17d",
   "metadata": {},
   "outputs": [],
   "source": []
  }
 ],
 "metadata": {
  "kernelspec": {
   "display_name": "Python 3 (ipykernel)",
   "language": "python",
   "name": "python3"
  },
  "language_info": {
   "codemirror_mode": {
    "name": "ipython",
    "version": 3
   },
   "file_extension": ".py",
   "mimetype": "text/x-python",
   "name": "python",
   "nbconvert_exporter": "python",
   "pygments_lexer": "ipython3",
   "version": "3.9.7"
  },
  "varInspector": {
   "cols": {
    "lenName": 16,
    "lenType": 16,
    "lenVar": 40
   },
   "kernels_config": {
    "python": {
     "delete_cmd_postfix": "",
     "delete_cmd_prefix": "del ",
     "library": "var_list.py",
     "varRefreshCmd": "print(var_dic_list())"
    },
    "r": {
     "delete_cmd_postfix": ") ",
     "delete_cmd_prefix": "rm(",
     "library": "var_list.r",
     "varRefreshCmd": "cat(var_dic_list()) "
    }
   },
   "types_to_exclude": [
    "module",
    "function",
    "builtin_function_or_method",
    "instance",
    "_Feature"
   ],
   "window_display": false
  }
 },
 "nbformat": 4,
 "nbformat_minor": 5
}
