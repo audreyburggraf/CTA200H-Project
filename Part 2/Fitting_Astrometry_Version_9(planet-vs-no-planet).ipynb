{
 "cells": [
  {
   "cell_type": "markdown",
   "id": "99914752",
   "metadata": {},
   "source": [
    "In this file we \n",
    "- create true data for with and no planet \n",
    "- fit the no planet data using the matrix method \n",
    "- fit the planet data using least squares "
   ]
  },
  {
   "cell_type": "code",
   "execution_count": 7,
   "id": "294b8925",
   "metadata": {
    "code_folding": []
   },
   "outputs": [],
   "source": [
    "# importing packages, functions, etc \n",
    "%matplotlib inline\n",
    "\n",
    "import numpy as np\n",
    "import matplotlib.pyplot as plt\n",
    "\n",
    "from numpy import cos, sin\n",
    "from scipy.linalg import lstsq\n",
    "from scipy.optimize import leastsq\n",
    "from matplotlib import rcParams\n",
    "\n",
    "rcParams[\"savefig.dpi\"] = 100\n",
    "\n",
    "from functions_new_parameters import cov_func\n",
    "from functions_new_parameters import generate_parallax_signal\n",
    "from functions_new_parameters import signal_func_np\n",
    "from functions_new_parameters import signal_func\n",
    "from functions_new_parameters import normalized_residuals\n",
    "from functions_new_parameters import calculate_a_hat\n",
    "from functions_new_parameters import find_chi_squared\n",
    "\n",
    "\n",
    "rad_mas = 206264806\n",
    "\n",
    "wp_params = ['Delta alpha 0', 'Delta delta 0', 'mu_alpha', 'mu_delta', 'parallax', 'sqrt[cos(i)]cos(Omega)', 'sqrt[cos(i)]sin(Omega)', 'sqrt[e]cos(omega)', 'sqrt[e]sin(omega)' ,'m_planet', 'P_orb', 't_peri']\n",
    "np_params = ['Delta alpha 0', 'Delta delta 0', 'mu alpha', 'mu delta', 'parallax']"
   ]
  },
  {
   "cell_type": "code",
   "execution_count": 8,
   "id": "7acd20e0",
   "metadata": {},
   "outputs": [],
   "source": [
    "# initial inputs \n",
    "np.random.seed(5) \n",
    "\n",
    "N = 100 # number of timesteps \n",
    "S = 50  # number of samples \n",
    "\n",
    "times = np.linspace(0, 4.2, N)\n",
    "theta = np.linspace(0, 2*np.pi, N)\n",
    "\n",
    "alpha0, delta0 = 1, 0.3\n",
    "\n",
    "np_truepars = np.array((0,                      # alpha                                     [rad]\n",
    "                        0,                      # delta                                     [rad]\n",
    "                        2.3084641853871365e-07, # proper motion in RA direction  (mu alpha) [rad/year]\n",
    "                        1.770935480191023e-07,  # proper motion in Dec direction (mu delta) [rad/year]\n",
    "                        9.699321049402031e-08)) # parallax                                  [rad]                 # time of pericentre passage                [years]\n",
    "\n",
    "wp_truepars = np.array((0,                      # alpha                                     [rad]\n",
    "                        0,                      # delta                                     [rad]\n",
    "                        2.3084641853871365e-07, # proper motion in RA direction  (mu alpha) [rad/year]\n",
    "                        1.770935480191023e-07,  # proper motion in Dec direction (mu delta) [rad/year]\n",
    "                        9.699321049402031e-08,  # parallax                                  [rad]\n",
    "                        0.5348901624946122,     # var1: sqrt(cosi)cos(Omega)                [unitless]\n",
    "                        0.8330420709110249,     # var2: sqrt(cosi)sin(Omega)                [unitless]\n",
    "                        -0.18610652302818084,   # var3: sqrt(e)cos(omega)                   [unitless]\n",
    "                        0.406650171629573,      # var4: sqrt(e)sin(omega)                   [unitless]\n",
    "                        0.0143188,              # mass of planet                            [solar masses]\n",
    "                        0.46146592515998475 ,   # orbital period                            [years]\n",
    "                        0.0))                   # time of pericentre passage                [years]\n",
    "\n",
    "sigma_err = (1e-5*np.pi/180/60/60)*10       # [rad]"
   ]
  },
  {
   "cell_type": "markdown",
   "id": "c650104e",
   "metadata": {},
   "source": [
    "# No planet: Matrix method "
   ]
  },
  {
   "cell_type": "code",
   "execution_count": 9,
   "id": "50c624ea",
   "metadata": {},
   "outputs": [],
   "source": [
    "# creating true and observed signals\n",
    "\n",
    "_ , _ , np_eta_true = signal_func_np(np_truepars, alpha0, delta0, times, theta)\n",
    "\n",
    "np_eta_obs = np_eta_true + np.random.normal(0, sigma_err, N) "
   ]
  },
  {
   "cell_type": "code",
   "execution_count": 10,
   "id": "b0ed65d2",
   "metadata": {},
   "outputs": [],
   "source": [
    "# creating matrix \n",
    "\n",
    "PI_ra, PI_dec = generate_parallax_signal(alpha0, delta0, 1, times)\n",
    "\n",
    "M = np.zeros((N, 5))\n",
    "\n",
    "for i in range(N):\n",
    "    M[i,0] = cos(theta[i])\n",
    "    M[i,1] = sin(theta[i])\n",
    "    M[i,2] = cos(theta[i]) * times[i]\n",
    "    M[i,3] = sin(theta[i]) * times[i]\n",
    "    M[i,4] = cos(theta[i])*PI_ra[i] + sin(theta[i])*PI_dec[i]\n",
    "        \n",
    "np_cov = cov_func(M, sigma_err, print_cov=False)\n",
    "\n",
    "np_best_fit_val,  _,  _,  _  = lstsq(M, np_eta_obs)\n",
    "\n",
    "_ , _, np_eta_best = signal_func_np(np_best_fit_val, alpha0, delta0, times, theta)"
   ]
  },
  {
   "cell_type": "code",
   "execution_count": 11,
   "id": "10805b6b",
   "metadata": {},
   "outputs": [
    {
     "name": "stdout",
     "output_type": "stream",
     "text": [
      "0.8821884976404004\n"
     ]
    }
   ],
   "source": [
    "array = np.zeros((N, 5))\n",
    "\n",
    "x = np_best_fit_val\n",
    "\n",
    "for i in range(N):\n",
    "    for j in range(5):\n",
    "        array[i,j] = M[i,j]*x[j]\n",
    "    \n",
    "array_row_sums = np.sum(array, axis=1)   \n",
    "np_chi_sq = np.sum((array_row_sums - np_eta_true)**2/sigma_err**2)\n",
    "print(np_chi_sq)  "
   ]
  },
  {
   "cell_type": "markdown",
   "id": "eb220595",
   "metadata": {},
   "source": [
    "# With planet: $\\texttt{leastsq}$"
   ]
  },
  {
   "cell_type": "code",
   "execution_count": 13,
   "id": "76296f11",
   "metadata": {},
   "outputs": [],
   "source": [
    "# creating true and observed data \n",
    "_, _, wp_eta_true = signal_func(wp_truepars, alpha0, delta0, times, theta) \n",
    "\n",
    "wp_eta_obs = np_eta_true  +  np.random.normal(0, sigma_err, N) "
   ]
  },
  {
   "cell_type": "code",
   "execution_count": 14,
   "id": "996401d0",
   "metadata": {},
   "outputs": [
    {
     "name": "stderr",
     "output_type": "stream",
     "text": [
      "/Users/audreyburggraf/Desktop/CITA/CTA200H/PROJECT/functions_new_parameters.py:36: RuntimeWarning: invalid value encountered in sqrt\n",
      "  sin_i = np.sqrt(1-cos_i**2)\n",
      "/Users/audreyburggraf/Desktop/CITA/CTA200H/PROJECT/functions_new_parameters.py:94: RuntimeWarning: invalid value encountered in sqrt\n",
      "  Y = np.sqrt((1-e**2))*sin(E)\n"
     ]
    }
   ],
   "source": [
    "# using leastsq to fit \n",
    "guess = wp_truepars * (1 + np.random.uniform(0,0.0001))\n",
    "\n",
    "wp_best_fit_val, wp_cov, _ , _ , _ = leastsq(normalized_residuals, guess, args=(alpha0, delta0, sigma_err, wp_eta_obs, times, theta), full_output=1)\n",
    "\n",
    "# _,_, wp_eta_best = signal_func(wp_best_fit_val, alpha0, delta0, times, theta)"
   ]
  },
  {
   "cell_type": "code",
   "execution_count": 15,
   "id": "6b9bc569",
   "metadata": {},
   "outputs": [],
   "source": [
    "# print(wp_cov)"
   ]
  },
  {
   "cell_type": "markdown",
   "id": "28480216",
   "metadata": {},
   "source": [
    "# Figure 5 "
   ]
  },
  {
   "cell_type": "markdown",
   "id": "02a20228",
   "metadata": {},
   "source": [
    "### Setting true values of parameters for the samples"
   ]
  },
  {
   "cell_type": "code",
   "execution_count": 16,
   "id": "c1839471",
   "metadata": {},
   "outputs": [],
   "source": [
    "# setting the true parameters with no planet \n",
    "\n",
    "np_truepars_array = np.zeros((S, 5))\n",
    "\n",
    "np_truepars_array[:,0] = np.random.normal(0, 1.93925472e-10, S)    # Delta_alpha_0\n",
    "np_truepars_array[:,1] = np.random.normal(0, 1.93925472e-10, S)    # Delta_delta_0\n",
    "np_truepars_array[:,2] = np_truepars[2]                            # mu_alpha\n",
    "np_truepars_array[:,3] = np_truepars[3]                            # mu_delta\n",
    "np_truepars_array[:,4] = np_truepars[4]                            # varpi"
   ]
  },
  {
   "cell_type": "code",
   "execution_count": 17,
   "id": "0b896ab0",
   "metadata": {},
   "outputs": [],
   "source": [
    "# setting extra parameters needed to find true parameters for with planet \n",
    "\n",
    "extra_params = np.zeros((S, 4))\n",
    "\n",
    "extra_params[:,0] = np.random.uniform(0, 0.5, S)      # e\n",
    "extra_params[:,1] = np.random.uniform(0, 2*np.pi, S)  # omega\n",
    "extra_params[:,2] = np.random.uniform(0, 2*np.pi, S)  # Omega\n",
    "extra_params[:,3] = np.random.uniform(0, 1, S)        # cos i "
   ]
  },
  {
   "cell_type": "code",
   "execution_count": 18,
   "id": "99076b2d",
   "metadata": {},
   "outputs": [],
   "source": [
    "# setting true parameters for with planet \n",
    "\n",
    "wp_truepars_array = np.ones((S, 12))\n",
    "\n",
    "wp_truepars_array[:,0] = np.random.normal(0, 1.93925472e-10, S)            # Delta_alpha_0\n",
    "wp_truepars_array[:,1] = np.random.normal(0, 1.93925472e-10, S)            # Delta_delta_0\n",
    "wp_truepars_array[:,2]  = wp_truepars[2]                                   # mu_alpha\n",
    "wp_truepars_array[:,3]  = wp_truepars[3]                                   # mu_delta \n",
    "wp_truepars_array[:,4]  = wp_truepars[4]                                   # varpi \n",
    "wp_truepars_array[:,9]  = wp_truepars[9]                                   # m_planet \n",
    "wp_truepars_array[:,10] = wp_truepars[10]                                  # P_orb \n",
    "wp_truepars_array[:,11] = np.random.uniform(0, wp_truepars_array[:,10], S) # t_peri\n",
    "\n",
    "for i in range(S):\n",
    "    wp_truepars_array[i,5], wp_truepars_array[i,6], wp_truepars_array[i,7], wp_truepars_array[i,8] = find_var_from_param(extra_params[i,0], extra_params[i,1], extra_params[i,2], extra_params[i,3]) # var1, var2, var3, var4"
   ]
  },
  {
   "cell_type": "markdown",
   "id": "504b9ff3",
   "metadata": {},
   "source": [
    "### Creating data where $\\sigma$ changes "
   ]
  },
  {
   "cell_type": "markdown",
   "id": "c2b11d45",
   "metadata": {},
   "source": [
    "#### Creating arrays to fill"
   ]
  },
  {
   "cell_type": "code",
   "execution_count": 24,
   "id": "1e218ef5",
   "metadata": {},
   "outputs": [],
   "source": [
    "wp_eta_true_array = np.zeros((S, N))\n",
    "\n",
    "wp_eta_obs_array = np.zeros((S, N))\n",
    "\n",
    "wp_best_fit_val_array = np.zeros((S, 12))\n",
    "\n",
    "noise = np.zeros((S,N))\n",
    "\n",
    "guess_array = np.zeros((S,12))\n",
    "\n",
    "wp_eta_best_array = np.zeros((S, N))\n",
    "best_eta_np_array = np.zeros((S, N))\n",
    "\n",
    "\n",
    "SN = np.zeros((S))\n",
    "\n",
    "wp_chi_sq_array = np.zeros((S))\n",
    "chi_squared_np_array = np.zeros((S))\n",
    "\n",
    "Delta_BIC = np.zeros((S))"
   ]
  },
  {
   "cell_type": "markdown",
   "id": "ce60d92f",
   "metadata": {},
   "source": [
    "#### Setting $\\hat{a}$"
   ]
  },
  {
   "cell_type": "code",
   "execution_count": 25,
   "id": "e7489ea0",
   "metadata": {},
   "outputs": [],
   "source": [
    "a_hat = calculate_a_hat(wp_truepars[4], wp_truepars[9], wp_truepars[10])"
   ]
  },
  {
   "cell_type": "markdown",
   "id": "16212faf",
   "metadata": {},
   "source": [
    "#### Setting $\\sigma$"
   ]
  },
  {
   "cell_type": "code",
   "execution_count": 26,
   "id": "ad6aa201",
   "metadata": {},
   "outputs": [
    {
     "data": {
      "text/plain": [
       "Text(0.5, 0, '$\\\\sigma$')"
      ]
     },
     "execution_count": 26,
     "metadata": {},
     "output_type": "execute_result"
    },
    {
     "data": {
      "image/png": "[encoded data removed]",
      "text/plain": [
       "<Figure size 432x288 with 1 Axes>"
      ]
     },
     "metadata": {
      "needs_background": "light"
     },
     "output_type": "display_data"
    }
   ],
   "source": [
    "sigma_err_array = np.geomspace(0.01, 1, S)*a_hat\n",
    "\n",
    "plt.hist(sigma_err_array)\n",
    "plt.title('Histgram of Errors', fontsize = 20)\n",
    "plt.xlabel('$\\sigma$', fontsize = 15)"
   ]
  },
  {
   "cell_type": "markdown",
   "id": "942bf3e8",
   "metadata": {},
   "source": [
    "#### Using for loop to fill arrays and make sigmal"
   ]
  },
  {
   "cell_type": "code",
   "execution_count": 28,
   "id": "4633cfb1",
   "metadata": {},
   "outputs": [],
   "source": [
    "for i in range(S):\n",
    "    # finding true signal with and without planet \n",
    "    _, _ , wp_eta_true_array[i] = signal_func(wp_truepars_array[i], alpha0, delta0, times, theta) \n",
    "    \n",
    "    # creating noise to turn true data into observed data\n",
    "    noise[i] = np.random.normal(0, sigma_err_array[i], N)\n",
    "    \n",
    "    # observed data is true data plus some noise \n",
    "    wp_eta_obs_array[i] = wp_eta_true_array[i] + noise[i]\n",
    "    \n",
    "    # guess\n",
    "    guess_array[i] = wp_truepars_array[i] #* (1 + np.random.uniform(0,0.0001))\n",
    "    \n",
    "    # getting best/fitted values \n",
    "    wp_best_fit_val_array[i], _, _, _, _ = leastsq(normalized_residuals, guess_array[i], args=(alpha0, delta0, sigma_err_array[i], wp_eta_obs_array[i], times, theta), full_output=1)\n",
    "\n",
    "    # creating best signal from the best fit \n",
    "    _, _, wp_eta_best_array[i] = signal_func(wp_best_fit_val_array[i], alpha0, delta0, times, theta)\n",
    "    \n",
    "    # finding S/N for each sample\n",
    "    SN[i] = a_hat/sigma_err_array[i]\n",
    "    \n",
    "    # finding chi squared for with and without planet\n",
    "    wp_chi_sq_array[i] = find_chi_squared(wp_eta_best_array[i], wp_eta_true_array[i])"
   ]
  },
  {
   "cell_type": "markdown",
   "id": "962e1100",
   "metadata": {},
   "source": [
    "### Calculating $BIC$ and $\\Delta BIC$"
   ]
  },
  {
   "cell_type": "code",
   "execution_count": 38,
   "id": "ed44d488",
   "metadata": {},
   "outputs": [
    {
     "data": {
      "text/plain": [
       "array([31.3540028, 31.3540028, 31.3540028, 31.3540028, 31.3540028,\n",
       "       31.3540028, 31.3540028, 31.3540028, 31.3540028, 31.3540028,\n",
       "       31.3540028, 31.3540028, 31.3540028, 31.3540028, 31.3540028,\n",
       "       31.3540028, 31.3540028, 31.3540028, 31.3540028, 31.3540028,\n",
       "       31.3540028, 31.3540028, 31.3540028, 31.3540028, 31.3540028,\n",
       "       31.3540028, 31.3540028, 31.3540028, 31.3540028, 31.3540028,\n",
       "       31.3540028, 31.3540028, 31.3540028, 31.3540028, 31.3540028,\n",
       "       31.3540028, 31.3540028, 31.3540028, 31.3540028, 31.3540028,\n",
       "       31.3540028, 31.3540028, 31.3540028, 31.3540028, 31.3540028,\n",
       "       31.3540028, 31.3540028, 31.3540028, 31.3540028, 31.3540028])"
      ]
     },
     "execution_count": 38,
     "metadata": {},
     "output_type": "execute_result"
    }
   ],
   "source": [
    "np_BIC = np_chi_sq + 5 * np.log(N)\n",
    "\n",
    "wp_BIC = wp_chi_sq_array + 12*np.log(N)\n",
    "\n",
    "Delta_BIC = wp_BIC - np_BIC\n",
    "Delta_BIC"
   ]
  },
  {
   "cell_type": "code",
   "execution_count": null,
   "id": "29adb0fd",
   "metadata": {},
   "outputs": [],
   "source": []
  }
 ],
 "metadata": {
  "kernelspec": {
   "display_name": "Python 3 (ipykernel)",
   "language": "python",
   "name": "python3"
  },
  "language_info": {
   "codemirror_mode": {
    "name": "ipython",
    "version": 3
   },
   "file_extension": ".py",
   "mimetype": "text/x-python",
   "name": "python",
   "nbconvert_exporter": "python",
   "pygments_lexer": "ipython3",
   "version": "3.9.7"
  },
  "varInspector": {
   "cols": {
    "lenName": 16,
    "lenType": 16,
    "lenVar": 40
   },
   "kernels_config": {
    "python": {
     "delete_cmd_postfix": "",
     "delete_cmd_prefix": "del ",
     "library": "var_list.py",
     "varRefreshCmd": "print(var_dic_list())"
    },
    "r": {
     "delete_cmd_postfix": ") ",
     "delete_cmd_prefix": "rm(",
     "library": "var_list.r",
     "varRefreshCmd": "cat(var_dic_list()) "
    }
   },
   "types_to_exclude": [
    "module",
    "function",
    "builtin_function_or_method",
    "instance",
    "_Feature"
   ],
   "window_display": false
  }
 },
 "nbformat": 4,
 "nbformat_minor": 5
}
