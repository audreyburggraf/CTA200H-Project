{
 "cells": [
  {
   "cell_type": "markdown",
   "id": "ae8d6eda",
   "metadata": {},
   "source": [
    "# <font color='red'>Issues: covariance matrix which is needed for emcee </font>"
   ]
  },
  {
   "cell_type": "code",
   "execution_count": 26,
   "id": "294b8925",
   "metadata": {
    "code_folding": []
   },
   "outputs": [],
   "source": [
    "# importing packages, functions, etc \n",
    "%matplotlib inline\n",
    "\n",
    "import numpy as np\n",
    "import seaborn as sns\n",
    "import matplotlib.pyplot as plt\n",
    "import corner\n",
    "import emcee\n",
    "\n",
    "from scipy.linalg import lstsq\n",
    "from scipy.optimize import minimize\n",
    "from scipy.optimize import leastsq\n",
    "from matplotlib import rcParams\n",
    "from corner import corner,hist2d\n",
    "from numpy.linalg import inv, det \n",
    "\n",
    "rcParams[\"savefig.dpi\"] = 100\n",
    "\n",
    "from functions_new_parameters import cov_func\n",
    "from functions_new_parameters import generate_parallax_signal\n",
    "from functions_new_parameters import signal_func\n",
    "from functions_new_parameters import normalized_residuals\n",
    "# from functions_new_parameters import create_param_time_series\n",
    "from functions_new_parameters import log_probability\n",
    "from functions_new_parameters import find_param_from_var\n",
    "from functions_new_parameters import generate_planet_signal\n",
    "from functions_new_parameters import thiele_innes\n",
    "\n",
    "color_palette = sns.color_palette(\"hls\", 8)\n",
    "color0 = color_palette[5] # darker color (error bars)\n",
    "color1 = color_palette[4] # lighter color (base line)\n",
    "color2 = color_palette[7] # dark color (over plotted dashed line)\n",
    "color3 = color_palette[2] \n",
    "\n",
    "rad_mas = 206264806\n",
    "\n",
    "params = ['alpha', 'delta', 'mu_alpha', 'mu_delta', 'parallax', 'sqrt[cos(i)]cos(Omega)', 'sqrt[cos(i)]sin(Omega)', 'sqrt[e]cos(omega)', 'sqrt[e]sin(omega)' ,'m_planet', 'P_orb', 't_peri']\n",
    "planet_params = ['e', 'omega', 'Omega', 'cos(i)']\n",
    "thiele_innes_const = ['B', 'A', 'F', 'G', 'H', 'C']\n",
    "part2_params = ['alpha', 'delta', 'mu_alpha', 'mu_delta', 'parallax', 'B', 'A', 'F', 'G']"
   ]
  },
  {
   "cell_type": "code",
   "execution_count": 27,
   "id": "7acd20e0",
   "metadata": {},
   "outputs": [],
   "source": [
    "# initial inputs \n",
    "np.random.seed(5) \n",
    "\n",
    "step_number = 100\n",
    "\n",
    "times = np.linspace(0, 4.2, 60)\n",
    "\n",
    "alpha0, delta0 = 1, 0.3\n",
    "\n",
    "truepars = np.array((0,                      # alpha                                     [rad]\n",
    "                     0,                      # delta                                     [rad]\n",
    "                     2.3084641853871365e-07, # proper motion in RA direction  (mu alpha) [rad/year]\n",
    "                     1.770935480191023e-07,  # proper motion in Dec direction (mu delta) [rad/year]\n",
    "                     9.699321049402031e-08,  # parallax                                  [rad]\n",
    "                     0.5348901624946122,     # var1: sqrt(cosi)cos(Omega)                [unitless]\n",
    "                     0.8330420709110249,     # var2: sqrt(cosi)sin(Omega)                [unitless]\n",
    "                     -0.18610652302818084,   # var3: sqrt(e)cos(omega)                   [unitless]\n",
    "                     0.406650171629573,      # var4: sqrt(e)sin(omega)                   [unitless]\n",
    "                     0.0143188,              # mass of planet                            [solar masses]\n",
    "                     0.46146592515998475 ,   # orbital period                            [years]\n",
    "                     0.0))                   # time of pericentre passage                [years]\n",
    "\n",
    "sigma_err = (1e-5*np.pi/180/60/60)*5*100"
   ]
  },
  {
   "cell_type": "code",
   "execution_count": 28,
   "id": "76296f11",
   "metadata": {},
   "outputs": [],
   "source": [
    "# creating true and observed data \n",
    "true_ra, true_dec = signal_func(truepars, alpha0, delta0, times)\n",
    "\n",
    "ra_obs  = true_ra   +  np.random.normal(0, sigma_err, len(true_ra)) \n",
    "dec_obs = true_dec  +  np.random.normal(0, sigma_err, len(true_dec)) "
   ]
  },
  {
   "cell_type": "code",
   "execution_count": 29,
   "id": "996401d0",
   "metadata": {},
   "outputs": [],
   "source": [
    "# using leastsq to fit \n",
    "guess = truepars * (1 + np.random.uniform(0,0.0001))\n",
    "\n",
    "best, cov, _ , _ , _ = leastsq(normalized_residuals, guess, args=(alpha0, delta0, sigma_err, ra_obs, dec_obs, times), full_output=1)\n",
    "\n",
    "best_ra, best_dec = signal_func(best, alpha0, delta0, times)"
   ]
  },
  {
   "cell_type": "code",
   "execution_count": 30,
   "id": "54cac3f3",
   "metadata": {},
   "outputs": [
    {
     "name": "stdout",
     "output_type": "stream",
     "text": [
      "None\n"
     ]
    }
   ],
   "source": [
    "print(cov)"
   ]
  },
  {
   "cell_type": "markdown",
   "id": "ae24eed6",
   "metadata": {},
   "source": [
    "# Printing fitted parameters\n",
    "\n",
    "### Functions: \n",
    "#### - $e, \\omega, \\Omega, \\cos i = $find_param_from_var$(var1, var2, var3, var4)$\n",
    "#### - $B, A, F, G, H, C = $thiele_innes$(\\omega, \\Omega, \\cos i, \\varpi, m\\_planet, P\\_orb)$\n",
    "\n",
    "\\\n",
    "$[0, 1, 2, 3, 4, 5, 6, 7, 8, 9, 10 , 11]$\\\n",
    "$[\\alpha(0), \\delta(1), \\mu_{\\alpha}(2), \\mu_{\\delta}(3), \\varpi(4), \\text{var1}(5), \\text{var2}(6), \\text{var3} (7),\\text{var4}(8),  m\\_planet(9), P_{orb}(10), t_{peri}(11)]$"
   ]
  },
  {
   "cell_type": "code",
   "execution_count": 31,
   "id": "98077a63",
   "metadata": {},
   "outputs": [],
   "source": [
    "planet_param_best = find_param_from_var(best[5], best[6], best[7], best[8])\n",
    "thiele_innes_best = thiele_innes(planet_param_best[1], planet_param_best[2], planet_param_best[3], best[4], best[9], best[10])\n",
    "\n",
    "\n",
    "planet_param_true = find_param_from_var(truepars[5], truepars[6], truepars[7], truepars[8])\n",
    "thiele_innes_true = thiele_innes(planet_param_true[1], planet_param_true[2], planet_param_true[3], truepars[4], truepars[9], truepars[10])"
   ]
  },
  {
   "cell_type": "code",
   "execution_count": 32,
   "id": "0af13a0d",
   "metadata": {},
   "outputs": [
    {
     "name": "stdout",
     "output_type": "stream",
     "text": [
      "Parameter              Fitted value     True value\n",
      " \n",
      "alpha                   = 0.34046525191981475        = 0.0\n",
      "delta                   = 0.0                        = 0.0\n",
      "mu_alpha                = 2.3264754835245314e-07     = 2.3084641853871365e-07\n",
      "mu_delta                = 1.773554025717222e-07      = 1.770935480191023e-07\n",
      "parallax                = 9.66756793428291e-08       = 9.699321049402031e-08\n",
      "sqrt[cos(i)]cos(Omega)  = 0.51488388393024           = 0.5348901624946122\n",
      "sqrt[cos(i)]sin(Omega)  = 0.10912356910093608        = 0.8330420709110249\n",
      "sqrt[e]cos(omega)       = -0.29373236039577555       = -0.18610652302818084\n",
      "sqrt[e]sin(omega)       = 0.21647279562277483        = 0.406650171629573\n",
      "m_planet                = 0.024453245114390492       = 0.0143188\n",
      "P_orb                   = 0.48788602861989006        = 0.46146592515998475\n",
      "t_peri                  = 0.3638318123284596         = 0.0\n",
      " \n",
      "e                       = 0.13313917078841342        = 0.19999999999999998\n",
      "omega                   = 2.506481139890379          = 2.0\n",
      "Omega                   = 0.20884781459770904        = 1.0\n",
      "cos(i)                  = 0.2770133672644156         = 0.9800665778412416\n",
      " \n",
      "B                       = -8.840796983580794e-12     = 1.0788923660466816e-10\n",
      "A                       = -1.1844717298766037e-09    = -8.00780963027594e-10\n",
      "F                       = -7.700648315439931e-10     = -1.2166912636383692e-10\n",
      "G                       = -4.918397055692853e-10     = -8.096289284903454e-10\n",
      "H                       = -1.1151491387754432e-09    = -6.792070101770894e-11\n",
      "C                       = 8.218347181147758e-10      = 1.4840943926436124e-10\n"
     ]
    }
   ],
   "source": [
    "print(\"Parameter\",12*' ',\"Fitted value\",3*' ' ,\"True value\")\n",
    "\n",
    "print(\" \")\n",
    "\n",
    "j = 0 \n",
    "for j in range(0, len(best)):\n",
    "    print(params[j],(22-len(params[j]))*' ','=', best[j], (25-len(str(best[j])))*' ','=', truepars[j])\n",
    "        \n",
    "    \n",
    "print(\" \")\n",
    "\n",
    "for j in range(0, len(planet_params)):\n",
    "    print(planet_params[j],(22-len(planet_params[j]))*' ','=', planet_param_best[j], (25-len(str(planet_param_best[j])))*' ','=', planet_param_true[j] )\n",
    "    \n",
    "    \n",
    "print(\" \")\n",
    "\n",
    "for j in range(0, len(thiele_innes_const)):\n",
    "    print(thiele_innes_const[j],(22-len(thiele_innes_const[j]))*' ','=', thiele_innes_best[j], (25-len(str(thiele_innes_best[j])))*' ','=', thiele_innes_true[j])"
   ]
  },
  {
   "cell_type": "markdown",
   "id": "8db76e6b",
   "metadata": {},
   "source": [
    "## Plotting "
   ]
  },
  {
   "cell_type": "code",
   "execution_count": 33,
   "id": "eba1878b",
   "metadata": {},
   "outputs": [
    {
     "data": {
      "text/plain": [
       "Text(0.5, 1.0, 'RA vs Dec')"
      ]
     },
     "execution_count": 33,
     "metadata": {},
     "output_type": "execute_result"
    },
    {
     "data": {
      "image/png": "[encoded data removed]",
      "text/plain": [
       "<Figure size 720x720 with 3 Axes>"
      ]
     },
     "metadata": {
      "needs_background": "light"
     },
     "output_type": "display_data"
    }
   ],
   "source": [
    "fig, ax = plt.subplots(3, 1, figsize=(10, 10), sharex=False)\n",
    "\n",
    "plt.subplots_adjust(left=0.125, bottom=0.1, right=0.9, top=0.9, wspace=0.2, hspace=0.5)\n",
    "\n",
    "ax[0].errorbar(times, ra_obs*rad_mas, yerr=sigma_err*rad_mas, fmt=\"s\", markersize=2,  color=color0, label='yerr')\n",
    "ax[0].plot(times,     best_ra*rad_mas,  lw=5, color=color2, label='best fit',  ls='--')\n",
    "ax[0].legend(fontsize=10, fancybox=True, framealpha=1, shadow=True, borderpad=1)\n",
    "ax[0].set_xlabel(\"time\", fontsize = 15)\n",
    "ax[0].set_ylabel(\"RA [mas]\", fontsize = 15)\n",
    "ax[0].set_title(\"RA Signal vs Time\", fontsize = 20)\n",
    "\n",
    "ax[1].errorbar(times, dec_obs*rad_mas, yerr=sigma_err*rad_mas, fmt=\"s\", markersize=2,  color=color0, label='yerr')\n",
    "ax[1].plot(times,     best_dec*rad_mas,  lw=5, color=color2, label='best fit',  ls='--')\n",
    "ax[1].legend(fontsize=10, fancybox=True, framealpha=1, shadow=True, borderpad=1)\n",
    "ax[1].set_xlabel(\"time\", fontsize = 15)\n",
    "ax[1].set_ylabel(\"Dec [mas]\", fontsize = 15)\n",
    "ax[1].set_title(\"Dec Signal vs Time\", fontsize = 20)\n",
    "\n",
    "ax[2].errorbar(ra_obs*rad_mas, dec_obs*rad_mas, yerr=sigma_err*rad_mas, xerr = sigma_err*rad_mas, fmt=\"s\", markersize=2,  color=color0, label='yerr')\n",
    "ax[2].plot(best_ra*rad_mas,  best_dec*rad_mas,  lw=5, color=color2, label='best fit' , ls='--')\n",
    "ax[2].legend(fontsize=10, fancybox=True, framealpha=1, shadow=True, borderpad=1)\n",
    "ax[2].set_xlabel(\"RA [mas]\",  fontsize = 15)\n",
    "ax[2].set_ylabel(\"Dec [mas]\", fontsize = 15)\n",
    "ax[2].set_title(\"RA vs Dec\",  fontsize = 20)"
   ]
  },
  {
   "cell_type": "markdown",
   "id": "8aa60cc0",
   "metadata": {},
   "source": [
    "# emcee"
   ]
  },
  {
   "cell_type": "code",
   "execution_count": 34,
   "id": "cddb5f56",
   "metadata": {},
   "outputs": [
    {
     "ename": "ValueError",
     "evalue": "cov must be 2 dimensional and square",
     "output_type": "error",
     "traceback": [
      "\u001b[0;31m---------------------------------------------------------------------------\u001b[0m",
      "\u001b[0;31mValueError\u001b[0m                                Traceback (most recent call last)",
      "\u001b[0;32m/var/folders/kj/bzmrgm6154j7yg37zyl66c340000gn/T/ipykernel_46741/244884309.py\u001b[0m in \u001b[0;36m<module>\u001b[0;34m\u001b[0m\n\u001b[0;32m----> 1\u001b[0;31m \u001b[0mpos\u001b[0m \u001b[0;34m=\u001b[0m \u001b[0mnp\u001b[0m\u001b[0;34m.\u001b[0m\u001b[0mrandom\u001b[0m\u001b[0;34m.\u001b[0m\u001b[0mmultivariate_normal\u001b[0m\u001b[0;34m(\u001b[0m\u001b[0mbest\u001b[0m\u001b[0;34m,\u001b[0m \u001b[0mcov\u001b[0m\u001b[0;34m,\u001b[0m \u001b[0msize\u001b[0m\u001b[0;34m=\u001b[0m\u001b[0;36m100\u001b[0m\u001b[0;34m)\u001b[0m\u001b[0;34m\u001b[0m\u001b[0;34m\u001b[0m\u001b[0m\n\u001b[0m\u001b[1;32m      2\u001b[0m \u001b[0;32mfor\u001b[0m \u001b[0mp\u001b[0m \u001b[0;32min\u001b[0m \u001b[0mpos\u001b[0m\u001b[0;34m:\u001b[0m\u001b[0;34m\u001b[0m\u001b[0;34m\u001b[0m\u001b[0m\n\u001b[1;32m      3\u001b[0m     \u001b[0mtest_ra\u001b[0m\u001b[0;34m,\u001b[0m \u001b[0mtest_dec\u001b[0m \u001b[0;34m=\u001b[0m \u001b[0msignal_func\u001b[0m\u001b[0;34m(\u001b[0m\u001b[0mp\u001b[0m\u001b[0;34m,\u001b[0m \u001b[0malpha0\u001b[0m\u001b[0;34m,\u001b[0m \u001b[0mdelta0\u001b[0m\u001b[0;34m,\u001b[0m \u001b[0mtimes\u001b[0m\u001b[0;34m)\u001b[0m\u001b[0;34m\u001b[0m\u001b[0;34m\u001b[0m\u001b[0m\n\u001b[1;32m      4\u001b[0m     \u001b[0mplt\u001b[0m\u001b[0;34m.\u001b[0m\u001b[0mplot\u001b[0m\u001b[0;34m(\u001b[0m\u001b[0mtest_ra\u001b[0m\u001b[0;34m*\u001b[0m\u001b[0mrad_mas\u001b[0m\u001b[0;34m,\u001b[0m \u001b[0mtest_dec\u001b[0m\u001b[0;34m*\u001b[0m\u001b[0mrad_mas\u001b[0m\u001b[0;34m,\u001b[0m\u001b[0malpha\u001b[0m\u001b[0;34m=\u001b[0m\u001b[0;36m0.15\u001b[0m\u001b[0;34m,\u001b[0m\u001b[0mcolor\u001b[0m\u001b[0;34m=\u001b[0m\u001b[0;34m'gray'\u001b[0m\u001b[0;34m)\u001b[0m\u001b[0;34m\u001b[0m\u001b[0;34m\u001b[0m\u001b[0m\n\u001b[1;32m      5\u001b[0m \u001b[0mplt\u001b[0m\u001b[0;34m.\u001b[0m\u001b[0mplot\u001b[0m\u001b[0;34m(\u001b[0m\u001b[0mtrue_ra\u001b[0m\u001b[0;34m*\u001b[0m\u001b[0mrad_mas\u001b[0m\u001b[0;34m,\u001b[0m \u001b[0mtrue_dec\u001b[0m\u001b[0;34m*\u001b[0m\u001b[0mrad_mas\u001b[0m\u001b[0;34m,\u001b[0m \u001b[0mls\u001b[0m\u001b[0;34m=\u001b[0m\u001b[0;34m'--'\u001b[0m\u001b[0;34m,\u001b[0m \u001b[0mcolor\u001b[0m\u001b[0;34m=\u001b[0m\u001b[0;34m'red'\u001b[0m\u001b[0;34m)\u001b[0m\u001b[0;34m\u001b[0m\u001b[0;34m\u001b[0m\u001b[0m\n",
      "\u001b[0;32mmtrand.pyx\u001b[0m in \u001b[0;36mnumpy.random.mtrand.RandomState.multivariate_normal\u001b[0;34m()\u001b[0m\n",
      "\u001b[0;31mValueError\u001b[0m: cov must be 2 dimensional and square"
     ]
    }
   ],
   "source": [
    "pos = np.random.multivariate_normal(best, cov, size=100)\n",
    "for p in pos:\n",
    "    test_ra, test_dec = signal_func(p, alpha0, delta0, times)\n",
    "    plt.plot(test_ra*rad_mas, test_dec*rad_mas,alpha=0.15,color='gray')\n",
    "plt.plot(true_ra*rad_mas, true_dec*rad_mas, ls='--', color='red')\n",
    "plt.errorbar(ra_obs*rad_mas, dec_obs*rad_mas, yerr=sigma_err*rad_mas, xerr = sigma_err*rad_mas, fmt=\"s\", markersize=2,  color=color0, label='yerr')"
   ]
  },
  {
   "cell_type": "code",
   "execution_count": null,
   "id": "e9da36fa",
   "metadata": {},
   "outputs": [],
   "source": [
    "pos = np.random.multivariate_normal(best, cov, size=100_000) #100_000"
   ]
  },
  {
   "cell_type": "code",
   "execution_count": null,
   "id": "5307dafb",
   "metadata": {},
   "outputs": [],
   "source": [
    "f = lambda pars: log_probability(pars,alpha0,)\n",
    "minimize"
   ]
  },
  {
   "cell_type": "code",
   "execution_count": null,
   "id": "96a1d943",
   "metadata": {},
   "outputs": [],
   "source": [
    "step_number = 1000\n",
    "pos_part2 = np.random.multivariate_normal(best, cov, size=100) \n",
    "nwalkers, ndim = pos_part2.shape\n",
    "\n",
    "sampler = emcee.EnsembleSampler(nwalkers, ndim, log_probability, args = (alpha0, delta0, ra_obs, dec_obs, sigma_err, times))\n",
    "sampler.run_mcmc(pos_part2, step_number, progress = True);\n",
    "\n",
    "flat_samples = sampler.get_chain(discard=100, thin=15, flat=True)\n",
    "\n",
    "import corner\n",
    "fig = corner.corner(flat_samples, \n",
    "                    labels=params, \n",
    "                    truths=truepars, \n",
    "                    truth_color='limegreen', \n",
    "                    plot_density=False,\n",
    "                    plot_datapoints=False,\n",
    "                    levels=[0.68,0.95,0.99],\n",
    "                    color='dodgerblue',hist_kwargs={\"density\":True});\n",
    "\n",
    "corner.corner(pos, \n",
    "              labels=params, \n",
    "              truths=truepars, \n",
    "              truth_color='limegreen',\n",
    "              plot_density=False,\n",
    "              plot_datapoints=False,\n",
    "              levels=[0.68,0.95,0.99],\n",
    "              color='red',\n",
    "              fig=fig,hist_kwargs={\"density\":True});\n",
    "\n",
    "print(\"blue = emcee\")\n",
    "\n",
    "plt.show()"
   ]
  },
  {
   "cell_type": "code",
   "execution_count": null,
   "id": "348148b3",
   "metadata": {},
   "outputs": [],
   "source": []
  }
 ],
 "metadata": {
  "kernelspec": {
   "display_name": "Python 3 (ipykernel)",
   "language": "python",
   "name": "python3"
  },
  "language_info": {
   "codemirror_mode": {
    "name": "ipython",
    "version": 3
   },
   "file_extension": ".py",
   "mimetype": "text/x-python",
   "name": "python",
   "nbconvert_exporter": "python",
   "pygments_lexer": "ipython3",
   "version": "3.9.7"
  },
  "varInspector": {
   "cols": {
    "lenName": 16,
    "lenType": 16,
    "lenVar": 40
   },
   "kernels_config": {
    "python": {
     "delete_cmd_postfix": "",
     "delete_cmd_prefix": "del ",
     "library": "var_list.py",
     "varRefreshCmd": "print(var_dic_list())"
    },
    "r": {
     "delete_cmd_postfix": ") ",
     "delete_cmd_prefix": "rm(",
     "library": "var_list.r",
     "varRefreshCmd": "cat(var_dic_list()) "
    }
   },
   "types_to_exclude": [
    "module",
    "function",
    "builtin_function_or_method",
    "instance",
    "_Feature"
   ],
   "window_display": false
  }
 },
 "nbformat": 4,
 "nbformat_minor": 5
}
