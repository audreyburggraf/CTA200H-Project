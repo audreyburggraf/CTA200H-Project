{
 "cells": [
  {
   "cell_type": "code",
   "execution_count": 105,
   "id": "da0b1c5d",
   "metadata": {},
   "outputs": [],
   "source": [
    "import sympy as sp\n",
    "from matplotlib import pyplot as plt\n",
    "import numpy as np\n",
    "\n",
    "from sympy import init_printing\n",
    "init_printing()\n",
    "\n",
    "%matplotlib inline\n",
    "from sympy import *"
   ]
  },
  {
   "cell_type": "code",
   "execution_count": 106,
   "id": "2e936ab1",
   "metadata": {},
   "outputs": [],
   "source": [
    "x, y, z, d, t = symbols('x y z d t')\n",
    "x_dot = sp.symbols(r\"\\dot{x}\",real= True)\n",
    "y_dot = sp.symbols(r\"\\dot{y}\",real= True)\n",
    "z_dot = sp.symbols(r\"\\dot{z}\",real= True)\n",
    "d_dot = sp.symbols(r\"\\dot{d}\",real= True)\n",
    "\n",
    "alpha = sp.symbols(\"alpha\"   ,real=True)\n",
    "delta = sp.symbols(\"delta\"   ,real=True)\n",
    "alpha_dot = sp.symbols(r\"\\dot{\\alpha}\",real= True)\n",
    "delta_dot = sp.symbols(r\"\\dot{\\delta}\",real= True)\n",
    "\n",
    "vx = sp.symbols(\"v_x\", real=True)\n",
    "vy = sp.symbols(\"v_y\", real=True)\n",
    "vz = sp.symbols(\"v_z\", real=True)\n",
    "\n",
    "a, b, c, e, f, g, h, i, j = symbols('a b c e f g h i j')"
   ]
  },
  {
   "cell_type": "code",
   "execution_count": 107,
   "id": "a8a41069",
   "metadata": {},
   "outputs": [],
   "source": [
    "x = d*cos(alpha)*cos(delta)\n",
    "y = d*sin(alpha)*cos(delta)\n",
    "z = d*sin(delta)"
   ]
  },
  {
   "cell_type": "code",
   "execution_count": 108,
   "id": "1cff14b1",
   "metadata": {},
   "outputs": [],
   "source": [
    "rlist = [x,y,z]"
   ]
  },
  {
   "cell_type": "code",
   "execution_count": 109,
   "id": "dd94a5d1",
   "metadata": {},
   "outputs": [
    {
     "data": {
      "image/png": "[encoded data removed]",
      "text/latex": [
       "$\\displaystyle \\left[ d \\cos{\\left(\\alpha \\right)} \\cos{\\left(\\delta \\right)}, \\  d \\sin{\\left(\\alpha \\right)} \\cos{\\left(\\delta \\right)}, \\  d \\sin{\\left(\\delta \\right)}\\right]$"
      ],
      "text/plain": [
       "[d⋅cos(α)⋅cos(δ), d⋅sin(α)⋅cos(δ), d⋅sin(δ)]"
      ]
     },
     "execution_count": 109,
     "metadata": {},
     "output_type": "execute_result"
    }
   ],
   "source": [
    "rlist"
   ]
  },
  {
   "cell_type": "markdown",
   "id": "84449fe3",
   "metadata": {},
   "source": [
    "<span style=\"color:blue\"> $A=\\begin{bmatrix} x \\\\ y  \\\\z\\end{bmatrix}$ =$d$$\\begin{bmatrix} \\cos\\alpha\\cos\\delta  \\\\ \\sin\\alpha\\cos\\delta  \\\\ \\sin\\delta  \\end{bmatrix}$ </span> "
   ]
  },
  {
   "cell_type": "code",
   "execution_count": 104,
   "id": "df5fa445",
   "metadata": {},
   "outputs": [],
   "source": [
    "A = Matrix([[d*cos(alpha)*cos(delta)], \n",
    "            [-d*sin(alpha)*cos(delta)], \n",
    "            [d*sin(delta)]])"
   ]
  },
  {
   "cell_type": "markdown",
   "id": "4e9cbeff",
   "metadata": {},
   "source": [
    "<span style=\"color:blue\"> $B=\\begin{bmatrix} v_x \\\\ v_y  \\\\v_z\\end{bmatrix}$ =$\\frac{d}{dt}A$  </span> "
   ]
  },
  {
   "cell_type": "code",
   "execution_count": 91,
   "id": "081cfb8c",
   "metadata": {},
   "outputs": [
    {
     "data": {
      "text/latex": [
       "$\\displaystyle \\left[\\begin{matrix}- \\dot{\\alpha} \\dot{d} \\sin{\\left(\\alpha \\right)} \\cos{\\left(\\delta \\right)} - \\dot{\\delta} \\dot{d} \\sin{\\left(\\delta \\right)} \\cos{\\left(\\alpha \\right)}\\\\- \\dot{\\alpha} \\dot{d} \\cos{\\left(\\alpha \\right)} \\cos{\\left(\\delta \\right)} + \\dot{\\delta} \\dot{d} \\sin{\\left(\\alpha \\right)} \\sin{\\left(\\delta \\right)}\\\\\\dot{\\delta} \\dot{d} \\cos{\\left(\\delta \\right)}\\end{matrix}\\right]$"
      ],
      "text/plain": [
       "⎡-\\dot{\\alpha}⋅\\dot{d}⋅sin(α)⋅cos(δ) - \\dot{\\delta}⋅\\dot{d}⋅sin(δ)⋅cos(α)⎤\n",
       "⎢                                                                        ⎥\n",
       "⎢-\\dot{\\alpha}⋅\\dot{d}⋅cos(α)⋅cos(δ) + \\dot{\\delta}⋅\\dot{d}⋅sin(α)⋅sin(δ)⎥\n",
       "⎢                                                                        ⎥\n",
       "⎣                      \\dot{\\delta}⋅\\dot{d}⋅cos(δ)                       ⎦"
      ]
     },
     "execution_count": 91,
     "metadata": {},
     "output_type": "execute_result"
    }
   ],
   "source": [
    "k = diff(1/d*d_dot*alpha_dot*A.row(0), alpha)\n",
    "l = diff(1/d*d_dot*delta_dot*A.row(0), delta)\n",
    "m = diff(1/d*d_dot*alpha_dot*A.row(1), alpha)\n",
    "n = diff(1/d*d_dot*delta_dot*A.row(1), delta)\n",
    "o = diff(1/d*d_dot*alpha_dot*A.row(2), alpha)\n",
    "p = diff(1/d*d_dot*delta_dot*A.row(2), delta)\n",
    "\n",
    "B = Matrix([[k + l],\n",
    "            [m + n],\n",
    "            [o + p]])\n",
    "B"
   ]
  },
  {
   "cell_type": "markdown",
   "id": "eb065a3c",
   "metadata": {},
   "source": [
    "<span style=\"color:blue\"> $A=\\begin{bmatrix} v_x \\\\ v_y  \\\\v_z\\end{bmatrix} =M(d,\\alpha, \\delta)$$\\begin{bmatrix} \\dot{d}  \\\\ \\dot{\\alpha}  \\\\ \\dot{\\delta}  \\end{bmatrix}$ </span> "
   ]
  },
  {
   "cell_type": "code",
   "execution_count": 93,
   "id": "ad5cb532",
   "metadata": {},
   "outputs": [],
   "source": [
    "M_empty = Matrix([[a,b,c],\n",
    "                  [e,f,g],\n",
    "                  [h,i,j]])\n",
    "\n",
    "C = Matrix([[d_dot],\n",
    "            [alpha_dot],\n",
    "            [delta_dot]])\n",
    "\n",
    "MC = M_empty * C"
   ]
  },
  {
   "cell_type": "markdown",
   "id": "d1e637b8",
   "metadata": {},
   "source": [
    "<span style=\"color:blue\"> $MC=\\begin{bmatrix} a\\dot{d} + b\\dot{\\alpha} + c\\dot{\\delta} \\\\ \n",
    "                                              e\\dot{d} + f\\dot{\\alpha} + g\\dot{\\delta}  \\\\\n",
    "                                              h\\dot{d} + i\\dot{\\alpha} + j\\dot{\\delta}  \\end{bmatrix} \n",
    "                    =\\dot{d} \\begin{bmatrix} -\\dot{\\alpha} \\sin\\alpha\\cos\\delta- \\dot{\\delta} \\sin\\delta\\cos\\alpha  \\\\ \n",
    "                                              -\\dot{\\alpha} \\cos\\alpha\\cos\\delta+ \\dot{\\delta} \\sin\\delta\\sin\\alpha  \\\\ \n",
    "                                                                                 \\dot{\\delta} \\cos\\delta  \\end{bmatrix}$ </span> "
   ]
  },
  {
   "cell_type": "code",
   "execution_count": 96,
   "id": "5f942f81",
   "metadata": {},
   "outputs": [],
   "source": [
    "a_ = d_dot * 0\n",
    "b_ = d_dot * -sin(alpha)*cos(delta)\n",
    "c_ = d_dot * -sin(delta)*cos(alpha)\n",
    "\n",
    "e_ = d_dot * 0\n",
    "f_ = d_dot * -cos(alpha)*cos(delta)\n",
    "g_ = d_dot * sin(delta)*sin(alpha)\n",
    "\n",
    "h_ = d_dot * 0\n",
    "i_ = d_dot * 0\n",
    "j_ = d_dot * cos(delta)"
   ]
  },
  {
   "cell_type": "code",
   "execution_count": 97,
   "id": "1022c441",
   "metadata": {},
   "outputs": [
    {
     "data": {
      "text/latex": [
       "$\\displaystyle \\left[\\begin{matrix}0 & - \\dot{d} \\sin{\\left(\\alpha \\right)} \\cos{\\left(\\delta \\right)} & - \\dot{d} \\sin{\\left(\\delta \\right)} \\cos{\\left(\\alpha \\right)}\\\\0 & - \\dot{d} \\cos{\\left(\\alpha \\right)} \\cos{\\left(\\delta \\right)} & \\dot{d} \\sin{\\left(\\alpha \\right)} \\sin{\\left(\\delta \\right)}\\\\0 & 0 & \\dot{d} \\cos{\\left(\\delta \\right)}\\end{matrix}\\right]$"
      ],
      "text/plain": [
       "⎡0  -\\dot{d}⋅sin(α)⋅cos(δ)  -\\dot{d}⋅sin(δ)⋅cos(α)⎤\n",
       "⎢                                                 ⎥\n",
       "⎢0  -\\dot{d}⋅cos(α)⋅cos(δ)  \\dot{d}⋅sin(α)⋅sin(δ) ⎥\n",
       "⎢                                                 ⎥\n",
       "⎣0            0                 \\dot{d}⋅cos(δ)    ⎦"
      ]
     },
     "execution_count": 97,
     "metadata": {},
     "output_type": "execute_result"
    }
   ],
   "source": [
    "M = Matrix([[a_, b_, c_],\n",
    "            [e_, f_, g_],\n",
    "            [h_, i_, j_]])\n",
    "M"
   ]
  },
  {
   "cell_type": "markdown",
   "id": "eb744306",
   "metadata": {},
   "source": [
    "### <span style=\"color:red\"> column of zeros means that the inverse of M($d,\\alpha,\\delta$) cannot be found to then find $\\begin{bmatrix} \\dot{d}\\\\ \\dot{\\alpha} \\\\ \\dot{\\delta}\\end{bmatrix}$</span> "
   ]
  },
  {
   "cell_type": "markdown",
   "id": "1daa1f73",
   "metadata": {},
   "source": [
    "<span style=\"color:blue\"> $D =[M(d,\\alpha,\\delta)]^{-1}$ </span> "
   ]
  },
  {
   "cell_type": "code",
   "execution_count": 99,
   "id": "11fdb648",
   "metadata": {},
   "outputs": [
    {
     "ename": "NonInvertibleMatrixError",
     "evalue": "Matrix det == 0; not invertible.",
     "output_type": "error",
     "traceback": [
      "\u001b[0;31m---------------------------------------------------------------------------\u001b[0m",
      "\u001b[0;31mNonInvertibleMatrixError\u001b[0m                  Traceback (most recent call last)",
      "\u001b[0;32m/var/folders/kj/bzmrgm6154j7yg37zyl66c340000gn/T/ipykernel_90017/3013442664.py\u001b[0m in \u001b[0;36m<module>\u001b[0;34m\u001b[0m\n\u001b[0;32m----> 1\u001b[0;31m \u001b[0mD\u001b[0m \u001b[0;34m=\u001b[0m \u001b[0mM\u001b[0m\u001b[0;34m**\u001b[0m\u001b[0;34m(\u001b[0m\u001b[0;34m-\u001b[0m\u001b[0;36m1\u001b[0m\u001b[0;34m)\u001b[0m\u001b[0;34m\u001b[0m\u001b[0;34m\u001b[0m\u001b[0m\n\u001b[0m\u001b[1;32m      2\u001b[0m \u001b[0mD\u001b[0m\u001b[0;34m\u001b[0m\u001b[0;34m\u001b[0m\u001b[0m\n",
      "\u001b[0;32m/opt/anaconda3/lib/python3.9/site-packages/sympy/core/decorators.py\u001b[0m in \u001b[0;36mbinary_op_wrapper\u001b[0;34m(self, other)\u001b[0m\n\u001b[1;32m    134\u001b[0m                     \u001b[0;32mif\u001b[0m \u001b[0mf\u001b[0m \u001b[0;32mis\u001b[0m \u001b[0;32mnot\u001b[0m \u001b[0;32mNone\u001b[0m\u001b[0;34m:\u001b[0m\u001b[0;34m\u001b[0m\u001b[0;34m\u001b[0m\u001b[0m\n\u001b[1;32m    135\u001b[0m                         \u001b[0;32mreturn\u001b[0m \u001b[0mf\u001b[0m\u001b[0;34m(\u001b[0m\u001b[0mself\u001b[0m\u001b[0;34m)\u001b[0m\u001b[0;34m\u001b[0m\u001b[0;34m\u001b[0m\u001b[0m\n\u001b[0;32m--> 136\u001b[0;31m             \u001b[0;32mreturn\u001b[0m \u001b[0mfunc\u001b[0m\u001b[0;34m(\u001b[0m\u001b[0mself\u001b[0m\u001b[0;34m,\u001b[0m \u001b[0mother\u001b[0m\u001b[0;34m)\u001b[0m\u001b[0;34m\u001b[0m\u001b[0;34m\u001b[0m\u001b[0m\n\u001b[0m\u001b[1;32m    137\u001b[0m         \u001b[0;32mreturn\u001b[0m \u001b[0mbinary_op_wrapper\u001b[0m\u001b[0;34m\u001b[0m\u001b[0;34m\u001b[0m\u001b[0m\n\u001b[1;32m    138\u001b[0m     \u001b[0;32mreturn\u001b[0m \u001b[0mpriority_decorator\u001b[0m\u001b[0;34m\u001b[0m\u001b[0;34m\u001b[0m\u001b[0m\n",
      "\u001b[0;32m/opt/anaconda3/lib/python3.9/site-packages/sympy/matrices/common.py\u001b[0m in \u001b[0;36m__pow__\u001b[0;34m(self, exp)\u001b[0m\n\u001b[1;32m   2839\u001b[0m         \u001b[0;34m\"\"\"Return self**exp a scalar or symbol.\"\"\"\u001b[0m\u001b[0;34m\u001b[0m\u001b[0;34m\u001b[0m\u001b[0m\n\u001b[1;32m   2840\u001b[0m \u001b[0;34m\u001b[0m\u001b[0m\n\u001b[0;32m-> 2841\u001b[0;31m         \u001b[0;32mreturn\u001b[0m \u001b[0mself\u001b[0m\u001b[0;34m.\u001b[0m\u001b[0mpow\u001b[0m\u001b[0;34m(\u001b[0m\u001b[0mexp\u001b[0m\u001b[0;34m)\u001b[0m\u001b[0;34m\u001b[0m\u001b[0;34m\u001b[0m\u001b[0m\n\u001b[0m\u001b[1;32m   2842\u001b[0m \u001b[0;34m\u001b[0m\u001b[0m\n\u001b[1;32m   2843\u001b[0m \u001b[0;34m\u001b[0m\u001b[0m\n",
      "\u001b[0;32m/opt/anaconda3/lib/python3.9/site-packages/sympy/matrices/common.py\u001b[0m in \u001b[0;36mpow\u001b[0;34m(self, exp, method)\u001b[0m\n\u001b[1;32m   2883\u001b[0m             \u001b[0;32mif\u001b[0m \u001b[0mexp\u001b[0m \u001b[0;34m<\u001b[0m \u001b[0;36m0\u001b[0m\u001b[0;34m:\u001b[0m\u001b[0;34m\u001b[0m\u001b[0;34m\u001b[0m\u001b[0m\n\u001b[1;32m   2884\u001b[0m                 \u001b[0mexp\u001b[0m \u001b[0;34m=\u001b[0m \u001b[0;34m-\u001b[0m\u001b[0mexp\u001b[0m\u001b[0;34m\u001b[0m\u001b[0;34m\u001b[0m\u001b[0m\n\u001b[0;32m-> 2885\u001b[0;31m                 \u001b[0ma\u001b[0m \u001b[0;34m=\u001b[0m \u001b[0ma\u001b[0m\u001b[0;34m.\u001b[0m\u001b[0minv\u001b[0m\u001b[0;34m(\u001b[0m\u001b[0;34m)\u001b[0m\u001b[0;34m\u001b[0m\u001b[0;34m\u001b[0m\u001b[0m\n\u001b[0m\u001b[1;32m   2886\u001b[0m         \u001b[0;31m# When certain conditions are met,\u001b[0m\u001b[0;34m\u001b[0m\u001b[0;34m\u001b[0m\u001b[0m\n\u001b[1;32m   2887\u001b[0m         \u001b[0;31m# Jordan block algorithm is faster than\u001b[0m\u001b[0;34m\u001b[0m\u001b[0;34m\u001b[0m\u001b[0m\n",
      "\u001b[0;32m/opt/anaconda3/lib/python3.9/site-packages/sympy/matrices/matrices.py\u001b[0m in \u001b[0;36minv\u001b[0;34m(self, method, iszerofunc, try_block_diag)\u001b[0m\n\u001b[1;32m   2221\u001b[0m \u001b[0;34m\u001b[0m\u001b[0m\n\u001b[1;32m   2222\u001b[0m     \u001b[0;32mdef\u001b[0m \u001b[0minv\u001b[0m\u001b[0;34m(\u001b[0m\u001b[0mself\u001b[0m\u001b[0;34m,\u001b[0m \u001b[0mmethod\u001b[0m\u001b[0;34m=\u001b[0m\u001b[0;32mNone\u001b[0m\u001b[0;34m,\u001b[0m \u001b[0miszerofunc\u001b[0m\u001b[0;34m=\u001b[0m\u001b[0m_iszero\u001b[0m\u001b[0;34m,\u001b[0m \u001b[0mtry_block_diag\u001b[0m\u001b[0;34m=\u001b[0m\u001b[0;32mFalse\u001b[0m\u001b[0;34m)\u001b[0m\u001b[0;34m:\u001b[0m\u001b[0;34m\u001b[0m\u001b[0;34m\u001b[0m\u001b[0m\n\u001b[0;32m-> 2223\u001b[0;31m         return _inv(self, method=method, iszerofunc=iszerofunc,\n\u001b[0m\u001b[1;32m   2224\u001b[0m                 try_block_diag=try_block_diag)\n\u001b[1;32m   2225\u001b[0m \u001b[0;34m\u001b[0m\u001b[0m\n",
      "\u001b[0;32m/opt/anaconda3/lib/python3.9/site-packages/sympy/matrices/inverse.py\u001b[0m in \u001b[0;36m_inv\u001b[0;34m(M, method, iszerofunc, try_block_diag)\u001b[0m\n\u001b[1;32m    457\u001b[0m \u001b[0;34m\u001b[0m\u001b[0m\n\u001b[1;32m    458\u001b[0m     \u001b[0;32mif\u001b[0m \u001b[0mmethod\u001b[0m \u001b[0;34m==\u001b[0m \u001b[0;34m\"GE\"\u001b[0m\u001b[0;34m:\u001b[0m\u001b[0;34m\u001b[0m\u001b[0;34m\u001b[0m\u001b[0m\n\u001b[0;32m--> 459\u001b[0;31m         \u001b[0mrv\u001b[0m \u001b[0;34m=\u001b[0m \u001b[0mM\u001b[0m\u001b[0;34m.\u001b[0m\u001b[0minverse_GE\u001b[0m\u001b[0;34m(\u001b[0m\u001b[0miszerofunc\u001b[0m\u001b[0;34m=\u001b[0m\u001b[0miszerofunc\u001b[0m\u001b[0;34m)\u001b[0m\u001b[0;34m\u001b[0m\u001b[0;34m\u001b[0m\u001b[0m\n\u001b[0m\u001b[1;32m    460\u001b[0m     \u001b[0;32melif\u001b[0m \u001b[0mmethod\u001b[0m \u001b[0;34m==\u001b[0m \u001b[0;34m\"LU\"\u001b[0m\u001b[0;34m:\u001b[0m\u001b[0;34m\u001b[0m\u001b[0;34m\u001b[0m\u001b[0m\n\u001b[1;32m    461\u001b[0m         \u001b[0mrv\u001b[0m \u001b[0;34m=\u001b[0m \u001b[0mM\u001b[0m\u001b[0;34m.\u001b[0m\u001b[0minverse_LU\u001b[0m\u001b[0;34m(\u001b[0m\u001b[0miszerofunc\u001b[0m\u001b[0;34m=\u001b[0m\u001b[0miszerofunc\u001b[0m\u001b[0;34m)\u001b[0m\u001b[0;34m\u001b[0m\u001b[0;34m\u001b[0m\u001b[0m\n",
      "\u001b[0;32m/opt/anaconda3/lib/python3.9/site-packages/sympy/matrices/matrices.py\u001b[0m in \u001b[0;36minverse_GE\u001b[0;34m(self, iszerofunc)\u001b[0m\n\u001b[1;32m   2206\u001b[0m \u001b[0;34m\u001b[0m\u001b[0m\n\u001b[1;32m   2207\u001b[0m     \u001b[0;32mdef\u001b[0m \u001b[0minverse_GE\u001b[0m\u001b[0;34m(\u001b[0m\u001b[0mself\u001b[0m\u001b[0;34m,\u001b[0m \u001b[0miszerofunc\u001b[0m\u001b[0;34m=\u001b[0m\u001b[0m_iszero\u001b[0m\u001b[0;34m)\u001b[0m\u001b[0;34m:\u001b[0m\u001b[0;34m\u001b[0m\u001b[0;34m\u001b[0m\u001b[0m\n\u001b[0;32m-> 2208\u001b[0;31m         \u001b[0;32mreturn\u001b[0m \u001b[0m_inv_GE\u001b[0m\u001b[0;34m(\u001b[0m\u001b[0mself\u001b[0m\u001b[0;34m,\u001b[0m \u001b[0miszerofunc\u001b[0m\u001b[0;34m=\u001b[0m\u001b[0miszerofunc\u001b[0m\u001b[0;34m)\u001b[0m\u001b[0;34m\u001b[0m\u001b[0;34m\u001b[0m\u001b[0m\n\u001b[0m\u001b[1;32m   2209\u001b[0m \u001b[0;34m\u001b[0m\u001b[0m\n\u001b[1;32m   2210\u001b[0m     \u001b[0;32mdef\u001b[0m \u001b[0minverse_LU\u001b[0m\u001b[0;34m(\u001b[0m\u001b[0mself\u001b[0m\u001b[0;34m,\u001b[0m \u001b[0miszerofunc\u001b[0m\u001b[0;34m=\u001b[0m\u001b[0m_iszero\u001b[0m\u001b[0;34m)\u001b[0m\u001b[0;34m:\u001b[0m\u001b[0;34m\u001b[0m\u001b[0;34m\u001b[0m\u001b[0m\n",
      "\u001b[0;32m/opt/anaconda3/lib/python3.9/site-packages/sympy/matrices/inverse.py\u001b[0m in \u001b[0;36m_inv_GE\u001b[0;34m(M, iszerofunc)\u001b[0m\n\u001b[1;32m    243\u001b[0m \u001b[0;34m\u001b[0m\u001b[0m\n\u001b[1;32m    244\u001b[0m     \u001b[0;32mif\u001b[0m \u001b[0many\u001b[0m\u001b[0;34m(\u001b[0m\u001b[0miszerofunc\u001b[0m\u001b[0;34m(\u001b[0m\u001b[0mred\u001b[0m\u001b[0;34m[\u001b[0m\u001b[0mj\u001b[0m\u001b[0;34m,\u001b[0m \u001b[0mj\u001b[0m\u001b[0;34m]\u001b[0m\u001b[0;34m)\u001b[0m \u001b[0;32mfor\u001b[0m \u001b[0mj\u001b[0m \u001b[0;32min\u001b[0m \u001b[0mrange\u001b[0m\u001b[0;34m(\u001b[0m\u001b[0mred\u001b[0m\u001b[0;34m.\u001b[0m\u001b[0mrows\u001b[0m\u001b[0;34m)\u001b[0m\u001b[0;34m)\u001b[0m\u001b[0;34m:\u001b[0m\u001b[0;34m\u001b[0m\u001b[0;34m\u001b[0m\u001b[0m\n\u001b[0;32m--> 245\u001b[0;31m         \u001b[0;32mraise\u001b[0m \u001b[0mNonInvertibleMatrixError\u001b[0m\u001b[0;34m(\u001b[0m\u001b[0;34m\"Matrix det == 0; not invertible.\"\u001b[0m\u001b[0;34m)\u001b[0m\u001b[0;34m\u001b[0m\u001b[0;34m\u001b[0m\u001b[0m\n\u001b[0m\u001b[1;32m    246\u001b[0m \u001b[0;34m\u001b[0m\u001b[0m\n\u001b[1;32m    247\u001b[0m     \u001b[0;32mreturn\u001b[0m \u001b[0mM\u001b[0m\u001b[0;34m.\u001b[0m\u001b[0m_new\u001b[0m\u001b[0;34m(\u001b[0m\u001b[0mred\u001b[0m\u001b[0;34m[\u001b[0m\u001b[0;34m:\u001b[0m\u001b[0;34m,\u001b[0m \u001b[0mbig\u001b[0m\u001b[0;34m.\u001b[0m\u001b[0mrows\u001b[0m\u001b[0;34m:\u001b[0m\u001b[0;34m]\u001b[0m\u001b[0;34m)\u001b[0m\u001b[0;34m\u001b[0m\u001b[0;34m\u001b[0m\u001b[0m\n",
      "\u001b[0;31mNonInvertibleMatrixError\u001b[0m: Matrix det == 0; not invertible."
     ]
    }
   ],
   "source": [
    "D = M**(-1)\n",
    "D"
   ]
  },
  {
   "cell_type": "markdown",
   "id": "b64a9f81",
   "metadata": {},
   "source": [
    "<span style=\"color:blue\"> $E = $$\\begin{bmatrix} \\dot{d} \\\\ \\dot{\\alpha}  \\\\ \\dot{\\delta}\\end{bmatrix}$ =$[M(d,\\alpha,\\delta)]^{-1}$ $\\begin{bmatrix} v_x \\\\ v_y  \\\\ v_z\\end{bmatrix}=D\\cdot B$ </span> "
   ]
  },
  {
   "cell_type": "code",
   "execution_count": 101,
   "id": "5bfe7c21",
   "metadata": {},
   "outputs": [
    {
     "data": {
      "text/latex": [
       "$\\displaystyle \\left[\\begin{matrix}- \\dot{\\delta} \\dot{d}^{2} \\sin{\\left(\\delta \\right)} \\cos{\\left(\\alpha \\right)} \\cos{\\left(\\delta \\right)} - \\dot{d} \\left(- \\dot{\\alpha} \\dot{d} \\cos{\\left(\\alpha \\right)} \\cos{\\left(\\delta \\right)} + \\dot{\\delta} \\dot{d} \\sin{\\left(\\alpha \\right)} \\sin{\\left(\\delta \\right)}\\right) \\sin{\\left(\\alpha \\right)} \\cos{\\left(\\delta \\right)}\\\\\\dot{\\delta} \\dot{d}^{2} \\sin{\\left(\\alpha \\right)} \\sin{\\left(\\delta \\right)} \\cos{\\left(\\delta \\right)} - \\dot{d} \\left(- \\dot{\\alpha} \\dot{d} \\cos{\\left(\\alpha \\right)} \\cos{\\left(\\delta \\right)} + \\dot{\\delta} \\dot{d} \\sin{\\left(\\alpha \\right)} \\sin{\\left(\\delta \\right)}\\right) \\cos{\\left(\\alpha \\right)} \\cos{\\left(\\delta \\right)}\\\\\\dot{\\delta} \\dot{d}^{2} \\cos^{2}{\\left(\\delta \\right)}\\end{matrix}\\right]$"
      ],
      "text/plain": [
       "⎡                      2                                                      \n",
       "⎢- \\dot{\\delta}⋅\\dot{d} ⋅sin(δ)⋅cos(α)⋅cos(δ) - \\dot{d}⋅(-\\dot{\\alpha}⋅\\dot{d}\n",
       "⎢                                                                             \n",
       "⎢                     2                                                       \n",
       "⎢ \\dot{\\delta}⋅\\dot{d} ⋅sin(α)⋅sin(δ)⋅cos(δ) - \\dot{d}⋅(-\\dot{\\alpha}⋅\\dot{d}⋅\n",
       "⎢                                                                             \n",
       "⎢                                                                             \n",
       "⎣                                                         \\dot{\\delta}⋅\\dot{d}\n",
       "\n",
       "                                                                  ⎤\n",
       "⋅cos(α)⋅cos(δ) + \\dot{\\delta}⋅\\dot{d}⋅sin(α)⋅sin(δ))⋅sin(α)⋅cos(δ)⎥\n",
       "                                                                  ⎥\n",
       "                                                                  ⎥\n",
       "cos(α)⋅cos(δ) + \\dot{\\delta}⋅\\dot{d}⋅sin(α)⋅sin(δ))⋅cos(α)⋅cos(δ) ⎥\n",
       "                                                                  ⎥\n",
       "2    2                                                            ⎥\n",
       " ⋅cos (δ)                                                         ⎦"
      ]
     },
     "execution_count": 101,
     "metadata": {},
     "output_type": "execute_result"
    }
   ],
   "source": [
    "E = D*B\n",
    "E"
   ]
  },
  {
   "cell_type": "code",
   "execution_count": null,
   "id": "77aa8936",
   "metadata": {},
   "outputs": [],
   "source": []
  }
 ],
 "metadata": {
  "kernelspec": {
   "display_name": "Python 3 (ipykernel)",
   "language": "python",
   "name": "python3"
  },
  "language_info": {
   "codemirror_mode": {
    "name": "ipython",
    "version": 3
   },
   "file_extension": ".py",
   "mimetype": "text/x-python",
   "name": "python",
   "nbconvert_exporter": "python",
   "pygments_lexer": "ipython3",
   "version": "3.9.7"
  }
 },
 "nbformat": 4,
 "nbformat_minor": 5
}
