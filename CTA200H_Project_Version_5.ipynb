{
 "cells": [
  {
   "cell_type": "code",
   "execution_count": 322,
   "id": "1078004c",
   "metadata": {},
   "outputs": [],
   "source": [
    "import rebound \n",
    "\n",
    "import sympy as sp\n",
    "from matplotlib import pyplot as plt\n",
    "from matplotlib import pyplot\n",
    "\n",
    "import numpy as np\n",
    "\n",
    "from sympy import init_printing\n",
    "init_printing()\n",
    "\n",
    "%matplotlib inline\n",
    "from sympy import *\n",
    "\n",
    "import math"
   ]
  },
  {
   "cell_type": "markdown",
   "id": "54d78b04",
   "metadata": {},
   "source": [
    "# Predicting an Astrometric signal"
   ]
  },
  {
   "cell_type": "markdown",
   "id": "5b9a5790",
   "metadata": {},
   "source": [
    "## Calculating velocity of the star"
   ]
  },
  {
   "cell_type": "markdown",
   "id": "4f24aa25",
   "metadata": {},
   "source": [
    "Proper motion and distance are given"
   ]
  },
  {
   "cell_type": "code",
   "execution_count": 323,
   "id": "d05b1c9d",
   "metadata": {},
   "outputs": [
    {
     "name": "stdout",
     "output_type": "stream",
     "text": [
      "The proper motion is: 0.05 as/year \n",
      "The distance to the star is 50 pc\n"
     ]
    }
   ],
   "source": [
    "proper_motion_mas_yr = 50\n",
    "proper_motion_as_yr = proper_motion_mas_yr * 0.001\n",
    "print('The proper motion is:',proper_motion_as_yr,'as/year ')\n",
    "\n",
    "D = 50\n",
    "print('The distance to the star is',D,'pc')"
   ]
  },
  {
   "cell_type": "markdown",
   "id": "9bb731e8",
   "metadata": {},
   "source": [
    "Use the equation $v_T=4.74D\\mu$"
   ]
  },
  {
   "cell_type": "code",
   "execution_count": 324,
   "id": "c636df40",
   "metadata": {},
   "outputs": [
    {
     "name": "stdout",
     "output_type": "stream",
     "text": [
      "The velocity of the star is 11.850000000000001 km/s or 2.4983221925133696 AU/years\n"
     ]
    }
   ],
   "source": [
    "v_star_kms = 4.74*proper_motion_as_yr*D\n",
    "v_star_AUyear = v_star_kms * (1/1.496e+8) * (3.154e+7)\n",
    "print('The velocity of the star is',v_star_kms,'km/s or',v_star_AUyear,'AU/years')"
   ]
  },
  {
   "cell_type": "markdown",
   "id": "1653da72",
   "metadata": {},
   "source": [
    "Setting the timescale as 4.2 years "
   ]
  },
  {
   "cell_type": "code",
   "execution_count": 325,
   "id": "c17ae3ad",
   "metadata": {},
   "outputs": [],
   "source": [
    "timescale = 30"
   ]
  },
  {
   "cell_type": "markdown",
   "id": "39c2fe73",
   "metadata": {},
   "source": [
    "Variables I set "
   ]
  },
  {
   "cell_type": "code",
   "execution_count": 326,
   "id": "cd2988ee",
   "metadata": {},
   "outputs": [],
   "source": [
    "m_star = 2 # M_sun\n",
    "z_star = 5 # AU"
   ]
  },
  {
   "cell_type": "markdown",
   "id": "b778c78d",
   "metadata": {},
   "source": [
    "## Simulation WITHOUT planet "
   ]
  },
  {
   "cell_type": "markdown",
   "id": "121cf1e8",
   "metadata": {},
   "source": [
    "Creating a simulation with units of AU, M$_\\odot$ and years where the central object is the Sun and the other objects are the Earth and a star"
   ]
  },
  {
   "cell_type": "code",
   "execution_count": 327,
   "id": "b4c35bea",
   "metadata": {
    "scrolled": false
   },
   "outputs": [],
   "source": [
    "sim = rebound.Simulation()                                         # starting simulation named sim \n",
    "\n",
    "sim.units=[\"msun\",\"AU\",\"year\"]                                     # setting units of sim \n",
    "\n",
    "sim.add(m=1)                                                       # add the Sun as the central object \n",
    "\n",
    "sim.add(m=3.0027e-6, a=1, e=0)                                     # add Earth in a 1 AU circular orbit \n",
    "\n",
    "sim.add(x = 1.031e7, vy = v_star_AUyear, m = m_star, z = z_star)   # add a hypothetical star 50 pc away with calculated velocity "
   ]
  },
  {
   "cell_type": "markdown",
   "id": "31500570",
   "metadata": {},
   "source": [
    "Creating arrays to hold data "
   ]
  },
  {
   "cell_type": "code",
   "execution_count": 328,
   "id": "10142ff9",
   "metadata": {},
   "outputs": [],
   "source": [
    "m = 5\n",
    "times = np.linspace(0,timescale,num=m)\n",
    "\n",
    "# positions of sun, earth, star and sun-earth COM\n",
    "pos_sun = np.zeros((m,3))\n",
    "pos_earth = np.zeros((m,3))\n",
    "pos_star = np.zeros((m,3))\n",
    "\n",
    "# center of mass \n",
    "sun_earth_com = np.zeros((m,3))\n",
    "all_com = np.zeros((m,3))\n",
    "\n",
    "# r_star - r_earth vector\n",
    "r_SE = np.zeros((m,3))\n",
    "\n",
    "# length of r_star - r_earth vector in x-y plane\n",
    "r_SE_xy = np.zeros((m,1))\n",
    "\n",
    "# right ascension and declination\n",
    "alpha = np.empty((m,1))\n",
    "delta = np.empty((m,1))"
   ]
  },
  {
   "cell_type": "markdown",
   "id": "bbd44139",
   "metadata": {},
   "source": [
    "Creating a for loop to fill the arrays that were created"
   ]
  },
  {
   "cell_type": "code",
   "execution_count": 329,
   "id": "74ae3c09",
   "metadata": {},
   "outputs": [],
   "source": [
    "for i,t in enumerate(times):\n",
    "    sim.integrate(t)\n",
    "    \n",
    "    # positions of sun, earth and star\n",
    "    pos_sun[i] = sim.particles[0].xyz\n",
    "    pos_earth[i] = sim.particles[1].xyz\n",
    "    pos_star[i] = sim.particles[2].xyz\n",
    "    \n",
    "    # center of mass of sun and earth \n",
    "    com = sim.calculate_com(last=2)\n",
    "    sun_earth_com[i] = com.xyz\n",
    "    \n",
    "    # center of mass of all objects \n",
    "    com_all = sim.calculate_com()\n",
    "    all_com[i] = com_all.xyz\n",
    "    \n",
    "    # r_star - r_earth vector \n",
    "    r_SE[i] = pos_star[i] - pos_earth[i]\n",
    "    \n",
    "    #length of r_star - r_earth vector in x-y plane\n",
    "    r_SE_xy[i] = np.sqrt(r_SE[i,0]**2 + r_SE[i,1]**2)\n",
    "    \n",
    "    # calculating RA and Dec in (units)\n",
    "    alpha[i] = (r_SE[i,1]/r_SE[i,0])*206264806.24709466\n",
    "    delta[i] = (r_SE[i,2]/r_SE_xy[i])*206264806.24709466"
   ]
  },
  {
   "cell_type": "markdown",
   "id": "d7e8c703",
   "metadata": {},
   "source": [
    "Creating a plot for the positions of the Sun and Earth"
   ]
  },
  {
   "cell_type": "code",
   "execution_count": 330,
   "id": "f273ec9c",
   "metadata": {
    "scrolled": false
   },
   "outputs": [
    {
     "data": {
      "image/png": "[encoded data removed]",
      "text/plain": [
       "<Figure size 432x288 with 1 Axes>"
      ]
     },
     "metadata": {
      "needs_background": "light"
     },
     "output_type": "display_data"
    }
   ],
   "source": [
    "plt.clf()   \n",
    "\n",
    "# plot style and colour\n",
    "plt.style.use('seaborn')\n",
    "plt.rcParams['axes.facecolor']='whitesmoke'\n",
    "\n",
    "# plot border\n",
    "plt.rcParams[\"axes.edgecolor\"] = '0'\n",
    "plt.rcParams[\"axes.linewidth\"]  = 0.7\n",
    "\n",
    "# plot grid\n",
    "plt.grid(color='0.85')\n",
    "plt.minorticks_on() \n",
    "\n",
    "#################################### plotting data #######################################################\n",
    "# plotting sun and earth\n",
    "plt.scatter(pos_sun[:,0], pos_sun[:,1], color='orange', label='Sun', s=550,marker='*') \n",
    "plt.scatter(pos_earth[:,0], pos_earth[:,1], color='dodgerblue', label='Earth', s=55)\n",
    "\n",
    "############################################################################################################ \n",
    "\n",
    "# setting titles\n",
    "plt.title('Sun and Earth Positions (Without Planet)',fontsize = 24)             \n",
    "plt.xlabel('X-position',fontsize = 17)                     \n",
    "plt.ylabel('Y-position',fontsize = 17)\n",
    "\n",
    "# plotting legend\n",
    "legend=plt.legend(loc=\"upper right\",frameon=True, markerscale=0.7, bbox_to_anchor=(1.25, 0.5))\n",
    "legend.get_frame().set_edgecolor('0.3')\n",
    "legend.get_frame().set_linewidth(1)\n",
    "       \n",
    "plt.show()  "
   ]
  },
  {
   "cell_type": "markdown",
   "id": "d5efe275",
   "metadata": {},
   "source": [
    "Creating a plot of the position of the star"
   ]
  },
  {
   "cell_type": "code",
   "execution_count": 331,
   "id": "6d282ec1",
   "metadata": {},
   "outputs": [
    {
     "data": {
      "image/png": "[encoded data removed]",
      "text/plain": [
       "<Figure size 576x396 with 1 Axes>"
      ]
     },
     "metadata": {},
     "output_type": "display_data"
    }
   ],
   "source": [
    "plt.clf() \n",
    "\n",
    "# plot style and colour\n",
    "plt.style.use('seaborn')\n",
    "plt.rcParams['axes.facecolor']='whitesmoke'\n",
    "\n",
    "# plot border\n",
    "plt.rcParams[\"axes.edgecolor\"] = '0'\n",
    "plt.rcParams[\"axes.linewidth\"]  = 0.7\n",
    "\n",
    "# plot grid\n",
    "plt.grid(color='0.85')\n",
    "plt.minorticks_on() \n",
    "\n",
    "#################################### plotting data #######################################################\n",
    "# plotting star position\n",
    "plt.scatter(pos_star[:,0], pos_star[:,1] , color='orangered', label='Star', s=55, marker='*') \n",
    "############################################################################################################ \n",
    "\n",
    "# setting titles\n",
    "plt.title('Star Position (Without Planet)',fontsize = 24)             \n",
    "plt.xlabel('X-position',fontsize = 17)                     \n",
    "plt.ylabel('Y-position',fontsize = 17)\n",
    "\n",
    "# plotting legend\n",
    "legend=plt.legend(loc=\"upper right\",frameon=True, markerscale=1, bbox_to_anchor=(1.25, 0.5))\n",
    "legend.get_frame().set_edgecolor('0.3')\n",
    "legend.get_frame().set_linewidth(1)\n",
    "       \n",
    "plt.show()  "
   ]
  },
  {
   "cell_type": "markdown",
   "id": "c7b1ff90",
   "metadata": {},
   "source": [
    "## Simulation WITH planet"
   ]
  },
  {
   "cell_type": "markdown",
   "id": "ff241751",
   "metadata": {},
   "source": [
    "Creating a simulation with units of AU, M$_\\odot$ and years where the central object is the Sun and the other objects are the Earth and a star with a planet orbiting it"
   ]
  },
  {
   "cell_type": "code",
   "execution_count": 332,
   "id": "6c2bef6e",
   "metadata": {},
   "outputs": [],
   "source": [
    "sim_wp = rebound.Simulation()                                                # create a simulation called sim_wp \n",
    "\n",
    "sim_wp.units=[\"msun\",\"AU\",\"year\"]                                            # setting the units for sim_wpm\n",
    "\n",
    "sim_wp.add(m=1)                                                              # add Sun as the central object \n",
    "\n",
    "sim_wp.add(m=3.0027e-6, a=1, e=0)                                            # add Earth in a 1 AU circular orbit \n",
    "\n",
    "sim_wp.add(x = 1.031e7, vy=v_star_AUyear, m = m_star, z = z_star)            # add a hypothetical star 50 pc away with calculated velocity\n",
    "\n",
    "sim_wp.add(m = 0.00477294, a = 0.6, e = 0.2, primary = sim_wp.particles[2])  # add planet from figure 3.1 caption and have it orbit the star "
   ]
  },
  {
   "cell_type": "markdown",
   "id": "1099075c",
   "metadata": {},
   "source": [
    "Creating arrays to hold data "
   ]
  },
  {
   "cell_type": "code",
   "execution_count": 333,
   "id": "bc2cc4e6",
   "metadata": {},
   "outputs": [],
   "source": [
    "# positions of sun, earth, star and sun-earth COM\n",
    "pos_sun_wp = np.zeros((m,3))\n",
    "pos_earth_wp = np.zeros((m,3))\n",
    "pos_star_wp = np.zeros((m,3))\n",
    "pos_planet_wp = np.zeros((m,3))\n",
    "\n",
    "# center of mass \n",
    "sun_earth_com_wp = np.zeros((m,3))\n",
    "all_com_wp = np.zeros((m,3))\n",
    "\n",
    "# r_star - r_earth vector\n",
    "r_SE_wp = np.zeros((m,3))\n",
    "\n",
    "# length of r_star - r_earth vector in x-y plane \n",
    "r_SE_xy_wp = np.zeros((m,1))\n",
    "\n",
    "# right ascension and declination\n",
    "alpha_wp = np.empty((m,1))\n",
    "delta_wp = np.empty((m,1))"
   ]
  },
  {
   "cell_type": "markdown",
   "id": "89806528",
   "metadata": {},
   "source": [
    "Filling arrays with data using a for loop"
   ]
  },
  {
   "cell_type": "code",
   "execution_count": 334,
   "id": "0e3c9d73",
   "metadata": {},
   "outputs": [],
   "source": [
    "for j,t in enumerate(times):\n",
    "    sim_wp.integrate(t)\n",
    "    \n",
    "    # positions of sun, earth and star\n",
    "    pos_sun_wp[j] = sim_wp.particles[0].xyz\n",
    "    pos_earth_wp[j] = sim_wp.particles[1].xyz\n",
    "    pos_star_wp[j] = sim_wp.particles[2].xyz\n",
    "    pos_planet_wp[j] = sim_wp.particles[3].xyz\n",
    "    \n",
    "    # center of mass of sun and earth \n",
    "    com_wp = sim_wp.calculate_com(last=2)\n",
    "    sun_earth_com_wp[j] = com_wp.xyz\n",
    "    \n",
    "    # center of mass of all objects \n",
    "    com_all_wp = sim_wp.calculate_com()\n",
    "    all_com_wp[j] = com_all_wp.xyz\n",
    "    \n",
    "    # r_star - r_earth vector \n",
    "    r_SE_wp[j] = pos_star_wp[j] - pos_earth_wp[j]\n",
    "    \n",
    "    #length of r_star - r_earth vector in x-y plane\n",
    "    r_SE_xy_wp[j] = np.sqrt(r_SE_wp[j,0]**2 + r_SE_wp[j,1]**2)\n",
    "    \n",
    "    # calculating RA and Dec in (units)\n",
    "    alpha_wp[j] = (r_SE_wp[j,1]/r_SE_wp[j,0])*206264806.24709466\n",
    "    delta_wp[j] = (r_SE_wp[j,2]/r_SE_xy_wp[j])*206264806.24709466"
   ]
  },
  {
   "cell_type": "markdown",
   "id": "f1ff3990",
   "metadata": {},
   "source": [
    "Creating a plot for the positions of the sun and earth"
   ]
  },
  {
   "cell_type": "code",
   "execution_count": 335,
   "id": "d6216cf9",
   "metadata": {},
   "outputs": [
    {
     "data": {
      "image/png": "[encoded data removed]",
      "text/plain": [
       "<Figure size 576x396 with 1 Axes>"
      ]
     },
     "metadata": {},
     "output_type": "display_data"
    }
   ],
   "source": [
    "plt.clf()  \n",
    "\n",
    "# plot style and colour\n",
    "plt.style.use('seaborn')\n",
    "plt.rcParams['axes.facecolor']='whitesmoke'\n",
    "\n",
    "# plot border\n",
    "plt.rcParams[\"axes.edgecolor\"] = '0'\n",
    "plt.rcParams[\"axes.linewidth\"]  = 0.7\n",
    "\n",
    "# plot grid\n",
    "plt.grid(color='0.85')\n",
    "plt.minorticks_on() \n",
    "\n",
    "#################################### plotting data #######################################################\n",
    "# plotting sun and earth positions \n",
    "plt.scatter(pos_sun_wp[:,0], pos_sun_wp[:,1], color='orange', label='Sun', s=550,marker='*') \n",
    "plt.scatter(pos_earth_wp[:,0], pos_earth_wp[:,1], color='dodgerblue', label='Earth', s=55)\n",
    "\n",
    "# plotting data as line \n",
    "#plt.plot(pos_sun_wp[:,0], pos_sun_wp[:,1],color='orange',linewidth=2, markersize=12, label='Sun')\n",
    "#plt.plot(pos_earth_wp[:,0], pos_earth_wp[:,1],color='dodgerblue',linewidth=2, markersize=12, label='Earth')\n",
    "\n",
    "# plotting center of masses\n",
    "#plt.scatter(sun_earth_com_wp[:,0], sun_earth_com_wp[:,1], color='hotpink', label='Sun-Earth COM', s=55) \n",
    "#plt.scatter(all_com_wp[:,0], all_com_wp[:,1], color='red', label='COM', s=55) \n",
    "############################################################################################################ \n",
    "\n",
    "# creating titles \n",
    "plt.title('Sun and Earth Positions (With Planet)',fontsize = 24)             \n",
    "plt.xlabel('X-position',fontsize = 17)                     \n",
    "plt.ylabel('Y-position',fontsize = 17)\n",
    "\n",
    "# creating legend\n",
    "legend=plt.legend(loc=\"upper right\",frameon=True, markerscale=0.75, bbox_to_anchor=(1.25, 0.5))\n",
    "legend.get_frame().set_edgecolor('0.3')\n",
    "legend.get_frame().set_linewidth(1)\n",
    "         \n",
    "plt.show() "
   ]
  },
  {
   "cell_type": "markdown",
   "id": "5f5a65df",
   "metadata": {},
   "source": [
    "Creating a plot for the positions of the star and planet"
   ]
  },
  {
   "cell_type": "code",
   "execution_count": 336,
   "id": "7b8629fd",
   "metadata": {},
   "outputs": [
    {
     "data": {
      "image/png": "[encoded data removed]",
      "text/plain": [
       "<Figure size 576x396 with 1 Axes>"
      ]
     },
     "metadata": {},
     "output_type": "display_data"
    }
   ],
   "source": [
    "plt.clf() \n",
    "\n",
    "# plot style and colour\n",
    "plt.style.use('seaborn')\n",
    "plt.rcParams['axes.facecolor']='whitesmoke'\n",
    "\n",
    "# plot border\n",
    "plt.rcParams[\"axes.edgecolor\"] = '0'\n",
    "plt.rcParams[\"axes.linewidth\"]  = 0.7\n",
    "\n",
    "# plot grid\n",
    "plt.grid(color='0.85')\n",
    "plt.minorticks_on() \n",
    "\n",
    "#################################### plotting data #######################################################\n",
    "# plotting data as a scatter plot\n",
    "#plt.scatter(pos_star_wp[:,0], pos_star_wp[:,1], color='orangered', label='Star', s=55, marker='*') \n",
    "#plt.scatter(pos_planet_wp[:,0], pos_planet_wp[:,1], color='lightseagreen', s=55, label='Planet') \n",
    "\n",
    "# plotting data as lines \n",
    "plt.plot(pos_star_wp[:,0], pos_star_wp[:,1], color='orangered',linewidth=2, markersize=12, label='Star')\n",
    "plt.plot(pos_planet_wp[:,0], pos_planet_wp[:,1], color='lightseagreen',linewidth=2, markersize=12, label='Planet', linestyle='dashed')\n",
    "\n",
    "############################################################################################################ \n",
    "\n",
    "# creating titles \n",
    "plt.title('Star and Planet Positions',fontsize = 24)             \n",
    "plt.xlabel('X-position',fontsize = 17)                     \n",
    "plt.ylabel('Y-position',fontsize = 17)\n",
    "\n",
    "# creating legend\n",
    "legend=plt.legend(loc=\"upper right\",frameon=True, markerscale=1, bbox_to_anchor=(1.25, 0.5))\n",
    "legend.get_frame().set_edgecolor('0.3')\n",
    "legend.get_frame().set_linewidth(1)\n",
    "         \n",
    "plt.show() "
   ]
  },
  {
   "cell_type": "markdown",
   "id": "b6708527",
   "metadata": {},
   "source": [
    "## Comparing astrometric signals"
   ]
  },
  {
   "cell_type": "markdown",
   "id": "e2f20a0d",
   "metadata": {},
   "source": [
    "Creating a plot for the astrometric signals of the simulation with and without the planets to look at their simularities/differences "
   ]
  },
  {
   "cell_type": "code",
   "execution_count": 337,
   "id": "010b207e",
   "metadata": {},
   "outputs": [
    {
     "data": {
      "image/png": "[encoded data removed]",
      "text/plain": [
       "<Figure size 576x396 with 1 Axes>"
      ]
     },
     "metadata": {},
     "output_type": "display_data"
    }
   ],
   "source": [
    "plt.clf()  \n",
    "\n",
    "# plot style and colour\n",
    "plt.style.use('seaborn')\n",
    "plt.rcParams['axes.facecolor']='whitesmoke'\n",
    "\n",
    "# plot border\n",
    "plt.rcParams[\"axes.edgecolor\"] = '0'\n",
    "plt.rcParams[\"axes.linewidth\"]  = 0.7\n",
    "\n",
    "# plot grid\n",
    "plt.grid(color='0.85')\n",
    "plt.minorticks_on() \n",
    "\n",
    "# set titles \n",
    "plt.title('Astrometric Signal',fontsize = 24)             \n",
    "plt.xlabel('Right ascension [mas]',fontsize = 17)                     \n",
    "plt.ylabel('Declination [mas]',fontsize = 17)\n",
    "\n",
    "# setting x and y limits \n",
    "#plt.xlim([-20, 270])\n",
    "#plt.ylim([-0.30e15,0.30e15])\n",
    "\n",
    "#################################### plotting data #######################################################\n",
    "# plot data as scatter\n",
    "#plt.scatter(alpha, delta, color='limegreen', label='Without planet', s=55) \n",
    "#plt.scatter(alpha_wp, delta_wp, color='deeppink', label='With planet', s=55) \n",
    "\n",
    "# plotting data as lines \n",
    "plt.plot(alpha, delta, color='limegreen',linewidth=2, markersize=12, label='Without planet')\n",
    "plt.plot(alpha_wp, delta_wp, color='deeppink',linewidth=2, markersize=12, label='With planet')\n",
    "\n",
    "############################################################################################################ \n",
    "  \n",
    "# plot legend\n",
    "legend=plt.legend(loc=\"lower right\",frameon=True, markerscale = 1, bbox_to_anchor=(1.25, 0.5))\n",
    "legend.get_frame().set_edgecolor('0.3')\n",
    "legend.get_frame().set_linewidth(1)\n",
    "\n",
    "plt.show() "
   ]
  },
  {
   "cell_type": "markdown",
   "id": "4ac619b3",
   "metadata": {},
   "source": [
    "# Reproducing astrometric signal using equations 3.22 and 3.23"
   ]
  },
  {
   "cell_type": "markdown",
   "id": "a822e79e",
   "metadata": {},
   "source": [
    "#### Setting the planets "
   ]
  },
  {
   "cell_type": "code",
   "execution_count": 342,
   "id": "37454d89",
   "metadata": {},
   "outputs": [
    {
     "name": "stdout",
     "output_type": "stream",
     "text": [
      "The number of planets is: 2\n"
     ]
    }
   ],
   "source": [
    "planets = ['Earth', 'Planet from Figure 3.1']\n",
    "\n",
    "N = len(planets)\n",
    "print('The number of planets is:',N)"
   ]
  },
  {
   "cell_type": "markdown",
   "id": "4254dd99",
   "metadata": {},
   "source": [
    "# Thiele-Innes Constants"
   ]
  },
  {
   "cell_type": "markdown",
   "id": "3f6011a2",
   "metadata": {},
   "source": [
    "#### Setting constants needed "
   ]
  },
  {
   "cell_type": "markdown",
   "id": "6a55ab6c",
   "metadata": {},
   "source": [
    "## <span style='background :red' > <span style='color:white'> Set conditions properly  </span>\n",
    "\n",
    " </span>"
   ]
  },
  {
   "cell_type": "code",
   "execution_count": 396,
   "id": "1ef3daf5",
   "metadata": {},
   "outputs": [],
   "source": [
    "a = [1,0.6]                         # semi-major axis in units of AU\n",
    "omega = [1.99330266505,0]           # argument of perihelion\n",
    "OMEGA = [-0.1965352438813,0]        # longitude of the ascending node \n",
    "i = [0,0]                           # orbital inclination (rad)"
   ]
  },
  {
   "cell_type": "code",
   "execution_count": 397,
   "id": "cec85944",
   "metadata": {},
   "outputs": [],
   "source": [
    "A = np.zeros((N,1))\n",
    "B = np.zeros((N,1))\n",
    "F = np.zeros((N,1))\n",
    "G = np.zeros((N,1))\n",
    "C = np.zeros((N,1))\n",
    "H = np.zeros((N,1))"
   ]
  },
  {
   "cell_type": "code",
   "execution_count": 398,
   "id": "0d65e96f",
   "metadata": {},
   "outputs": [],
   "source": [
    "k = 0\n",
    "for k in range(N):\n",
    "    \n",
    "    A[k] = a[k]*(np.cos(omega[k])*np.cos(OMEGA[k])-np.sin(omega[k])*np.sin(OMEGA[k])*np.cos(i[k]))\n",
    "    \n",
    "    B[k] = a[k]*(np.cos(omega[k])*np.sin(OMEGA[k])+np.sin(omega[k])*np.cos(OMEGA[k])*np.cos(i[k]))\n",
    "    \n",
    "    F[k] = a[k]*(-np.sin(omega[k])*np.cos(OMEGA[k])-np.cos(omega[k])*np.sin(OMEGA[k])*np.cos(i[k]))\n",
    "    \n",
    "    G[k] = a[k]*(-np.sin(omega[k])*np.sin(OMEGA[k])+np.cos(omega[k])*np.cos(OMEGA[k])*np.cos(i[k]))\n",
    "    \n",
    "    C[k] = a[k]*np.sin(omega[k])*np.sin(i[k])\n",
    "    \n",
    "    H[k] = a[k]*np.cos(omega[k])*np.sin(i[k])"
   ]
  },
  {
   "cell_type": "markdown",
   "id": "7d711c47",
   "metadata": {},
   "source": [
    "### Wright & Howard state that the Thiele-Innes constants have the identity $a^2=A^2+B^2+C^2=F^2+G^2+H^2$"
   ]
  },
  {
   "cell_type": "markdown",
   "id": "8c151bf8",
   "metadata": {},
   "source": [
    "#### Check for earth:"
   ]
  },
  {
   "cell_type": "code",
   "execution_count": 399,
   "id": "2c1eca6f",
   "metadata": {},
   "outputs": [
    {
     "name": "stdout",
     "output_type": "stream",
     "text": [
      "a^2 for earth is equal to: 1 AU^2\n"
     ]
    }
   ],
   "source": [
    "print('a^2 for earth is equal to:',a[0]**2, 'AU^2')"
   ]
  },
  {
   "cell_type": "code",
   "execution_count": 400,
   "id": "81fecb55",
   "metadata": {},
   "outputs": [
    {
     "name": "stdout",
     "output_type": "stream",
     "text": [
      "A^2+B^2+C^2 [1.] [units]^2\n"
     ]
    }
   ],
   "source": [
    "print('A^2+B^2+C^2',A[0]**2+B[0]**2+C[0]**2,'[units]^2')"
   ]
  },
  {
   "cell_type": "code",
   "execution_count": 401,
   "id": "200092d9",
   "metadata": {},
   "outputs": [
    {
     "name": "stdout",
     "output_type": "stream",
     "text": [
      "F^2+G^2+H^2 [1.] [units]^2\n"
     ]
    }
   ],
   "source": [
    "print('F^2+G^2+H^2',F[0]**2+G[0]**2+H[0]**2,'[units]^2')"
   ]
  },
  {
   "cell_type": "markdown",
   "id": "f58f72b8",
   "metadata": {},
   "source": [
    "#### Check for the other planet:"
   ]
  },
  {
   "cell_type": "code",
   "execution_count": 402,
   "id": "0a104933",
   "metadata": {},
   "outputs": [
    {
     "name": "stdout",
     "output_type": "stream",
     "text": [
      "a^2 for earth is equal to: 0.36 AU^2\n"
     ]
    }
   ],
   "source": [
    "print('a^2 for earth is equal to:',a[1]**2, 'AU^2')"
   ]
  },
  {
   "cell_type": "code",
   "execution_count": 403,
   "id": "39615ad5",
   "metadata": {},
   "outputs": [
    {
     "name": "stdout",
     "output_type": "stream",
     "text": [
      "A^2+B^2+C^2 [0.36] [units]^2\n"
     ]
    }
   ],
   "source": [
    "print('A^2+B^2+C^2',A[1]**2+B[1]**2+C[1]**2,'[units]^2')"
   ]
  },
  {
   "cell_type": "code",
   "execution_count": 404,
   "id": "87bf9e15",
   "metadata": {},
   "outputs": [
    {
     "name": "stdout",
     "output_type": "stream",
     "text": [
      "F^2+G^2+H^2 [0.36] [units]^2\n"
     ]
    }
   ],
   "source": [
    "print('F^2+G^2+H^2',F[1]**2+G[1]**2+H[1]**2,'[units]^2')"
   ]
  },
  {
   "cell_type": "markdown",
   "id": "399c2b37",
   "metadata": {},
   "source": [
    "## Elliptical rectangular coordinates"
   ]
  },
  {
   "cell_type": "markdown",
   "id": "b57c301b",
   "metadata": {},
   "source": [
    "#### Calculating the period $T$ using the equation: $T \\propto a^{3/2}$ (Keplers third law)"
   ]
  },
  {
   "cell_type": "code",
   "execution_count": 352,
   "id": "5a580a20",
   "metadata": {},
   "outputs": [],
   "source": [
    "T = np.zeros((N,1))"
   ]
  },
  {
   "cell_type": "code",
   "execution_count": 353,
   "id": "4b1c7f9b",
   "metadata": {},
   "outputs": [
    {
     "name": "stdout",
     "output_type": "stream",
     "text": [
      "The period of Earth is [1.] years\n",
      "The period of Planet from Figure 3.1 is [0.464758] years\n"
     ]
    }
   ],
   "source": [
    "for ii in range(N): \n",
    "    T[ii] = a[ii]**(3/2)\n",
    "    print('The period of',planets[ii],'is',T[ii], 'years')"
   ]
  },
  {
   "cell_type": "markdown",
   "id": "24906902",
   "metadata": {},
   "source": [
    "#### Calculating the mean motion $n$ using the equation: $n=\\frac{2\\pi}{T}$ (Solar System Dynamics equation 2.25)"
   ]
  },
  {
   "cell_type": "code",
   "execution_count": 354,
   "id": "3b5d1f51",
   "metadata": {},
   "outputs": [],
   "source": [
    "n = np.zeros((N,1))"
   ]
  },
  {
   "cell_type": "code",
   "execution_count": 355,
   "id": "bbdae2f3",
   "metadata": {},
   "outputs": [
    {
     "name": "stdout",
     "output_type": "stream",
     "text": [
      "The value of n for Planet from Figure 3.1 is [6.28318531]\n",
      "The value of n for Planet from Figure 3.1 is [13.51926225]\n"
     ]
    }
   ],
   "source": [
    "for jj in range(N):\n",
    "    n[jj] = (2*np.pi)/T[jj]\n",
    "    print('The value of n for',planets[ii],'is',n[jj])"
   ]
  },
  {
   "cell_type": "markdown",
   "id": "8a96a4f3",
   "metadata": {},
   "source": [
    "#### Setting the time of pericentre passage for both objects "
   ]
  },
  {
   "cell_type": "markdown",
   "id": "cee4112d",
   "metadata": {},
   "source": [
    "## <span style='background :red' > <span style='color:white'> Set $\\tau$ properly  </span>\n",
    "\n",
    " </span>"
   ]
  },
  {
   "cell_type": "code",
   "execution_count": 356,
   "id": "ea33786e",
   "metadata": {},
   "outputs": [],
   "source": [
    "tau = [0,0]  "
   ]
  },
  {
   "cell_type": "markdown",
   "id": "41907ac3",
   "metadata": {},
   "source": [
    "#### Calculating mean anomaly $M$ using the equation: $M=n(t-\\tau)$ (Solar System Dynamics equation 2.39)"
   ]
  },
  {
   "cell_type": "markdown",
   "id": "7970cadd",
   "metadata": {},
   "source": [
    "## <span style='background :red' > <span style='color:white'> Calculate $M$ properly  </span>\n",
    "\n",
    " </span>"
   ]
  },
  {
   "cell_type": "code",
   "execution_count": 357,
   "id": "008a5b8f",
   "metadata": {},
   "outputs": [],
   "source": [
    "M = np.zeros((m,2))"
   ]
  },
  {
   "cell_type": "code",
   "execution_count": 358,
   "id": "8dbb05e7",
   "metadata": {},
   "outputs": [],
   "source": [
    "for jjj in range(m):\n",
    "    \n",
    "    M[:,0] = n[0]\n",
    "    M[:,1] = n[1]"
   ]
  },
  {
   "cell_type": "markdown",
   "id": "75282d9b",
   "metadata": {},
   "source": [
    "#### Setting the ellipticity of the orbits "
   ]
  },
  {
   "cell_type": "code",
   "execution_count": 360,
   "id": "e01357a6",
   "metadata": {},
   "outputs": [],
   "source": [
    "e = [0.0167,0.2]                    "
   ]
  },
  {
   "cell_type": "markdown",
   "id": "44f9df68",
   "metadata": {},
   "source": [
    "#### Calculating the Eccentric anomaly $E$ using rebound"
   ]
  },
  {
   "cell_type": "code",
   "execution_count": 361,
   "id": "5387461e",
   "metadata": {},
   "outputs": [],
   "source": [
    "E = np.zeros((m,2))"
   ]
  },
  {
   "cell_type": "code",
   "execution_count": 362,
   "id": "42753cd7",
   "metadata": {},
   "outputs": [],
   "source": [
    "v = 0\n",
    "for v in range(m): \n",
    "    E[:,0] = rebound.M_to_E(e[0],M[v,0]) #(e,M)\n",
    "    E[:,1] = rebound.M_to_E(e[1],M[v,1]) #(e,M)"
   ]
  },
  {
   "cell_type": "markdown",
   "id": "436d13d5",
   "metadata": {},
   "source": [
    "#### Calculating the elliptical rectangular coordinates using the equations $X=\\cos(E(t))-e$ and $Y=\\sqrt{(1-e^2)}\\sin(E(t))$ (Exoplanet handbook equations 3.21)"
   ]
  },
  {
   "cell_type": "code",
   "execution_count": 364,
   "id": "de7cd6d8",
   "metadata": {},
   "outputs": [],
   "source": [
    "X = np.zeros((m,2))\n",
    "Y = np.zeros((m,2))"
   ]
  },
  {
   "cell_type": "code",
   "execution_count": 365,
   "id": "329d0e08",
   "metadata": {},
   "outputs": [],
   "source": [
    "g = 0\n",
    "for g in range(m): \n",
    "    X[:,0] = np.cos(E[g,0]) - e[0]\n",
    "    X[:,1] = np.cos(E[g,1]) - e[1]\n",
    "    \n",
    "    Y[:,0] = np.sqrt(1-e[0]**2) * np.sin(E[g,0])\n",
    "    Y[:,1] = np.sqrt(1-e[1]**2) * np.sin(E[g,1])"
   ]
  },
  {
   "cell_type": "markdown",
   "id": "cd3433b4",
   "metadata": {},
   "source": [
    "## $\\Pi$"
   ]
  },
  {
   "cell_type": "markdown",
   "id": "df9283c6",
   "metadata": {},
   "source": [
    "#### $r_x,r_y$ and $r_z$ are the cartesian components of the observer position w.r.t the solar system barycentre. The observer is the <span style='background :red' > <span style='color:white'> Earth?  </span> </span>"
   ]
  },
  {
   "cell_type": "code",
   "execution_count": 368,
   "id": "03ac9478",
   "metadata": {},
   "outputs": [],
   "source": [
    "r = pos_earth_wp"
   ]
  },
  {
   "cell_type": "markdown",
   "id": "b3f1a300",
   "metadata": {},
   "source": [
    "Setting $\\alpha$ and $\\delta$"
   ]
  },
  {
   "cell_type": "markdown",
   "id": "96a8dd67",
   "metadata": {},
   "source": [
    "## <span style='background :red' > <span style='color:white'> Set values properly  </span>\n",
    "\n",
    " </span>"
   ]
  },
  {
   "cell_type": "code",
   "execution_count": 370,
   "id": "4d356981",
   "metadata": {},
   "outputs": [],
   "source": [
    "alpha1 = 1\n",
    "delta1 = 1"
   ]
  },
  {
   "cell_type": "markdown",
   "id": "923e8ccc",
   "metadata": {},
   "source": [
    "#### Calculating $\\Pi_{\\alpha,t}$ and $\\Pi_{\\delta,t}$ using equation 3.24 from the Exoplanet handbook"
   ]
  },
  {
   "cell_type": "code",
   "execution_count": 504,
   "id": "6be4bfef",
   "metadata": {},
   "outputs": [],
   "source": [
    "PI = np.zeros((m,2))"
   ]
  },
  {
   "cell_type": "code",
   "execution_count": 505,
   "id": "559917c7",
   "metadata": {},
   "outputs": [],
   "source": [
    "u = 0\n",
    "for u in range(m):\n",
    "    PI[u,0] = r[u,0]*np.sin(alpha1) - r[u,1]*np.cos(alpha1)\n",
    "    PI[u,1] = (r[u,0]*np.cos(alpha1)+r[u,1]*np.sin(alpha1))*np.sin(delta1) - r[u,2]*np.cos(delta1)"
   ]
  },
  {
   "cell_type": "markdown",
   "id": "1f0d655a",
   "metadata": {},
   "source": [
    "## Final equations "
   ]
  },
  {
   "cell_type": "markdown",
   "id": "bb863d0f",
   "metadata": {},
   "source": [
    "## <span style='background :red' > <span style='color:white'> Overall shorten code  </span>\n",
    "\n",
    " </span>"
   ]
  },
  {
   "cell_type": "markdown",
   "id": "8b136b85",
   "metadata": {},
   "source": [
    "#### Calculate the sums $\\sum_{j=0}^{n_p}[B_jX_{j,t}+G_jY_{j,t}]$ and $\\sum_{j=0}^{n_p}[A_jX_{j,t}+F_jY_{j,t}]$"
   ]
  },
  {
   "cell_type": "code",
   "execution_count": 507,
   "id": "24e99eaf",
   "metadata": {},
   "outputs": [],
   "source": [
    "sum_elements = np.zeros((m,2))"
   ]
  },
  {
   "cell_type": "code",
   "execution_count": 508,
   "id": "0d604aa6",
   "metadata": {},
   "outputs": [],
   "source": [
    "o = 0\n",
    "for o in range(m):\n",
    "    sum_elements[o,0] = B[0]*X[o,0] + G[0]*Y[o,0] + B[1]*X[o,1] + G[1]*Y[o,1]\n",
    "    sum_elements[o,1] = A[0]*X[o,0] + F[0]*Y[o,0] + A[1]*X[o,1] + F[1]*Y[o,1]"
   ]
  },
  {
   "cell_type": "code",
   "execution_count": 510,
   "id": "6d6fbe66",
   "metadata": {},
   "outputs": [],
   "source": [
    "sum_alpha = np.sum(sum_elements[:,0])"
   ]
  },
  {
   "cell_type": "code",
   "execution_count": 522,
   "id": "c1e0c930",
   "metadata": {},
   "outputs": [],
   "source": [
    "sum_delta = np.sum(sum_elements[:,1])"
   ]
  },
  {
   "cell_type": "markdown",
   "id": "e24f870d",
   "metadata": {},
   "source": [
    "#### Setting constants "
   ]
  },
  {
   "cell_type": "markdown",
   "id": "6bfd1199",
   "metadata": {},
   "source": [
    "## <span style='background :red' > <span style='color:white'> Set values properly  </span>\n",
    "\n",
    " </span>"
   ]
  },
  {
   "cell_type": "code",
   "execution_count": 514,
   "id": "725647ec",
   "metadata": {},
   "outputs": [],
   "source": [
    "prop_RA = 0             # proper motion in RA direction\n",
    "prop_DEC = 0             # proper motion in DEC direction \n",
    "\n",
    "parallax = 0\n",
    "change_RA = 0\n",
    "change_DEC = 0\n",
    "\n",
    "\n",
    "t1 = 0\n",
    "t0 = 0"
   ]
  },
  {
   "cell_type": "markdown",
   "id": "8fe5c13a",
   "metadata": {},
   "source": [
    "#### Final equations from sum +  \"other\" $\\Delta\\alpha_0\\cos\\delta+\\varpi\\Pi_{\\alpha,t}+\\mu_\\alpha(t-t_0)$ and $\\Delta\\delta_0+\\varpi\\Pi_{\\delta,t}+\\mu_\\delta(t-t_0)$"
   ]
  },
  {
   "cell_type": "code",
   "execution_count": 516,
   "id": "962c342c",
   "metadata": {},
   "outputs": [],
   "source": [
    "three22 = np.zeros((m,1))\n",
    "three23 = np.zeros((m,1))"
   ]
  },
  {
   "cell_type": "code",
   "execution_count": 517,
   "id": "6fd06316",
   "metadata": {},
   "outputs": [],
   "source": [
    "d = 0\n",
    "for d in range(m):\n",
    "    three22[d] = sum_alpha + change_RA*np.cos(delta1) + parallax*PI[d,0] + prop_RA\n",
    "    three23[d] = sum_delta + change_DEC + parallax*PI[d,1] + prop_DEC"
   ]
  },
  {
   "cell_type": "markdown",
   "id": "b9b56ffc",
   "metadata": {},
   "source": [
    "#### Plot "
   ]
  },
  {
   "cell_type": "code",
   "execution_count": 520,
   "id": "cfa83d9e",
   "metadata": {},
   "outputs": [
    {
     "data": {
      "image/png": "[encoded data removed]",
      "text/plain": [
       "<Figure size 576x396 with 1 Axes>"
      ]
     },
     "metadata": {},
     "output_type": "display_data"
    }
   ],
   "source": [
    "plt.clf()  \n",
    "\n",
    "# plot style and colour\n",
    "plt.style.use('seaborn')\n",
    "plt.rcParams['axes.facecolor']='whitesmoke'\n",
    "\n",
    "# plot border\n",
    "plt.rcParams[\"axes.edgecolor\"] = '0'\n",
    "plt.rcParams[\"axes.linewidth\"]  = 0.7\n",
    "\n",
    "# plot grid\n",
    "plt.grid(color='0.85')\n",
    "plt.minorticks_on() \n",
    "\n",
    "# set titles \n",
    "plt.title('Astrometric Signal',fontsize = 24)             \n",
    "plt.xlabel('Right ascension [mas]',fontsize = 17)                     \n",
    "plt.ylabel('Declination [mas]',fontsize = 17)\n",
    "\n",
    "# setting x and y limits \n",
    "#plt.xlim([-20, 270])\n",
    "#plt.ylim([-0.30e15,0.30e15])\n",
    "\n",
    "#################################### plotting data #######################################################\n",
    "# plot data as scatter\n",
    "plt.scatter(three22,three23, color='deeppink', s=55) \n",
    "\n",
    "# plotting data as lines \n",
    "plt.plot(three22, three23, color='deeppink',linewidth=2, markersize=12)\n",
    "\n",
    "\n",
    "############################################################################################################ \n",
    "\n",
    "\n",
    "plt.show() "
   ]
  }
 ],
 "metadata": {
  "kernelspec": {
   "display_name": "Python 3 (ipykernel)",
   "language": "python",
   "name": "python3"
  },
  "language_info": {
   "codemirror_mode": {
    "name": "ipython",
    "version": 3
   },
   "file_extension": ".py",
   "mimetype": "text/x-python",
   "name": "python",
   "nbconvert_exporter": "python",
   "pygments_lexer": "ipython3",
   "version": "3.9.7"
  }
 },
 "nbformat": 4,
 "nbformat_minor": 5
}
