{
 "cells": [
  {
   "cell_type": "code",
   "execution_count": 113,
   "id": "323f7b47",
   "metadata": {},
   "outputs": [],
   "source": [
    "import sympy as sp\n",
    "from matplotlib import pyplot as plt\n",
    "import numpy as np\n",
    "\n",
    "from sympy import init_printing\n",
    "init_printing()\n",
    "\n",
    "%matplotlib inline\n",
    "from sympy import *"
   ]
  },
  {
   "cell_type": "code",
   "execution_count": 114,
   "id": "751807e7",
   "metadata": {},
   "outputs": [],
   "source": [
    "x, y, z, d, t = symbols('x y z d t')\n",
    "x_dot = sp.symbols(r\"\\dot{x}\",real= True)\n",
    "y_dot = sp.symbols(r\"\\dot{y}\",real= True)\n",
    "z_dot = sp.symbols(r\"\\dot{z}\",real= True)\n",
    "d_dot = sp.symbols(r\"\\dot{d}\",real= True)\n",
    "\n",
    "alpha = sp.symbols(\"alpha\"   ,real=True)\n",
    "delta = sp.symbols(\"delta\"   ,real=True)\n",
    "alpha_dot = sp.symbols(r\"\\dot{\\alpha}\",real= True)\n",
    "delta_dot = sp.symbols(r\"\\dot{\\delta}\",real= True)\n",
    "\n",
    "vx = sp.symbols(\"v_x\", real=True)\n",
    "vy = sp.symbols(\"v_y\", real=True)\n",
    "vz = sp.symbols(\"v_z\", real=True)\n",
    "\n",
    "k, l, m, n, o, p, q, r, s = symbols('k l m n o p q r s')"
   ]
  },
  {
   "cell_type": "markdown",
   "id": "4905a92e",
   "metadata": {},
   "source": [
    "<span style=\"color:blue\"> $A=\\begin{bmatrix} x \\\\ y  \\\\z\\end{bmatrix}$ =$d$$\\begin{bmatrix} \\cos\\alpha\\cos\\delta  \\\\ \\sin\\alpha\\cos\\delta  \\\\ \\sin\\delta  \\end{bmatrix}$ </span> "
   ]
  },
  {
   "cell_type": "code",
   "execution_count": 175,
   "id": "3ff4590b",
   "metadata": {},
   "outputs": [
    {
     "data": {
      "text/latex": [
       "$\\displaystyle \\left[\\begin{matrix}d \\cos{\\left(\\alpha \\right)} \\cos{\\left(\\delta \\right)}\\\\d \\sin{\\left(\\alpha \\right)} \\cos{\\left(\\delta \\right)}\\\\d \\sin{\\left(\\delta \\right)}\\end{matrix}\\right]$"
      ],
      "text/plain": [
       "⎡d⋅cos(α)⋅cos(δ)⎤\n",
       "⎢               ⎥\n",
       "⎢d⋅sin(α)⋅cos(δ)⎥\n",
       "⎢               ⎥\n",
       "⎣   d⋅sin(δ)    ⎦"
      ]
     },
     "execution_count": 175,
     "metadata": {},
     "output_type": "execute_result"
    }
   ],
   "source": [
    "x = d*cos(alpha)*cos(delta)\n",
    "y = d*sin(alpha)*cos(delta)\n",
    "z = d*sin(delta)\n",
    "\n",
    "A = Matrix([[x], \n",
    "            [y], \n",
    "            [z]])\n",
    "\n",
    "A"
   ]
  },
  {
   "cell_type": "markdown",
   "id": "216c5eb5",
   "metadata": {},
   "source": [
    "<span style=\"color:blue\"> $B=\\begin{bmatrix} v_x \\\\ v_y  \\\\v_z\\end{bmatrix}$ =$\\frac{d}{dt}A$  </span> "
   ]
  },
  {
   "cell_type": "code",
   "execution_count": 178,
   "id": "896c1124",
   "metadata": {},
   "outputs": [],
   "source": [
    "a = diff(d_dot     * A.row(0), d)\n",
    "b = diff(alpha_dot * A.row(0), alpha)\n",
    "c = diff(delta_dot * A.row(0), delta)\n",
    "\n",
    "e = diff(d_dot     * A.row(1), d)\n",
    "f = diff(alpha_dot * A.row(1), alpha)\n",
    "g = diff(delta_dot * A.row(1), delta)\n",
    "\n",
    "h = diff(d_dot     * A.row(2), d)\n",
    "i = diff(alpha_dot * A.row(2), alpha)\n",
    "j = diff(delta_dot * A.row(2), delta)\n",
    "\n",
    "B = Matrix([[a , b , c],\n",
    "            [e , f , g],\n",
    "            [h , i , j]])"
   ]
  },
  {
   "cell_type": "markdown",
   "id": "9e8b8771",
   "metadata": {},
   "source": [
    "<span style=\"color:blue\"> $A=\\begin{bmatrix} v_x \\\\ v_y  \\\\v_z\\end{bmatrix} =M(d,\\alpha, \\delta)$$\\begin{bmatrix} \\dot{d}  \\\\ \\dot{\\alpha}  \\\\ \\dot{\\delta}  \\end{bmatrix}$ </span> "
   ]
  },
  {
   "cell_type": "code",
   "execution_count": 180,
   "id": "21573c95",
   "metadata": {},
   "outputs": [],
   "source": [
    "M_empty = Matrix([[k,l,m],\n",
    "                  [n,o,p],\n",
    "                  [q,r,s]])\n",
    "\n",
    "C = Matrix([[d_dot],\n",
    "            [alpha_dot],\n",
    "            [delta_dot]])\n",
    "\n",
    "MC = M_empty * C"
   ]
  },
  {
   "cell_type": "markdown",
   "id": "e24a9db1",
   "metadata": {},
   "source": [
    "<span style=\"color:blue\"> $MC=\\begin{bmatrix} k\\dot{d} + m\\dot{\\alpha} + l\\dot{\\delta} \\\\ \n",
    "                                              n\\dot{d} + p\\dot{\\alpha} + o\\dot{\\delta}  \\\\\n",
    "                                              q\\dot{d} + s\\dot{\\alpha} + r\\dot{\\delta}  \\end{bmatrix} \n",
    "                   = \\begin{bmatrix} \\dot{d}\\cos\\alpha\\cos\\delta -d\\dot{\\alpha} \\sin\\alpha\\cos\\delta- d\\dot{\\delta} \\sin\\delta\\cos\\alpha  \\\\ \n",
    "                                      \\dot{d}\\sin\\alpha\\cos\\delta +d\\dot{\\alpha} \\cos\\alpha\\cos\\delta- d\\dot{\\delta} \\sin\\delta\\sin\\alpha  \\\\ \n",
    "                                       \\dot{d}\\sin\\delta + \\dot{\\delta} \\cos\\delta  \\end{bmatrix}$ </span> "
   ]
  },
  {
   "cell_type": "code",
   "execution_count": 181,
   "id": "88c8011d",
   "metadata": {},
   "outputs": [],
   "source": [
    "a_ = B.row(0).col(0)/d_dot\n",
    "b_ = B.row(0).col(1)/alpha_dot\n",
    "c_ = B.row(0).col(2)/delta_dot\n",
    "\n",
    "e_ = B.row(1).col(0)/d_dot\n",
    "f_ = B.row(1).col(1)/alpha_dot\n",
    "g_ = B.row(1).col(2)/delta_dot\n",
    "\n",
    "h_ = B.row(2).col(0)/d_dot\n",
    "i_ = B.row(2).col(1)/alpha_dot\n",
    "j_ = B.row(2).col(2)/delta_dot"
   ]
  },
  {
   "cell_type": "code",
   "execution_count": 182,
   "id": "ebf8137e",
   "metadata": {},
   "outputs": [
    {
     "data": {
      "text/latex": [
       "$\\displaystyle \\left[\\begin{matrix}\\cos{\\left(\\alpha \\right)} \\cos{\\left(\\delta \\right)} & - d \\sin{\\left(\\alpha \\right)} \\cos{\\left(\\delta \\right)} & - d \\sin{\\left(\\delta \\right)} \\cos{\\left(\\alpha \\right)}\\\\\\sin{\\left(\\alpha \\right)} \\cos{\\left(\\delta \\right)} & d \\cos{\\left(\\alpha \\right)} \\cos{\\left(\\delta \\right)} & - d \\sin{\\left(\\alpha \\right)} \\sin{\\left(\\delta \\right)}\\\\\\sin{\\left(\\delta \\right)} & 0 & d \\cos{\\left(\\delta \\right)}\\end{matrix}\\right]$"
      ],
      "text/plain": [
       "⎡cos(α)⋅cos(δ)  -d⋅sin(α)⋅cos(δ)  -d⋅sin(δ)⋅cos(α)⎤\n",
       "⎢                                                 ⎥\n",
       "⎢sin(α)⋅cos(δ)  d⋅cos(α)⋅cos(δ)   -d⋅sin(α)⋅sin(δ)⎥\n",
       "⎢                                                 ⎥\n",
       "⎣   sin(δ)             0              d⋅cos(δ)    ⎦"
      ]
     },
     "execution_count": 182,
     "metadata": {},
     "output_type": "execute_result"
    }
   ],
   "source": [
    "M = Matrix([[a_, b_, c_],\n",
    "            [e_, f_, g_],\n",
    "            [h_, i_, j_]])\n",
    "M"
   ]
  },
  {
   "cell_type": "markdown",
   "id": "7f9a877c",
   "metadata": {},
   "source": [
    "<span style=\"color:blue\"> $D =[M(d,\\alpha,\\delta)]^{-1}$ </span> "
   ]
  },
  {
   "cell_type": "code",
   "execution_count": 183,
   "id": "e99a23df",
   "metadata": {},
   "outputs": [
    {
     "data": {
      "text/latex": [
       "$\\displaystyle \\left[\\begin{matrix}\\frac{\\cos{\\left(\\alpha \\right)} \\cos{\\left(\\delta \\right)}}{\\sin^{2}{\\left(\\alpha \\right)} \\sin^{2}{\\left(\\delta \\right)} + \\sin^{2}{\\left(\\alpha \\right)} \\cos^{2}{\\left(\\delta \\right)} + \\sin^{2}{\\left(\\delta \\right)} \\cos^{2}{\\left(\\alpha \\right)} + \\cos^{2}{\\left(\\alpha \\right)} \\cos^{2}{\\left(\\delta \\right)}} & \\frac{\\sin{\\left(\\alpha \\right)} \\cos{\\left(\\delta \\right)}}{\\sin^{2}{\\left(\\alpha \\right)} \\sin^{2}{\\left(\\delta \\right)} + \\sin^{2}{\\left(\\alpha \\right)} \\cos^{2}{\\left(\\delta \\right)} + \\sin^{2}{\\left(\\delta \\right)} \\cos^{2}{\\left(\\alpha \\right)} + \\cos^{2}{\\left(\\alpha \\right)} \\cos^{2}{\\left(\\delta \\right)}} & \\frac{\\sin{\\left(\\delta \\right)}}{\\sin^{2}{\\left(\\delta \\right)} + \\cos^{2}{\\left(\\delta \\right)}}\\\\- \\frac{\\sin{\\left(\\alpha \\right)}}{d \\sin^{2}{\\left(\\alpha \\right)} \\cos{\\left(\\delta \\right)} + d \\cos^{2}{\\left(\\alpha \\right)} \\cos{\\left(\\delta \\right)}} & \\frac{\\cos{\\left(\\alpha \\right)}}{d \\sin^{2}{\\left(\\alpha \\right)} \\cos{\\left(\\delta \\right)} + d \\cos^{2}{\\left(\\alpha \\right)} \\cos{\\left(\\delta \\right)}} & 0\\\\- \\frac{\\sin{\\left(\\delta \\right)} \\cos{\\left(\\alpha \\right)}}{d \\sin^{2}{\\left(\\alpha \\right)} \\sin^{2}{\\left(\\delta \\right)} + d \\sin^{2}{\\left(\\alpha \\right)} \\cos^{2}{\\left(\\delta \\right)} + d \\sin^{2}{\\left(\\delta \\right)} \\cos^{2}{\\left(\\alpha \\right)} + d \\cos^{2}{\\left(\\alpha \\right)} \\cos^{2}{\\left(\\delta \\right)}} & - \\frac{\\sin{\\left(\\alpha \\right)} \\sin{\\left(\\delta \\right)}}{d \\sin^{2}{\\left(\\alpha \\right)} \\sin^{2}{\\left(\\delta \\right)} + d \\sin^{2}{\\left(\\alpha \\right)} \\cos^{2}{\\left(\\delta \\right)} + d \\sin^{2}{\\left(\\delta \\right)} \\cos^{2}{\\left(\\alpha \\right)} + d \\cos^{2}{\\left(\\alpha \\right)} \\cos^{2}{\\left(\\delta \\right)}} & \\frac{\\cos{\\left(\\delta \\right)}}{d \\sin^{2}{\\left(\\delta \\right)} + d \\cos^{2}{\\left(\\delta \\right)}}\\end{matrix}\\right]$"
      ],
      "text/plain": [
       "⎡                                cos(α)⋅cos(δ)                                \n",
       "⎢    ─────────────────────────────────────────────────────────────────────    \n",
       "⎢       2       2         2       2         2       2         2       2       \n",
       "⎢    sin (α)⋅sin (δ) + sin (α)⋅cos (δ) + sin (δ)⋅cos (α) + cos (α)⋅cos (δ)    \n",
       "⎢                                                                             \n",
       "⎢                                   -sin(α)                                   \n",
       "⎢                     ───────────────────────────────────                     \n",
       "⎢                          2                  2                               \n",
       "⎢                     d⋅sin (α)⋅cos(δ) + d⋅cos (α)⋅cos(δ)                     \n",
       "⎢                                                                             \n",
       "⎢                               -sin(δ)⋅cos(α)                                \n",
       "⎢─────────────────────────────────────────────────────────────────────────────\n",
       "⎢     2       2           2       2           2       2           2       2   \n",
       "⎣d⋅sin (α)⋅sin (δ) + d⋅sin (α)⋅cos (δ) + d⋅sin (δ)⋅cos (α) + d⋅cos (α)⋅cos (δ)\n",
       "\n",
       "                                  sin(α)⋅cos(δ)                               \n",
       "      ─────────────────────────────────────────────────────────────────────   \n",
       "         2       2         2       2         2       2         2       2      \n",
       "      sin (α)⋅sin (δ) + sin (α)⋅cos (δ) + sin (δ)⋅cos (α) + cos (α)⋅cos (δ)   \n",
       "                                                                              \n",
       "                                      cos(α)                                  \n",
       "                       ───────────────────────────────────                    \n",
       "                            2                  2                              \n",
       "                       d⋅sin (α)⋅cos(δ) + d⋅cos (α)⋅cos(δ)                    \n",
       "                                                                              \n",
       "                                 -sin(α)⋅sin(δ)                               \n",
       "  ────────────────────────────────────────────────────────────────────────────\n",
       "       2       2           2       2           2       2           2       2  \n",
       "  d⋅sin (α)⋅sin (δ) + d⋅sin (α)⋅cos (δ) + d⋅sin (δ)⋅cos (α) + d⋅cos (α)⋅cos (δ\n",
       "\n",
       "           sin(δ)       ⎤\n",
       "     ─────────────────  ⎥\n",
       "        2         2     ⎥\n",
       "     sin (δ) + cos (δ)  ⎥\n",
       "                        ⎥\n",
       "                        ⎥\n",
       "             0          ⎥\n",
       "                        ⎥\n",
       "                        ⎥\n",
       "                        ⎥\n",
       "           cos(δ)       ⎥\n",
       "─  ─────────────────────⎥\n",
       "        2           2   ⎥\n",
       ")  d⋅sin (δ) + d⋅cos (δ)⎦"
      ]
     },
     "execution_count": 183,
     "metadata": {},
     "output_type": "execute_result"
    }
   ],
   "source": [
    "D = M**(-1)\n",
    "D"
   ]
  },
  {
   "cell_type": "markdown",
   "id": "66a0f90d",
   "metadata": {},
   "source": [
    "<span style=\"color:blue\"> $E = $$\\begin{bmatrix} \\dot{d} \\\\ \\dot{\\alpha}  \\\\ \\dot{\\delta}\\end{bmatrix}$ =$[M(d,\\alpha,\\delta)]^{-1}$ $\\begin{bmatrix} v_x \\\\ v_y  \\\\ v_z\\end{bmatrix}=D\\cdot B$ </span> "
   ]
  },
  {
   "cell_type": "code",
   "execution_count": 184,
   "id": "e0ec99fc",
   "metadata": {},
   "outputs": [
    {
     "data": {
      "text/latex": [
       "$\\displaystyle \\left[\\begin{matrix}\\frac{\\dot{d} \\sin^{2}{\\left(\\alpha \\right)} \\cos^{2}{\\left(\\delta \\right)}}{\\sin^{2}{\\left(\\alpha \\right)} \\sin^{2}{\\left(\\delta \\right)} + \\sin^{2}{\\left(\\alpha \\right)} \\cos^{2}{\\left(\\delta \\right)} + \\sin^{2}{\\left(\\delta \\right)} \\cos^{2}{\\left(\\alpha \\right)} + \\cos^{2}{\\left(\\alpha \\right)} \\cos^{2}{\\left(\\delta \\right)}} + \\frac{\\dot{d} \\cos^{2}{\\left(\\alpha \\right)} \\cos^{2}{\\left(\\delta \\right)}}{\\sin^{2}{\\left(\\alpha \\right)} \\sin^{2}{\\left(\\delta \\right)} + \\sin^{2}{\\left(\\alpha \\right)} \\cos^{2}{\\left(\\delta \\right)} + \\sin^{2}{\\left(\\delta \\right)} \\cos^{2}{\\left(\\alpha \\right)} + \\cos^{2}{\\left(\\alpha \\right)} \\cos^{2}{\\left(\\delta \\right)}} + \\frac{\\dot{d} \\sin^{2}{\\left(\\delta \\right)}}{\\sin^{2}{\\left(\\delta \\right)} + \\cos^{2}{\\left(\\delta \\right)}} & 0 & - \\frac{\\dot{\\delta} d \\sin^{2}{\\left(\\alpha \\right)} \\sin{\\left(\\delta \\right)} \\cos{\\left(\\delta \\right)}}{\\sin^{2}{\\left(\\alpha \\right)} \\sin^{2}{\\left(\\delta \\right)} + \\sin^{2}{\\left(\\alpha \\right)} \\cos^{2}{\\left(\\delta \\right)} + \\sin^{2}{\\left(\\delta \\right)} \\cos^{2}{\\left(\\alpha \\right)} + \\cos^{2}{\\left(\\alpha \\right)} \\cos^{2}{\\left(\\delta \\right)}} - \\frac{\\dot{\\delta} d \\sin{\\left(\\delta \\right)} \\cos^{2}{\\left(\\alpha \\right)} \\cos{\\left(\\delta \\right)}}{\\sin^{2}{\\left(\\alpha \\right)} \\sin^{2}{\\left(\\delta \\right)} + \\sin^{2}{\\left(\\alpha \\right)} \\cos^{2}{\\left(\\delta \\right)} + \\sin^{2}{\\left(\\delta \\right)} \\cos^{2}{\\left(\\alpha \\right)} + \\cos^{2}{\\left(\\alpha \\right)} \\cos^{2}{\\left(\\delta \\right)}} + \\frac{\\dot{\\delta} d \\sin{\\left(\\delta \\right)} \\cos{\\left(\\delta \\right)}}{\\sin^{2}{\\left(\\delta \\right)} + \\cos^{2}{\\left(\\delta \\right)}}\\\\0 & \\frac{\\dot{\\alpha} d \\sin^{2}{\\left(\\alpha \\right)} \\cos{\\left(\\delta \\right)}}{d \\sin^{2}{\\left(\\alpha \\right)} \\cos{\\left(\\delta \\right)} + d \\cos^{2}{\\left(\\alpha \\right)} \\cos{\\left(\\delta \\right)}} + \\frac{\\dot{\\alpha} d \\cos^{2}{\\left(\\alpha \\right)} \\cos{\\left(\\delta \\right)}}{d \\sin^{2}{\\left(\\alpha \\right)} \\cos{\\left(\\delta \\right)} + d \\cos^{2}{\\left(\\alpha \\right)} \\cos{\\left(\\delta \\right)}} & 0\\\\- \\frac{\\dot{d} \\sin^{2}{\\left(\\alpha \\right)} \\sin{\\left(\\delta \\right)} \\cos{\\left(\\delta \\right)}}{d \\sin^{2}{\\left(\\alpha \\right)} \\sin^{2}{\\left(\\delta \\right)} + d \\sin^{2}{\\left(\\alpha \\right)} \\cos^{2}{\\left(\\delta \\right)} + d \\sin^{2}{\\left(\\delta \\right)} \\cos^{2}{\\left(\\alpha \\right)} + d \\cos^{2}{\\left(\\alpha \\right)} \\cos^{2}{\\left(\\delta \\right)}} - \\frac{\\dot{d} \\sin{\\left(\\delta \\right)} \\cos^{2}{\\left(\\alpha \\right)} \\cos{\\left(\\delta \\right)}}{d \\sin^{2}{\\left(\\alpha \\right)} \\sin^{2}{\\left(\\delta \\right)} + d \\sin^{2}{\\left(\\alpha \\right)} \\cos^{2}{\\left(\\delta \\right)} + d \\sin^{2}{\\left(\\delta \\right)} \\cos^{2}{\\left(\\alpha \\right)} + d \\cos^{2}{\\left(\\alpha \\right)} \\cos^{2}{\\left(\\delta \\right)}} + \\frac{\\dot{d} \\sin{\\left(\\delta \\right)} \\cos{\\left(\\delta \\right)}}{d \\sin^{2}{\\left(\\delta \\right)} + d \\cos^{2}{\\left(\\delta \\right)}} & 0 & \\frac{\\dot{\\delta} d \\sin^{2}{\\left(\\alpha \\right)} \\sin^{2}{\\left(\\delta \\right)}}{d \\sin^{2}{\\left(\\alpha \\right)} \\sin^{2}{\\left(\\delta \\right)} + d \\sin^{2}{\\left(\\alpha \\right)} \\cos^{2}{\\left(\\delta \\right)} + d \\sin^{2}{\\left(\\delta \\right)} \\cos^{2}{\\left(\\alpha \\right)} + d \\cos^{2}{\\left(\\alpha \\right)} \\cos^{2}{\\left(\\delta \\right)}} + \\frac{\\dot{\\delta} d \\sin^{2}{\\left(\\delta \\right)} \\cos^{2}{\\left(\\alpha \\right)}}{d \\sin^{2}{\\left(\\alpha \\right)} \\sin^{2}{\\left(\\delta \\right)} + d \\sin^{2}{\\left(\\alpha \\right)} \\cos^{2}{\\left(\\delta \\right)} + d \\sin^{2}{\\left(\\delta \\right)} \\cos^{2}{\\left(\\alpha \\right)} + d \\cos^{2}{\\left(\\alpha \\right)} \\cos^{2}{\\left(\\delta \\right)}} + \\frac{\\dot{\\delta} d \\cos^{2}{\\left(\\delta \\right)}}{d \\sin^{2}{\\left(\\delta \\right)} + d \\cos^{2}{\\left(\\delta \\right)}}\\end{matrix}\\right]$"
      ],
      "text/plain": [
       "⎡                                             2       2                       \n",
       "⎢                                  \\dot{d}⋅sin (α)⋅cos (δ)                    \n",
       "⎢           ──────────────────────────────────────────────────────────────────\n",
       "⎢              2       2         2       2         2       2         2       2\n",
       "⎢           sin (α)⋅sin (δ) + sin (α)⋅cos (δ) + sin (δ)⋅cos (α) + cos (α)⋅cos \n",
       "⎢                                                                             \n",
       "⎢                                                                             \n",
       "⎢                                                                             \n",
       "⎢                                                                             \n",
       "⎢                                                                             \n",
       "⎢                                                                             \n",
       "⎢                                                                             \n",
       "⎢                                     2                                       \n",
       "⎢                          \\dot{d}⋅sin (α)⋅sin(δ)⋅cos(δ)                      \n",
       "⎢- ───────────────────────────────────────────────────────────────────────────\n",
       "⎢       2       2           2       2           2       2           2       2 \n",
       "⎣  d⋅sin (α)⋅sin (δ) + d⋅sin (α)⋅cos (δ) + d⋅sin (δ)⋅cos (α) + d⋅cos (α)⋅cos (\n",
       "\n",
       "                                        2       2                             \n",
       "                             \\dot{d}⋅cos (α)⋅cos (δ)                          \n",
       "─── + ───────────────────────────────────────────────────────────────────── + \n",
       "         2       2         2       2         2       2         2       2      \n",
       "(δ)   sin (α)⋅sin (δ) + sin (α)⋅cos (δ) + sin (δ)⋅cos (α) + cos (α)⋅cos (δ)   \n",
       "                                                                              \n",
       "                                                                              \n",
       "                                                                              \n",
       "              0                                                               \n",
       "                                                                              \n",
       "                                                                              \n",
       "                                                                              \n",
       "                                               2                              \n",
       "                             \\dot{d}⋅sin(δ)⋅cos (α)⋅cos(δ)                    \n",
       "── - ─────────────────────────────────────────────────────────────────────────\n",
       "          2       2           2       2           2       2           2       \n",
       "δ)   d⋅sin (α)⋅sin (δ) + d⋅sin (α)⋅cos (δ) + d⋅sin (δ)⋅cos (α) + d⋅cos (α)⋅cos\n",
       "\n",
       "            2                                                                 \n",
       " \\dot{d}⋅sin (δ)                                                              \n",
       "─────────────────                                                 0           \n",
       "   2         2                                                                \n",
       "sin (δ) + cos (δ)                                                             \n",
       "                                                                              \n",
       "                                                   2                          \n",
       "                                 \\dot{\\alpha}⋅d⋅sin (α)⋅cos(δ)         \\dot{\\a\n",
       "                              ─────────────────────────────────── + ──────────\n",
       "                                   2                  2                  2    \n",
       "                              d⋅sin (α)⋅cos(δ) + d⋅cos (α)⋅cos(δ)   d⋅sin (α)⋅\n",
       "                                                                              \n",
       "                                                                              \n",
       "       \\dot{d}⋅sin(δ)⋅cos(δ)                                                  \n",
       "──── + ─────────────────────                                      0           \n",
       "2           2           2                                                     \n",
       " (δ)   d⋅sin (δ) + d⋅cos (δ)                                                  \n",
       "\n",
       "                                                                    2         \n",
       "                                                  \\dot{\\delta}⋅d⋅sin (α)⋅sin(δ\n",
       "                               - ─────────────────────────────────────────────\n",
       "                                    2       2         2       2         2     \n",
       "                                 sin (α)⋅sin (δ) + sin (α)⋅cos (δ) + sin (δ)⋅c\n",
       "                                                                              \n",
       "           2                                                                  \n",
       "lpha}⋅d⋅cos (α)⋅cos(δ)                                                        \n",
       "─────────────────────────                                                     \n",
       "              2                                                               \n",
       "cos(δ) + d⋅cos (α)⋅cos(δ)                                                     \n",
       "                                                                              \n",
       "                                                                     2       2\n",
       "                                                   \\dot{\\delta}⋅d⋅sin (α)⋅sin \n",
       "                           ───────────────────────────────────────────────────\n",
       "                                2       2           2       2           2     \n",
       "                           d⋅sin (α)⋅sin (δ) + d⋅sin (α)⋅cos (δ) + d⋅sin (δ)⋅c\n",
       "\n",
       "                                                                     2        \n",
       ")⋅cos(δ)                                    \\dot{\\delta}⋅d⋅sin(δ)⋅cos (α)⋅cos(\n",
       "──────────────────────── - ───────────────────────────────────────────────────\n",
       "  2         2       2         2       2         2       2         2       2   \n",
       "os (α) + cos (α)⋅cos (δ)   sin (α)⋅sin (δ) + sin (α)⋅cos (δ) + sin (δ)⋅cos (α)\n",
       "                                                                              \n",
       "                                                                              \n",
       "                                                                              \n",
       "                                       0                                      \n",
       "                                                                              \n",
       "                                                                              \n",
       "                                                                              \n",
       "                                                                       2      \n",
       "(δ)                                                  \\dot{\\delta}⋅d⋅sin (δ)⋅co\n",
       "────────────────────────── + ─────────────────────────────────────────────────\n",
       "  2           2       2           2       2           2       2           2   \n",
       "os (α) + d⋅cos (α)⋅cos (δ)   d⋅sin (α)⋅sin (δ) + d⋅sin (α)⋅cos (δ) + d⋅sin (δ)\n",
       "\n",
       "                                                     ⎤\n",
       "δ)                   \\dot{\\delta}⋅d⋅sin(δ)⋅cos(δ)    ⎥\n",
       "────────────────── + ────────────────────────────    ⎥\n",
       "      2       2              2         2             ⎥\n",
       " + cos (α)⋅cos (δ)        sin (δ) + cos (δ)          ⎥\n",
       "                                                     ⎥\n",
       "                                                     ⎥\n",
       "                                                     ⎥\n",
       "                                                     ⎥\n",
       "                                                     ⎥\n",
       "                                                     ⎥\n",
       "                                                     ⎥\n",
       " 2                                               2   ⎥\n",
       "s (α)                          \\dot{\\delta}⋅d⋅cos (δ)⎥\n",
       "──────────────────────────── + ──────────────────────⎥\n",
       "    2           2       2           2           2    ⎥\n",
       "⋅cos (α) + d⋅cos (α)⋅cos (δ)   d⋅sin (δ) + d⋅cos (δ) ⎦"
      ]
     },
     "execution_count": 184,
     "metadata": {},
     "output_type": "execute_result"
    }
   ],
   "source": [
    "E = D*B\n",
    "E"
   ]
  },
  {
   "cell_type": "code",
   "execution_count": 186,
   "id": "fc6328c9",
   "metadata": {},
   "outputs": [
    {
     "data": {
      "text/latex": [
       "$\\displaystyle \\left[\\begin{matrix}\\dot{d} & 0 & 0\\\\0 & \\dot{\\alpha} & 0\\\\0 & 0 & \\dot{\\delta}\\end{matrix}\\right]$"
      ],
      "text/plain": [
       "⎡\\dot{d}       0             0      ⎤\n",
       "⎢                                   ⎥\n",
       "⎢   0     \\dot{\\alpha}       0      ⎥\n",
       "⎢                                   ⎥\n",
       "⎣   0          0        \\dot{\\delta}⎦"
      ]
     },
     "execution_count": 186,
     "metadata": {},
     "output_type": "execute_result"
    }
   ],
   "source": [
    "F = sp.simplify(E)\n",
    "F"
   ]
  }
 ],
 "metadata": {
  "kernelspec": {
   "display_name": "Python 3 (ipykernel)",
   "language": "python",
   "name": "python3"
  },
  "language_info": {
   "codemirror_mode": {
    "name": "ipython",
    "version": 3
   },
   "file_extension": ".py",
   "mimetype": "text/x-python",
   "name": "python",
   "nbconvert_exporter": "python",
   "pygments_lexer": "ipython3",
   "version": "3.9.7"
  }
 },
 "nbformat": 4,
 "nbformat_minor": 5
}
