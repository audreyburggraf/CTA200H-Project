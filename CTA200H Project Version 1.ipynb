{
 "cells": [
  {
   "cell_type": "code",
   "execution_count": 305,
   "id": "1078004c",
   "metadata": {},
   "outputs": [],
   "source": [
    "import rebound \n",
    "\n",
    "import sympy as sp\n",
    "from matplotlib import pyplot as plt\n",
    "from matplotlib import pyplot\n",
    "\n",
    "import numpy as np\n",
    "\n",
    "from sympy import init_printing\n",
    "init_printing()\n",
    "\n",
    "%matplotlib inline\n",
    "from sympy import *\n",
    "\n",
    "import math"
   ]
  },
  {
   "cell_type": "markdown",
   "id": "54d78b04",
   "metadata": {},
   "source": [
    "# Predicting an Astrometric signal"
   ]
  },
  {
   "cell_type": "markdown",
   "id": "5b9a5790",
   "metadata": {},
   "source": [
    "## Calculating velocity of the star"
   ]
  },
  {
   "cell_type": "markdown",
   "id": "4f24aa25",
   "metadata": {},
   "source": [
    "Proper motion and distance are given"
   ]
  },
  {
   "cell_type": "code",
   "execution_count": 332,
   "id": "d05b1c9d",
   "metadata": {},
   "outputs": [
    {
     "name": "stdout",
     "output_type": "stream",
     "text": [
      "The proper motion is: 0.05 as/year \n",
      "The distance to the star is 50 pc\n"
     ]
    }
   ],
   "source": [
    "proper_motion_mas_yr = 50\n",
    "proper_motion_as_yr = proper_motion_mas_yr * 0.001\n",
    "print('The proper motion is:',proper_motion_as_yr,'as/year ')\n",
    "\n",
    "D = 50\n",
    "print('The distance to the star is',D,'pc')"
   ]
  },
  {
   "cell_type": "markdown",
   "id": "9bb731e8",
   "metadata": {},
   "source": [
    "Use the equation $v_T=4.74D\\mu$"
   ]
  },
  {
   "cell_type": "code",
   "execution_count": 334,
   "id": "4385b08f",
   "metadata": {},
   "outputs": [
    {
     "name": "stdout",
     "output_type": "stream",
     "text": [
      "The velocity of the star is 11.850000000000001 km/s or 2.4983221925133696 AU/years\n"
     ]
    }
   ],
   "source": [
    "v_star_kms = 4.74*proper_motion_as_yr*D\n",
    "v_star_AUyear = v_star_kms * (1/1.496e+8) * (3.154e+7)\n",
    "print('The velocity of the star is',v_star_kms,'km/s or',v_star_AUyear,'AU/years')"
   ]
  },
  {
   "cell_type": "markdown",
   "id": "1653da72",
   "metadata": {},
   "source": [
    "Setting the timescale as 4.2 years "
   ]
  },
  {
   "cell_type": "code",
   "execution_count": null,
   "id": "c17ae3ad",
   "metadata": {},
   "outputs": [],
   "source": [
    "timescale = 4.2"
   ]
  },
  {
   "cell_type": "markdown",
   "id": "af19645e",
   "metadata": {},
   "source": [
    "Setting the masses for earth and the sun in solar units for later calculations"
   ]
  },
  {
   "cell_type": "code",
   "execution_count": null,
   "id": "a0d61b17",
   "metadata": {},
   "outputs": [],
   "source": [
    "m_sun = 1 \n",
    "m_earth = 3.0027e-6"
   ]
  },
  {
   "cell_type": "markdown",
   "id": "b778c78d",
   "metadata": {},
   "source": [
    "## Simulation WITHOUT planet "
   ]
  },
  {
   "cell_type": "code",
   "execution_count": 335,
   "id": "b4c35bea",
   "metadata": {
    "scrolled": false
   },
   "outputs": [
    {
     "name": "stdout",
     "output_type": "stream",
     "text": [
      "The units for this simulation are: {'length': 'au', 'mass': 'msun', 'time': 'year'}\n"
     ]
    }
   ],
   "source": [
    "sim = rebound.Simulation()                                # starting simulation named sim \n",
    "\n",
    "sim.units=[\"msun\",\"AU\",\"year\"]                            # setting units of sim \n",
    "print('The units for this simulation are:',sim.units)     # printing units of sim \n",
    "\n",
    "sim.add(m=1)                                              # add the Sun as the central object \n",
    "\n",
    "sim.add(m=3.0027e-6, a=1, e=0)                            # add Earth in a 1 AU circular orbit \n",
    "\n",
    "sim.add(m=1, x = 1.031e7, vy = v_star_AUyear)             # add a hypothetical star 50 pc away with calculated velocity (guessed its mass)"
   ]
  },
  {
   "cell_type": "markdown",
   "id": "31500570",
   "metadata": {},
   "source": [
    "Creating arrays with a length of 50 to hold specific values"
   ]
  },
  {
   "cell_type": "code",
   "execution_count": 308,
   "id": "10142ff9",
   "metadata": {},
   "outputs": [],
   "source": [
    "n=50\n",
    "\n",
    "# x,y and z positions of the sun, earth and star \n",
    "x_pos_sun, y_pos_sun, z_pos_sun  = np.empty((1,n)), np.empty((1,n)), np.empty((1,n))\n",
    "x_pos_earth, y_pos_earth, z_pos_earth = np.empty((1,n)), np.empty((1,n)), np.empty((1,n))\n",
    "x_pos_star, y_pos_star, z_pos_star = np.empty((1,n)), np.empty((1,n)), np.empty((1,n))\n",
    "\n",
    "# x,y and z positions of COM of sun-earth system\n",
    "x_cm, y_cm, z_cm = np.empty((1,n)), np.empty((1,n)), np.empty((1,n))\n",
    "\n",
    "# x components of position vectors \n",
    "r_COM_x, r_earth_x, r_star_x, r_SE_x, r_SC_x = np.empty((1,n)), np.empty((1,n)), np.empty((1,n)), np.empty((1,n)), np.empty((1,n))\n",
    "\n",
    "# y components of position vectors \n",
    "r_COM_y, r_earth_y, r_star_y, r_SE_y,r_SC_y = np.empty((1,n)), np.empty((1,n)), np.empty((1,n)), np.empty((1,n)), np.empty((1,n))\n",
    "\n",
    "# z components of position vectors \n",
    "r_COM_z, r_earth_z, r_star_z, r_SE_z, r_SC_z = np.empty((1,n)), np.empty((1,n)), np.empty((1,n)), np.empty((1,n)), np.empty((1,n))\n",
    "\n",
    "# length of porision vectors \n",
    "r_COM, r_earth, r_star, r_SE, r_SC = np.empty((1,n)), np.empty((1,n)), np.empty((1,n)), np.empty((1,n)), np.empty((1,n))\n",
    "\n",
    "# right ascension and declination\n",
    "alpha = np.empty((1,n))\n",
    "delta = np.empty((1,n))\n",
    "\n",
    "times = np.linspace(0,timescale,num=n)"
   ]
  },
  {
   "cell_type": "markdown",
   "id": "bbd44139",
   "metadata": {},
   "source": [
    "Creating a for loop to fill the arrays that were created"
   ]
  },
  {
   "cell_type": "code",
   "execution_count": 309,
   "id": "d21f8e9c",
   "metadata": {},
   "outputs": [],
   "source": [
    "for i,t in enumerate(times):\n",
    "    sim.integrate(t)\n",
    "    \n",
    "    # x,y and z positions of the sun\n",
    "    x_pos_sun[0,i] = sim.particles[0].x\n",
    "    y_pos_sun[0,i] = sim.particles[0].y\n",
    "    z_pos_sun[0,i] = sim.particles[0].z\n",
    "    \n",
    "    # x,y and z positions of earth \n",
    "    x_pos_earth[0,i] = sim.particles[1].x\n",
    "    y_pos_earth[0,i] = sim.particles[1].y\n",
    "    z_pos_earth[0,i] = sim.particles[1].z\n",
    "    \n",
    "    # x,y and z positions of the star\n",
    "    x_pos_star[0,i] = sim.particles[2].x\n",
    "    y_pos_star[0,i] = sim.particles[2].y\n",
    "    z_pos_star[0,i] = sim.particles[2].z\n",
    "    \n",
    "    # x,y and z positions of sun-earth system\n",
    "    x_cm[0,i] = (sim.particles[0].x*m_sun+ sim.particles[1].x*m_earth)/(m_sun+m_earth)\n",
    "    y_cm[0,i] = (sim.particles[0].y*m_sun+ sim.particles[1].y*m_earth)/(m_sun+m_earth)\n",
    "    z_cm[0,i] = (sim.particles[0].z*m_sun+ sim.particles[1].z*m_earth)/(m_sun+m_earth)\n",
    "    \n",
    "    # position vector x components\n",
    "    r_COM_x[0,i]   = x_cm[0,i]        - x_pos_sun[0,i]\n",
    "    r_earth_x[0,i] = x_pos_earth[0,i] - x_pos_sun[0,i]\n",
    "    r_star_x[0,i]  = x_pos_star[0,i]  - x_pos_sun[0,i]\n",
    "    r_SE_x[0,i]    = r_earth_x[0,i]   - r_star_x[0,i]\n",
    "    r_SC_x[0,i]    = r_COM_x[0,i]     - r_star_x[0,i]\n",
    "\n",
    "    # position vector y components \n",
    "    r_COM_y[0,i]   = y_cm[0,i]        - y_pos_sun[0,i]\n",
    "    r_earth_y[0,i] = y_pos_earth[0,i] - y_pos_sun[0,i]\n",
    "    r_star_y[0,i]  = y_pos_star[0,i]  - y_pos_sun[0,i]\n",
    "    r_SE_y[0,i]    = r_earth_y[0,i]   - r_star_y[0,i]\n",
    "    r_SC_y[0,i]    = r_COM_y[0,i]     - r_star_y[0,i]\n",
    "    \n",
    "    # position vector z components \n",
    "    r_COM_z[0,i]   = z_cm[0,i]        - z_pos_sun[0,i]\n",
    "    r_earth_z[0,i] = z_pos_earth[0,i] - z_pos_sun[0,i]\n",
    "    r_star_z[0,i]  = z_pos_star[0,i]  - z_pos_sun[0,i]\n",
    "    r_SE_z[0,i]    = r_earth_z[0,i]   - r_star_z[0,i]\n",
    "    r_SC_z[0,i]    = r_COM_z[0,i]     - r_star_z[0,i]\n",
    "    \n",
    "    \n",
    "    # position vector lengths \n",
    "    r_COM[0,i]   = np.sqrt(r_COM_x[0,i]**2   + r_COM_y[0,i]**2   + r_COM_z[0,i]**2)\n",
    "    r_earth[0,i] = np.sqrt(r_earth_x[0,i]**2 + r_earth_y[0,i]**2 + r_earth_z[0,i]**2)\n",
    "    r_star[0,i]  = np.sqrt(r_star_x[0,i]**2  + r_star_y[0,i]**2  + r_star[0,i]**2)\n",
    "    r_SE[0,i]    = np.sqrt(r_SE_x[0,i]**2    + r_SE_y[0,i]**2    + r_SE_z[0,i]**2)\n",
    "    r_SC[0,i]    = np.sqrt(r_SC_x[0,i]**2    + r_SC_y[0,i]**2    + r_SE_z[0,i]**2)\n",
    "\n",
    "    # calculating RA and Dec\n",
    "    alpha[0,i] = (np.arctan(r_SE_y[0,i]/r_SE_x[0,i]))*1e6\n",
    "    delta[0,i] = (np.arccos(r_SE[0,i]/ np.sqrt(r_SE_x[0,i]**2+r_SE_y[0,i]**2)))*1e6"
   ]
  },
  {
   "cell_type": "markdown",
   "id": "6391b2e9",
   "metadata": {},
   "source": [
    "Comment/ un-comment speficic lines depending on what arrays you want printed out "
   ]
  },
  {
   "cell_type": "code",
   "execution_count": 336,
   "id": "cd8f00ed",
   "metadata": {},
   "outputs": [
    {
     "name": "stdout",
     "output_type": "stream",
     "text": [
      "x-position of earth: [[ 1.          0.85845402  0.47388673 -0.04483363 -0.55086107 -0.90094285\n",
      "  -0.99597333 -0.80905008 -0.39308972  0.13415236  0.62341773  0.93619887\n",
      "   0.98394969  0.75315228  0.30914373 -0.22238034 -0.69094929 -0.96391461\n",
      "  -0.96400178 -0.69118614 -0.22269982  0.30883207  0.75293667  0.98389116\n",
      "   0.93631399  0.62367392  0.13447709 -0.39278838 -0.80885744 -0.99594393\n",
      "  -0.90108499 -0.55113453 -0.045161    0.47359814  0.8582859   0.99999995\n",
      "   0.85862205  0.47417527 -0.04450626 -0.55058755 -0.9008006  -0.99600264\n",
      "  -0.80924264 -0.39339102  0.13382762  0.62316147  0.93608364  0.98400812\n",
      "   0.75336782  0.30945536]]\n",
      "y-position of earth: [[ 2.41751064e-14  5.12891317e-01  8.80587248e-01  9.98996178e-01\n",
      "   8.34597847e-01  4.33932699e-01 -8.95733866e-02 -5.87719144e-01\n",
      "  -9.19482634e-01 -9.90943540e-01 -7.81871336e-01 -3.51452402e-01\n",
      "   1.78465215e-01  6.57866107e-01  9.51035786e-01  9.74980483e-01\n",
      "   7.22922083e-01  2.66216965e-01 -2.65844479e-01 -7.22639022e-01\n",
      "  -9.74850957e-01 -9.51080441e-01 -6.58056279e-01 -1.78731044e-01\n",
      "   3.51202192e-01  7.81723601e-01  9.90956125e-01  9.19667998e-01\n",
      "   5.88040836e-01  8.99563595e-02 -4.33580839e-01 -8.34360687e-01\n",
      "  -9.98924833e-01 -8.80685893e-01 -5.13116004e-01 -2.71098454e-04\n",
      "   5.12666575e-01  8.80488509e-01  9.99067416e-01  8.34834918e-01\n",
      "   4.34284512e-01 -8.91904040e-02 -5.87397389e-01 -9.19297170e-01\n",
      "  -9.90930849e-01 -7.82018988e-01 -3.51702574e-01  1.78199367e-01\n",
      "   6.57675865e-01  9.50991029e-01]]\n"
     ]
    }
   ],
   "source": [
    "#print('x-position of sun:', x_pos_sun)\n",
    "#print('y-position of sun:', y_pos_sun)\n",
    "\n",
    "print('x-position of earth:', x_pos_earth)\n",
    "print('y-position of earth:', y_pos_earth)\n",
    "\n",
    "#print('x-position of star:', x_pos_star)\n",
    "#print('y-position of star:', y_pos_star)\n",
    "\n",
    "#print('xcm of sun earth system:', x_cm)\n",
    "#print('ycm of sun earth system:', y_cm)\n",
    "\n",
    "#print('r_COM :', r_COM)\n",
    "#print('r_earth :', r_earth)\n",
    "#print('r_star :', r_star)\n",
    "#print('r_SE :', r_SE)\n",
    "#print('r_SC :', r_SC)\n",
    "\n",
    "#print('Values of RA are:',alpha)\n",
    "#print('Values of Dec are:',delta)"
   ]
  },
  {
   "cell_type": "markdown",
   "id": "e4c692c4",
   "metadata": {},
   "source": [
    "Creating a plot for the x and y positions of the objects "
   ]
  },
  {
   "cell_type": "code",
   "execution_count": 311,
   "id": "dbf12776",
   "metadata": {},
   "outputs": [
    {
     "data": {
      "image/png": "[encoded data removed]",
      "text/plain": [
       "<Figure size 432x288 with 1 Axes>"
      ]
     },
     "metadata": {
      "needs_background": "light"
     },
     "output_type": "display_data"
    }
   ],
   "source": [
    "plt.clf() \n",
    "\n",
    "#plt.rcParams['figure.figsize'] = [15/2, 15/2]   \n",
    "\n",
    "# plot style and colour\n",
    "plt.style.use('seaborn')\n",
    "plt.rcParams['axes.facecolor']='whitesmoke'\n",
    "\n",
    "# plot border\n",
    "plt.rcParams[\"axes.edgecolor\"] = '0'\n",
    "plt.rcParams[\"axes.linewidth\"]  = 0.7\n",
    "\n",
    "# plot grid\n",
    "plt.grid(color='0.85')\n",
    "plt.minorticks_on() \n",
    "\n",
    "# plotting data \n",
    "plt.scatter(x_pos_sun, y_pos_sun, color='gold', label='Sun', s=550,marker='*') \n",
    "plt.scatter(x_pos_earth, y_pos_earth, color='dodgerblue', label='Earth', s=55) \n",
    "#plt.scatter(x_pos_star, y_pos_star, color='darkorange', label='Star', s=55, marker='*') \n",
    "\n",
    "# setting titles\n",
    "plt.title('Positions (without planet)',fontsize = 25)             \n",
    "plt.xlabel('X-position',fontsize = 17)                     \n",
    "plt.ylabel('Y-position',fontsize = 17)\n",
    "\n",
    "# plotting legend\n",
    "legend=plt.legend(loc=\"upper right\",frameon=True, markerscale=1)\n",
    "legend.get_frame().set_edgecolor('0.3')\n",
    "legend.get_frame().set_linewidth(1)\n",
    "       \n",
    "plt.show()  "
   ]
  },
  {
   "cell_type": "markdown",
   "id": "c7b1ff90",
   "metadata": {},
   "source": [
    "## Simulation WITH planet"
   ]
  },
  {
   "cell_type": "code",
   "execution_count": 337,
   "id": "6c2bef6e",
   "metadata": {},
   "outputs": [
    {
     "name": "stdout",
     "output_type": "stream",
     "text": [
      "The units for sim are: {'length': 'au', 'mass': 'msun', 'time': 'year'}\n"
     ]
    }
   ],
   "source": [
    "sim_wp = rebound.Simulation()                                                # create a simulation called sim_wp \n",
    "sim_wp.units=[\"msun\",\"AU\",\"year\"]                                            # setting the units for sim_wpm\n",
    "print('The units for sim are:',sim_wp.units)                                 # printing the units for sim_wp\n",
    "\n",
    "sim_wp.add(m=1)                                                              # add Sun as the central object \n",
    "\n",
    "sim_wp.add(m=3.0027e-6, a=1, e=0)                                            # add Earth in a 1 AU circular orbit \n",
    "\n",
    "sim_wp.add(m=1, x = 1.031e7, vy=v_star_AUyear)                               # add a hypothetical star 50 pc away with calculated mass (guessed its mass)\n",
    "\n",
    "sim_wp.add(m = 0.00477294, a = 0.6, e = 0.2, primary = sim_wp.particles[2])  # add planet from figure 3.1 caption and have it orbit the star "
   ]
  },
  {
   "cell_type": "markdown",
   "id": "1099075c",
   "metadata": {},
   "source": [
    "Creating arrays to hold data "
   ]
  },
  {
   "cell_type": "code",
   "execution_count": 318,
   "id": "bc2cc4e6",
   "metadata": {},
   "outputs": [],
   "source": [
    "# x,y and z positions of the sun, earth, star and planet\n",
    "x_pos_sun_wp, y_pos_sun_wp, z_pos_sun_wp  = np.empty((1,n)), np.empty((1,n)), np.empty((1,n))\n",
    "x_pos_earth_wp, y_pos_earth_wp, z_pos_earth_wp = np.empty((1,n)), np.empty((1,n)), np.empty((1,n))\n",
    "x_pos_star_wp, y_pos_star_wp, z_pos_star_wp = np.empty((1,n)), np.empty((1,n)), np.empty((1,n))\n",
    "x_pos_planet, y_pos_planet, z_pos_planet = np.empty((1,n)), np.empty((1,n)), np.empty((1,n)) \n",
    "\n",
    "# x,y and z positions of COM of sun-earth system\n",
    "x_cm_wp, y_cm_wp, z_cm_wp = np.empty((1,n)), np.empty((1,n)), np.empty((1,n))\n",
    "\n",
    "# x components of position vectors \n",
    "r_COM_x_wp, r_earth_x_wp, r_star_x_wp, r_SE_x_wp, r_SC_x_wp = np.empty((1,n)), np.empty((1,n)), np.empty((1,n)), np.empty((1,n)), np.empty((1,n))\n",
    "\n",
    "# y components of position vectors \n",
    "r_COM_y_wp, r_earth_y_wp, r_star_y_wp, r_SE_y_wp, r_SC_y_wp = np.empty((1,n)), np.empty((1,n)), np.empty((1,n)), np.empty((1,n)), np.empty((1,n))\n",
    "\n",
    "\n",
    "# z components of position vectors \n",
    "r_COM_z_wp, r_earth_z_wp, r_star_z_wp, r_SE_z_wp, r_SC_z_wp = np.empty((1,n)), np.empty((1,n)), np.empty((1,n)), np.empty((1,n)), np.empty((1,n))\n",
    "\n",
    "# length of porision vectors \n",
    "r_COM_wp, r_earth_wp, r_star_wp, r_SE_wp, r_SC_wp = np.empty((1,n)), np.empty((1,n)), np.empty((1,n)), np.empty((1,n)), np.empty((1,n))\n",
    "\n",
    "# right ascension and declination\n",
    "alpha_wp = np.empty((1,n))\n",
    "delta_wp = np.empty((1,n))\n",
    "\n",
    "times_wp = np.linspace(0,timescale,num=n)"
   ]
  },
  {
   "cell_type": "markdown",
   "id": "89806528",
   "metadata": {},
   "source": [
    "Filling arrays with data using a for loop"
   ]
  },
  {
   "cell_type": "code",
   "execution_count": 338,
   "id": "e565b0f4",
   "metadata": {},
   "outputs": [],
   "source": [
    "for j,t_wp in enumerate(times_wp):\n",
    "    sim_wp.integrate(t_wp)\n",
    "    \n",
    "    # x,y and z positions of the sun\n",
    "    x_pos_sun_wp[0,j] = sim_wp.particles[0].x\n",
    "    y_pos_sun_wp[0,j] = sim_wp.particles[0].y\n",
    "    z_pos_sun_wp[0,j] = sim_wp.particles[0].z\n",
    "    \n",
    "    # x,y and z positions of earth \n",
    "    x_pos_earth_wp[0,j] = sim_wp.particles[1].x\n",
    "    y_pos_earth_wp[0,j] = sim_wp.particles[1].y\n",
    "    z_pos_earth_wp[0,j] = sim_wp.particles[1].z\n",
    "    \n",
    "    # x,y and z positions of the star\n",
    "    x_pos_star_wp[0,j] = sim_wp.particles[2].x\n",
    "    y_pos_star_wp[0,j] = sim_wp.particles[2].y\n",
    "    z_pos_star_wp[0,j] = sim_wp.particles[2].z\n",
    "    \n",
    "    # x,y and z positions of the planet\n",
    "    x_pos_planet[0,j] = sim_wp.particles[3].x\n",
    "    y_pos_planet[0,j] = sim_wp.particles[3].y\n",
    "    z_pos_planet[0,j] = sim_wp.particles[3].z\n",
    "    \n",
    "    # x,y and z positions of sun-earth system\n",
    "    x_cm_wp[0,i] = (sim_wp.particles[0].x*m_sun+ sim_wp.particles[1].x*m_earth)/(m_sun+m_earth)\n",
    "    y_cm_wp[0,i] = (sim_wp.particles[0].y*m_sun+ sim_wp.particles[1].y*m_earth)/(m_sun+m_earth)\n",
    "    z_cm_wp[0,i] = (sim_wp.particles[0].z*m_sun+ sim_wp.particles[1].z*m_earth)/(m_sun+m_earth)\n",
    "    \n",
    "    # position vector x components\n",
    "    r_COM_x_wp[0,i]   = x_cm_wp[0,i]        - x_pos_sun_wp[0,i]\n",
    "    r_earth_x_wp[0,i] = x_pos_earth_wp[0,i] - x_pos_sun_wp[0,i]\n",
    "    r_star_x_wp[0,i]  = x_pos_star_wp[0,i]  - x_pos_sun_wp[0,i]\n",
    "    r_SE_x_wp[0,i]    = r_earth_x_wp[0,i]   - r_star_x_wp[0,i]\n",
    "    r_SC_x_wp[0,i]    = r_COM_x_wp[0,i]     - r_star_x_wp[0,i]\n",
    "\n",
    "    # position vector y components \n",
    "    r_COM_y_wp[0,i]   = y_cm_wp[0,i]        - y_pos_sun_wp[0,i]\n",
    "    r_earth_y_wp[0,i] = y_pos_earth_wp[0,i] - y_pos_sun_wp[0,i]\n",
    "    r_star_y_wp[0,i]  = y_pos_star_wp[0,i]  - y_pos_sun_wp[0,i]\n",
    "    r_SE_y_wp[0,i]    = r_earth_y_wp[0,i]   - r_star_y_wp[0,i]\n",
    "    r_SC_y_wp[0,i]    = r_COM_y_wp[0,i]     - r_star_y_wp[0,i]\n",
    "    \n",
    "    # position vector z components \n",
    "    r_COM_z_wp[0,i]   = z_cm_wp[0,i]        - z_pos_sun_wp[0,i]\n",
    "    r_earth_z_wp[0,i] = z_pos_earth_wp[0,i] - z_pos_sun_wp[0,i]\n",
    "    r_star_z_wp[0,i]  = z_pos_star_wp[0,i]  - z_pos_sun_wp[0,i]\n",
    "    r_SE_z_wp[0,i]    = r_earth_z_wp[0,i]   - r_star_z_wp[0,i]\n",
    "    r_SC_z_wp[0,i]    = r_COM_z_wp[0,i]     - r_star_z_wp[0,i]\n",
    "    \n",
    "    \n",
    "    # position vector lengths \n",
    "    r_COM_wp[0,i]   = np.sqrt(r_COM_x_wp[0,i]**2   + r_COM_y_wp[0,i]**2   + r_COM_z_wp[0,i]**2)\n",
    "    r_earth_wp[0,i] = np.sqrt(r_earth_x_wp[0,i]**2 + r_earth_y_wp[0,i]**2 + r_earth_z_wp[0,i]**2)\n",
    "    r_star_wp[0,i]  = np.sqrt(r_star_x_wp[0,i]**2  + r_star_y_wp[0,i]**2  + r_star_wp[0,i]**2)\n",
    "    r_SE_wp[0,i]    = np.sqrt(r_SE_x_wp[0,i]**2    + r_SE_y_wp[0,i]**2    + r_SE_z_wp[0,i]**2)\n",
    "    r_SC_wp[0,i]    = np.sqrt(r_SC_x_wp[0,i]**2    + r_SC_y_wp[0,i]**2    + r_SE_z_wp[0,i]**2)\n",
    "\n",
    "    # calculating RA and Dec\n",
    "    alpha_wp[0,i] = (np.arctan(r_SE_y_wp[0,i]/r_SE_x_wp[0,i]))*1e6\n",
    "    delta_wp[0,i] = (np.arccos(r_SE_wp[0,i]/ np.sqrt(r_SE_x_wp[0,i]**2+r_SE_y_wp[0,i]**2)))*1e6"
   ]
  },
  {
   "cell_type": "markdown",
   "id": "93c49e7b",
   "metadata": {},
   "source": [
    "Printing the values of the arrays "
   ]
  },
  {
   "cell_type": "code",
   "execution_count": 320,
   "id": "24243fef",
   "metadata": {},
   "outputs": [
    {
     "name": "stdout",
     "output_type": "stream",
     "text": [
      "x-position of sun: [[6.39389934e-21 4.25020113e-07 1.57976032e-06 3.13732196e-06\n",
      "  4.65677055e-06 5.70796112e-06 5.99330918e-06 5.43203475e-06\n",
      "  4.18303060e-06 2.59988081e-06 1.13076372e-06 1.91575822e-07\n",
      "  4.81944570e-08 7.41209870e-07 2.07443439e-06 3.67044176e-06\n",
      "  5.07741377e-06 5.89704679e-06 5.89730860e-06 5.07812512e-06\n",
      "  3.67140130e-06 2.07537055e-06 7.41857728e-07 4.83707302e-08\n",
      "  1.91230758e-07 1.12999518e-06 2.59890657e-06 4.18212668e-06\n",
      "  5.43145732e-06 5.99322198e-06 5.70838915e-06 4.65759298e-06\n",
      "  3.13830633e-06 1.58062836e-06 4.25526507e-07 1.84043883e-12\n",
      "  4.24517354e-07 1.57889579e-06 3.13634094e-06 4.65595131e-06\n",
      "  5.70753616e-06 5.99339942e-06 5.43261529e-06 4.18393774e-06\n",
      "  2.60085846e-06 1.13153582e-06 1.91924547e-07 4.80218595e-08\n",
      "  7.40565613e-07 2.07350169e-06]]\n",
      "y-position of sun: [[1.91789360e-20 7.70434594e-08 5.90065103e-07 1.85162083e-06\n",
      "  3.96236191e-06 6.78254137e-06 9.97157531e-06 1.30844598e-05\n",
      "  1.56977482e-05 1.75294261e-05 1.85187472e-05 1.88434305e-05\n",
      "  1.88693491e-05 1.90469543e-05 1.97837559e-05 2.13289594e-05\n",
      "  2.37029173e-05 2.66913680e-05 2.99060911e-05 3.28948103e-05\n",
      "  3.52692293e-05 3.68149558e-05 3.75521944e-05 3.77300267e-05\n",
      "  3.77558984e-05 3.80802740e-05 3.90691137e-05 4.09002728e-05\n",
      "  4.35131519e-05 4.66258523e-05 4.98149797e-05 5.26355036e-05\n",
      "  5.47467425e-05 5.60088087e-05 5.65222088e-05 5.65993916e-05\n",
      "  5.66762959e-05 5.71889392e-05 5.84499845e-05 6.05602276e-05\n",
      "  6.33800626e-05 6.65690029e-05 6.96820712e-05 7.22957689e-05\n",
      "  7.41279656e-05 7.51177682e-05 7.54427593e-05 7.54687250e-05\n",
      "  7.56461031e-05 7.63824679e-05]]\n"
     ]
    }
   ],
   "source": [
    "print('x-position of sun:', x_pos_sun_wp)\n",
    "print('y-position of sun:', y_pos_sun_wp)\n",
    "\n",
    "#print('x-position of earth:', x_pos_earth_wp)\n",
    "#print('y-position of earth:', y_pos_earth_wp)\n",
    "\n",
    "#print('x-position of star:', x_pos_star_wp)\n",
    "#print('y-position of star:', y_pos_star_wp)\n",
    "\n",
    "#print('xcm of sun earth system:', x_cm_wp)\n",
    "#print('ycm of sun earth system:', y_cm_wp)\n",
    "\n",
    "#print('r_COM :', r_COM_wp)\n",
    "#print('r_earth :', r_earth_wp)\n",
    "#print('r_star :', r_star_wp)\n",
    "#print('r_SE :', r_SE_wp)\n",
    "#print('r_SC :', r_SC_wp_wp)\n",
    "\n",
    "#print('Values of RA are:',alpha_wp)\n",
    "#print('Values of Dec are:',delta_wp)"
   ]
  },
  {
   "cell_type": "markdown",
   "id": "5f5a65df",
   "metadata": {},
   "source": [
    "Creating a plot for the positions of the objects "
   ]
  },
  {
   "cell_type": "code",
   "execution_count": 330,
   "id": "7b8629fd",
   "metadata": {},
   "outputs": [
    {
     "data": {
      "image/png": "[encoded data removed]",
      "text/plain": [
       "<Figure size 576x396 with 1 Axes>"
      ]
     },
     "metadata": {},
     "output_type": "display_data"
    }
   ],
   "source": [
    "plt.clf() \n",
    "\n",
    "#plt.rcParams['figure.figsize'] = [15/2, 15/2]   \n",
    "\n",
    "# plot style and colour\n",
    "plt.style.use('seaborn')\n",
    "plt.rcParams['axes.facecolor']='whitesmoke'\n",
    "\n",
    "# plot border\n",
    "plt.rcParams[\"axes.edgecolor\"] = '0'\n",
    "plt.rcParams[\"axes.linewidth\"]  = 0.7\n",
    "\n",
    "# plot grid\n",
    "plt.grid(color='0.85')\n",
    "plt.minorticks_on() \n",
    "\n",
    "# plotting data \n",
    "#plt.scatter(x_pos_sun_wp, y_pos_sun_wp, color='gold', label='Sun', s=550,marker='*') \n",
    "#plt.scatter(x_pos_earth_wp, y_pos_earth_wp, color='dodgerblue', label='Earth', s=55) \n",
    "plt.scatter(x_pos_star_wp, y_pos_star_wp, color='darkorange', label='Star', s=55, marker='*') \n",
    "plt.scatter(x_pos_planet, y_pos_planet, color='red', s=55, label='planet') \n",
    "\n",
    "# creating titles \n",
    "plt.title('Positions (with planet)',fontsize = 25)             \n",
    "plt.xlabel('X-position',fontsize = 17)                     \n",
    "plt.ylabel('Y-position',fontsize = 17)\n",
    "\n",
    "# creating legend\n",
    "legend=plt.legend(loc=\"upper right\",frameon=True, markerscale=1)\n",
    "legend.get_frame().set_edgecolor('0.3')\n",
    "legend.get_frame().set_linewidth(1)\n",
    "         \n",
    "plt.show() "
   ]
  },
  {
   "cell_type": "markdown",
   "id": "b6708527",
   "metadata": {},
   "source": [
    "## Comparing astrometric signals"
   ]
  },
  {
   "cell_type": "raw",
   "id": "23798e6e",
   "metadata": {},
   "source": [
    "Creating a plot for the astrometric signals of the simulation with and without the planets to look at their simularities/differences "
   ]
  },
  {
   "cell_type": "code",
   "execution_count": 339,
   "id": "010b207e",
   "metadata": {},
   "outputs": [
    {
     "data": {
      "image/png": "[encoded data removed]",
      "text/plain": [
       "<Figure size 576x396 with 1 Axes>"
      ]
     },
     "metadata": {},
     "output_type": "display_data"
    }
   ],
   "source": [
    "plt.clf() \n",
    "\n",
    "#plt.rcParams['figure.figsize'] = [15/2, 15/2]   \n",
    "\n",
    "# plot style and colour\n",
    "plt.style.use('seaborn')\n",
    "plt.rcParams['axes.facecolor']='whitesmoke'\n",
    "\n",
    "# plot border\n",
    "plt.rcParams[\"axes.edgecolor\"] = '0'\n",
    "plt.rcParams[\"axes.linewidth\"]  = 0.7\n",
    "\n",
    "# plot grid\n",
    "plt.grid(color='0.85')\n",
    "plt.minorticks_on() \n",
    "\n",
    "# plot data \n",
    "plt.scatter(alpha, delta, color='gold', label='Without planet', s=55) \n",
    "#plt.scatter(alpha_wp, delta_wp, color='dodgerblue', label='With planet', s=55) \n",
    "\n",
    "# set titles \n",
    "plt.title('RA vs Dec Plot',fontsize = 25)             \n",
    "plt.xlabel('Right ascension [units]',fontsize = 17)                     \n",
    "plt.ylabel('Declination [units]',fontsize = 17)\n",
    "\n",
    "# plot legend\n",
    "legend=plt.legend(loc=\"upper right\",frameon=True, markerscale=1)\n",
    "legend.get_frame().set_edgecolor('0.3')\n",
    "legend.get_frame().set_linewidth(1)\n",
    "       \n",
    "plt.show() "
   ]
  },
  {
   "cell_type": "markdown",
   "id": "4ac619b3",
   "metadata": {},
   "source": [
    "## Reproducing astrometric signal using equations 3.22 and 3.23"
   ]
  },
  {
   "cell_type": "markdown",
   "id": "b7828861",
   "metadata": {},
   "source": [
    "Setting variables (random for now)"
   ]
  },
  {
   "cell_type": "code",
   "execution_count": 340,
   "id": "7c2ddd3a",
   "metadata": {},
   "outputs": [],
   "source": [
    "planets = ['Earth', 'Planet from Figure 3.1']\n",
    "\n",
    "a = [1,  0.6]           # semi-major axis in units of AU\n",
    "omega = [2,2]           # argument of perihelion\n",
    "OMEGA = [2,2]           # longitude of the ascending node \n",
    "i = [1.160644,2]         # orbital inclination (rad)\n",
    "\n",
    "e = [0.0167,0.2]        # ellipticity of the orbit \n",
    "E = [2,2]               #eccentricity anomaly \n",
    "\n",
    "prop_RA = [1,2]         # proper motion in RA direction\n",
    "prop_DEC = [1,2]        # proper motion in DEC direction \n",
    "\n",
    "# cartesian components of the observer position wrt the solar system barycentre\n",
    "rx = [1,2]\n",
    "ry = [2,2] \n",
    "rz = [3,2] \n",
    "\n",
    "alpha1 = [1,2]\n",
    "delta1 = [1,2]\n",
    "\n",
    "parallax = [1,2] \n",
    "change_RA = [1,2]\n",
    "change_DEC = [1,2] \n",
    "\n",
    "t1 = 4.2 \n",
    "t0 = 0"
   ]
  },
  {
   "cell_type": "markdown",
   "id": "166d865c",
   "metadata": {},
   "source": [
    "Using a loop to calculate and print the values "
   ]
  },
  {
   "cell_type": "code",
   "execution_count": 344,
   "id": "0d65e96f",
   "metadata": {},
   "outputs": [
    {
     "name": "stdout",
     "output_type": "stream",
     "text": [
      "The number of planets is: 2\n",
      "The planet we are calculating for is : Earth\n",
      "A = -0.1565162015497247\n",
      "B = -0.5292883763792944\n",
      "F = 0.5292883763792944\n",
      "G = -0.7577671761149258\n",
      "X = -0.4328468365471424\n",
      "Y =  0.909170621004163\n",
      "PI_RA = -0.23913362692838303\n",
      "PI_DEC = 3.2700308085438943\n",
      "3.22 = 3.08488068177645\n",
      "3.23 = 9.01899179309612\n",
      "The planet we are calculating for is : Planet from Figure 3.1\n",
      "A = 0.3103544822205427\n",
      "B = -0.1325584592983651\n",
      "F = 0.1325584592983651\n",
      "G = -0.5393336197077429\n",
      "X = -0.6161468365471424\n",
      "Y =  0.890925888059458\n",
      "PI_RA = 2.650888526745648\n",
      "PI_DEC = 1.7291347986499686\n",
      "3.22 = 12.4706525716528\n",
      "3.23 = 13.7851454279417\n"
     ]
    }
   ],
   "source": [
    "n = len(planets)\n",
    "print('The number of planets is:',n)\n",
    "    \n",
    "j = 0\n",
    "for j in range(n):\n",
    "    print('The planet we are calculating for is :', planets[j])\n",
    "    \n",
    "    A = a[j]*(math.cos(omega[j])*math.cos(OMEGA[j])-math.sin(omega[j])*math.sin(OMEGA[j])*math.cos(i[j]))\n",
    "    print('A =',A)\n",
    "    \n",
    "    B = a[j]*(math.cos(omega[j])*math.sin(OMEGA[j])+math.sin(omega[j])*math.cos(OMEGA[j])*math.cos(i[j]))\n",
    "    print('B =',B)\n",
    "    \n",
    "    F = a[j]*(-math.sin(omega[j])*math.cos(OMEGA[j])-math.cos(omega[j])*math.sin(OMEGA[j])*math.cos(i[j]))\n",
    "    print('F =',F)\n",
    "    \n",
    "    G = a[j]*(-math.sin(omega[j])*math.sin(OMEGA[j])+math.cos(omega[j])*math.cos(OMEGA[j])*math.cos(i[j]))\n",
    "    print('G =',G)\n",
    "    \n",
    "    X = math.cos(E[j])-e[j]\n",
    "    print('X =',X)\n",
    "    \n",
    "    Y = sqrt(1-e[j]**2)*math.sin(E[j])\n",
    "    print('Y = ', Y)\n",
    "    \n",
    "    PI_RA = rx[j]*math.sin(alpha1[j]) - ry[j]*math.cos(alpha1[j])\n",
    "    print('PI_RA =',PI_RA)\n",
    "    \n",
    "    PI_DEC = (rx[j]*math.cos(alpha1[j])+ry[j]*math.sin(alpha1[j]))*math.sin(delta1[j]) - rz[j]*math.cos(delta1[j])\n",
    "    print('PI_DEC =',PI_DEC)\n",
    "    \n",
    "    three22 = (B*X+G*Y)+change_RA[j]*math.cos(delta1[j])+parallax[j]*PI_RA+prop_RA[j]*(t-t0)\n",
    "    print('3.22 =',three22)\n",
    "    \n",
    "    three23 = ((A*X)+(F*Y))+change_DEC[j] + parallax[j]*PI_DEC + prop_DEC[j]*(t-t0)\n",
    "    print('3.23 =',three23)"
   ]
  },
  {
   "cell_type": "code",
   "execution_count": null,
   "id": "0ac0f36e",
   "metadata": {},
   "outputs": [],
   "source": []
  }
 ],
 "metadata": {
  "kernelspec": {
   "display_name": "Python 3 (ipykernel)",
   "language": "python",
   "name": "python3"
  },
  "language_info": {
   "codemirror_mode": {
    "name": "ipython",
    "version": 3
   },
   "file_extension": ".py",
   "mimetype": "text/x-python",
   "name": "python",
   "nbconvert_exporter": "python",
   "pygments_lexer": "ipython3",
   "version": "3.9.7"
  }
 },
 "nbformat": 4,
 "nbformat_minor": 5
}
