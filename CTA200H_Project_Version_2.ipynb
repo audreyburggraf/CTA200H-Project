{
 "cells": [
  {
   "cell_type": "code",
   "execution_count": 81,
   "id": "1078004c",
   "metadata": {},
   "outputs": [],
   "source": [
    "import rebound \n",
    "\n",
    "import sympy as sp\n",
    "from matplotlib import pyplot as plt\n",
    "from matplotlib import pyplot\n",
    "\n",
    "import numpy as np\n",
    "\n",
    "from sympy import init_printing\n",
    "init_printing()\n",
    "\n",
    "%matplotlib inline\n",
    "from sympy import *\n",
    "\n",
    "import math"
   ]
  },
  {
   "cell_type": "markdown",
   "id": "54d78b04",
   "metadata": {},
   "source": [
    "# Predicting an Astrometric signal"
   ]
  },
  {
   "cell_type": "markdown",
   "id": "5b9a5790",
   "metadata": {},
   "source": [
    "## Calculating velocity of the star"
   ]
  },
  {
   "cell_type": "markdown",
   "id": "4f24aa25",
   "metadata": {},
   "source": [
    "Proper motion and distance are given"
   ]
  },
  {
   "cell_type": "code",
   "execution_count": 82,
   "id": "d05b1c9d",
   "metadata": {},
   "outputs": [
    {
     "name": "stdout",
     "output_type": "stream",
     "text": [
      "The proper motion is: 0.05 as/year \n",
      "The distance to the star is 50 pc\n"
     ]
    }
   ],
   "source": [
    "proper_motion_mas_yr = 50\n",
    "proper_motion_as_yr = proper_motion_mas_yr * 0.001\n",
    "print('The proper motion is:',proper_motion_as_yr,'as/year ')\n",
    "\n",
    "D = 50\n",
    "print('The distance to the star is',D,'pc')"
   ]
  },
  {
   "cell_type": "markdown",
   "id": "9bb731e8",
   "metadata": {},
   "source": [
    "Use the equation $v_T=4.74D\\mu$"
   ]
  },
  {
   "cell_type": "code",
   "execution_count": 83,
   "id": "4385b08f",
   "metadata": {},
   "outputs": [
    {
     "name": "stdout",
     "output_type": "stream",
     "text": [
      "The velocity of the star is 11.850000000000001 km/s or 2.4983221925133696 AU/years\n"
     ]
    }
   ],
   "source": [
    "v_star_kms = 4.74*proper_motion_as_yr*D\n",
    "v_star_AUyear = v_star_kms * (1/1.496e+8) * (3.154e+7)\n",
    "print('The velocity of the star is',v_star_kms,'km/s or',v_star_AUyear,'AU/years')"
   ]
  },
  {
   "cell_type": "markdown",
   "id": "1653da72",
   "metadata": {},
   "source": [
    "Setting the timescale as 4.2 years "
   ]
  },
  {
   "cell_type": "code",
   "execution_count": 84,
   "id": "c17ae3ad",
   "metadata": {},
   "outputs": [],
   "source": [
    "timescale = 4.2"
   ]
  },
  {
   "cell_type": "markdown",
   "id": "af19645e",
   "metadata": {},
   "source": [
    "Setting the masses for earth and the sun in solar units for later calculations"
   ]
  },
  {
   "cell_type": "code",
   "execution_count": 85,
   "id": "a0d61b17",
   "metadata": {},
   "outputs": [],
   "source": [
    "m_sun = 1 \n",
    "m_earth = 3.0027e-6"
   ]
  },
  {
   "cell_type": "markdown",
   "id": "b778c78d",
   "metadata": {},
   "source": [
    "## Simulation WITHOUT planet "
   ]
  },
  {
   "cell_type": "code",
   "execution_count": 86,
   "id": "b4c35bea",
   "metadata": {
    "scrolled": false
   },
   "outputs": [
    {
     "name": "stdout",
     "output_type": "stream",
     "text": [
      "The units for this simulation are: {'length': 'au', 'mass': 'msun', 'time': 'year'}\n"
     ]
    }
   ],
   "source": [
    "sim = rebound.Simulation()                                # starting simulation named sim \n",
    "\n",
    "sim.units=[\"msun\",\"AU\",\"year\"]                            # setting units of sim \n",
    "print('The units for this simulation are:',sim.units)     # printing units of sim \n",
    "\n",
    "sim.add(m=1)                                              # add the Sun as the central object \n",
    "\n",
    "sim.add(m=3.0027e-6, a=1, e=0)                            # add Earth in a 1 AU circular orbit \n",
    "\n",
    "sim.add(m=1, x = 1.031e7, vy = v_star_AUyear, z=2)             # add a hypothetical star 50 pc away with calculated velocity (guessed its mass)"
   ]
  },
  {
   "cell_type": "markdown",
   "id": "31500570",
   "metadata": {},
   "source": [
    "Creating arrays with a length of 50 to hold specific values"
   ]
  },
  {
   "cell_type": "code",
   "execution_count": 87,
   "id": "10142ff9",
   "metadata": {},
   "outputs": [],
   "source": [
    "n=50\n",
    "\n",
    "# x,y and z positions of the sun, earth and star \n",
    "x_pos_sun, y_pos_sun, z_pos_sun  = np.empty((1,n)), np.empty((1,n)), np.empty((1,n))\n",
    "x_pos_earth, y_pos_earth, z_pos_earth = np.empty((1,n)), np.empty((1,n)), np.empty((1,n))\n",
    "x_pos_star, y_pos_star, z_pos_star = np.empty((1,n)), np.empty((1,n)), np.empty((1,n))\n",
    "\n",
    "# x,y and z positions of COM of sun-earth system\n",
    "x_cm, y_cm, z_cm = np.empty((1,n)), np.empty((1,n)), np.empty((1,n))\n",
    "\n",
    "# x components of position vectors \n",
    "r_COM_x, r_earth_x, r_star_x, r_SE_x, r_SC_x = np.empty((1,n)), np.empty((1,n)), np.empty((1,n)), np.empty((1,n)), np.empty((1,n))\n",
    "\n",
    "# y components of position vectors \n",
    "r_COM_y, r_earth_y, r_star_y, r_SE_y,r_SC_y = np.empty((1,n)), np.empty((1,n)), np.empty((1,n)), np.empty((1,n)), np.empty((1,n))\n",
    "\n",
    "# z components of position vectors \n",
    "r_COM_z, r_earth_z, r_star_z, r_SE_z, r_SC_z = np.empty((1,n)), np.empty((1,n)), np.empty((1,n)), np.empty((1,n)), np.empty((1,n))\n",
    "\n",
    "# length of porision vectors \n",
    "r_COM, r_earth, r_star, r_SE, r_SC = np.empty((1,n)), np.empty((1,n)), np.empty((1,n)), np.empty((1,n)), np.empty((1,n))\n",
    "\n",
    "# right ascension and declination\n",
    "alpha = np.empty((1,n))\n",
    "delta = np.empty((1,n))\n",
    "\n",
    "    \n",
    "# norm in xy and xyz plane \n",
    "r_SE_xy, r_SE_xyz = np.empty((1,n)), np.empty((1,n))\n",
    "\n",
    "times = np.linspace(0,timescale,num=n)"
   ]
  },
  {
   "cell_type": "markdown",
   "id": "bbd44139",
   "metadata": {},
   "source": [
    "Creating a for loop to fill the arrays that were created"
   ]
  },
  {
   "cell_type": "code",
   "execution_count": 88,
   "id": "d60aacf7",
   "metadata": {},
   "outputs": [],
   "source": [
    " for i,t in enumerate(times):\n",
    "    sim.integrate(t)\n",
    "    \n",
    "    # x,y and z positions of the sun\n",
    "    x_pos_sun[0,i] = sim.particles[0].x\n",
    "    y_pos_sun[0,i] = sim.particles[0].y\n",
    "    z_pos_sun[0,i] = sim.particles[0].z\n",
    "    \n",
    "    # x,y and z positions of earth \n",
    "    x_pos_earth[0,i] = sim.particles[1].x\n",
    "    y_pos_earth[0,i] = sim.particles[1].y\n",
    "    z_pos_earth[0,i] = sim.particles[1].z\n",
    "    \n",
    "    # x,y and z positions of the star\n",
    "    x_pos_star[0,i] = sim.particles[2].x\n",
    "    y_pos_star[0,i] = sim.particles[2].y\n",
    "    z_pos_star[0,i] = sim.particles[2].z\n",
    "    \n",
    "    # earth is the center of the reference frame to find RA and Dec\n",
    "    #r_star - r_earth \n",
    "    r_SE_x[0,j] = x_pos_star[0,j] - x_pos_earth[0,j]\n",
    "    r_SE_y[0,j] = y_pos_star[0,j] - y_pos_earth[0,j]\n",
    "    r_SE_z[0,j] = z_pos_star[0,j] - z_pos_earth[0,j]\n",
    "    #print('The vector compponents of r_star - r_earth are (',r_SE_x_wp,',',r_SE_y_wp,',',r_SE_z_wp,')')\n",
    "\n",
    "    # calculating the lengths of vectors \n",
    "    r_SE_xy[0,j]  = np.sqrt(r_SE_x[0,j]**2 + r_SE_y[0,j]**2)\n",
    "    r_SE_xyz[0,j] = np.sqrt(r_SE_x[0,j]**2 + r_SE_y[0,j]**2 + r_SE_z[0,j]**2)\n",
    "    \n",
    "    # calculating RA and Dec\n",
    "    alpha[0,j] = (np.arctan(r_SE_y[0,j]/r_SE_x[0,j]))*1e6\n",
    "    delta[0,j] = (np.arccos(r_SE_xy[0,j]/r_SE_xyz[0,j]))*1e6"
   ]
  },
  {
   "cell_type": "markdown",
   "id": "6391b2e9",
   "metadata": {},
   "source": [
    "Comment/ un-comment speficic lines depending on what arrays you want printed out "
   ]
  },
  {
   "cell_type": "code",
   "execution_count": 89,
   "id": "cd8f00ed",
   "metadata": {},
   "outputs": [],
   "source": [
    "#print('x-position of sun:', x_pos_sun)\n",
    "#print('y-position of sun:', y_pos_sun)\n",
    "\n",
    "#print('x-position of earth:', x_pos_earth)\n",
    "#print('y-position of earth:', y_pos_earth)\n",
    "\n",
    "#print('x-position of star:', x_pos_star)\n",
    "#print('y-position of star:', y_pos_star)\n",
    "\n",
    "#print('xcm of sun earth system:', x_cm)\n",
    "#print('ycm of sun earth system:', y_cm)\n",
    "\n",
    "#print('r_COM :', r_COM)\n",
    "#print('r_earth :', r_earth)\n",
    "#print('r_star :', r_star)\n",
    "#print('r_SE :', r_SE)\n",
    "#print('r_SC :', r_SC)\n",
    "\n",
    "#print('Values of RA are:',alpha)\n",
    "#print('Values of Dec are:',delta)"
   ]
  },
  {
   "cell_type": "markdown",
   "id": "e4c692c4",
   "metadata": {},
   "source": [
    "Creating a plot for the x and y positions of the objects "
   ]
  },
  {
   "cell_type": "code",
   "execution_count": 90,
   "id": "dbf12776",
   "metadata": {},
   "outputs": [
    {
     "data": {
      "image/png": "[encoded data removed]",
      "text/plain": [
       "<Figure size 432x288 with 1 Axes>"
      ]
     },
     "metadata": {
      "needs_background": "light"
     },
     "output_type": "display_data"
    }
   ],
   "source": [
    "plt.clf() \n",
    "\n",
    "#plt.rcParams['figure.figsize'] = [15/2, 15/2]   \n",
    "\n",
    "# plot style and colour\n",
    "plt.style.use('seaborn')\n",
    "plt.rcParams['axes.facecolor']='whitesmoke'\n",
    "\n",
    "# plot border\n",
    "plt.rcParams[\"axes.edgecolor\"] = '0'\n",
    "plt.rcParams[\"axes.linewidth\"]  = 0.7\n",
    "\n",
    "# plot grid\n",
    "plt.grid(color='0.85')\n",
    "plt.minorticks_on() \n",
    "\n",
    "# plotting data \n",
    "plt.scatter(x_pos_sun, y_pos_sun, color='gold', label='Sun', s=550,marker='*') \n",
    "plt.scatter(x_pos_earth, y_pos_earth, color='dodgerblue', label='Earth', s=55) \n",
    "#plt.scatter(x_pos_star, y_pos_star, color='darkorange', label='Star', s=55, marker='*') \n",
    "\n",
    "# setting titles\n",
    "plt.title('Positions (without planet)',fontsize = 25)             \n",
    "plt.xlabel('X-position',fontsize = 17)                     \n",
    "plt.ylabel('Y-position',fontsize = 17)\n",
    "\n",
    "# plotting legend\n",
    "legend=plt.legend(loc=\"upper right\",frameon=True, markerscale=1)\n",
    "legend.get_frame().set_edgecolor('0.3')\n",
    "legend.get_frame().set_linewidth(1)\n",
    "       \n",
    "plt.show()  "
   ]
  },
  {
   "cell_type": "markdown",
   "id": "c7b1ff90",
   "metadata": {},
   "source": [
    "## Simulation WITH planet"
   ]
  },
  {
   "cell_type": "code",
   "execution_count": 91,
   "id": "6c2bef6e",
   "metadata": {},
   "outputs": [
    {
     "name": "stdout",
     "output_type": "stream",
     "text": [
      "The units for sim are: {'length': 'au', 'mass': 'msun', 'time': 'year'}\n"
     ]
    }
   ],
   "source": [
    "sim_wp = rebound.Simulation()                                                # create a simulation called sim_wp \n",
    "sim_wp.units=[\"msun\",\"AU\",\"year\"]                                            # setting the units for sim_wpm\n",
    "print('The units for sim are:',sim_wp.units)                                 # printing the units for sim_wp\n",
    "\n",
    "sim_wp.add(m=1)                                                              # add Sun as the central object \n",
    "\n",
    "sim_wp.add(m=3.0027e-6, a=1, e=0)                                            # add Earth in a 1 AU circular orbit \n",
    "\n",
    "sim_wp.add(m=1, x = 1.031e7, vy=v_star_AUyear, z = 200)                          # add a hypothetical star 50 pc away with calculated mass (guessed its mass)\n",
    "\n",
    "sim_wp.add(m = 0.00477294, a = 0.6, e = 0.2, primary = sim_wp.particles[2])  # add planet from figure 3.1 caption and have it orbit the star "
   ]
  },
  {
   "cell_type": "markdown",
   "id": "1099075c",
   "metadata": {},
   "source": [
    "Creating arrays to hold data "
   ]
  },
  {
   "cell_type": "code",
   "execution_count": 92,
   "id": "bc2cc4e6",
   "metadata": {},
   "outputs": [],
   "source": [
    "# x,y and z positions\n",
    "x_pos_sun_wp, y_pos_sun_wp, z_pos_sun_wp  = np.empty((1,n)), np.empty((1,n)), np.empty((1,n))       # sun\n",
    "x_pos_earth_wp, y_pos_earth_wp, z_pos_earth_wp = np.empty((1,n)), np.empty((1,n)), np.empty((1,n))  # earth \n",
    "x_pos_star_wp, y_pos_star_wp, z_pos_star_wp = np.empty((1,n)), np.empty((1,n)), np.empty((1,n))     # star \n",
    "x_pos_planet, y_pos_planet, z_pos_planet = np.empty((1,n)), np.empty((1,n)), np.empty((1,n))        # planet \n",
    "\n",
    "# x,y and z positions of COM of sun-earth system\n",
    "x_cm_wp, y_cm_wp, z_cm_wp = np.empty((1,n)), np.empty((1,n)), np.empty((1,n))\n",
    "\n",
    "# x,y,z components of r_star - r_ earth \n",
    "r_SE_x_wp, r_SE_y_wp, r_SE_z_wp =np.empty((1,n)), np.empty((1,n)), np.empty((1,n))\n",
    "\n",
    "# x,y,z component of r_star - r_com\n",
    "r_SC_x_wp, r_SC_y_wp, r_SC_z_wp =  np.empty((1,n)),  np.empty((1,n)),  np.empty((1,n))\n",
    "\n",
    "# right ascension and declination\n",
    "alpha_wp = np.empty((1,n))\n",
    "delta_wp = np.empty((1,n))\n",
    "\n",
    "# norm in xy and xyz plane \n",
    "r_SE_xy_wp, r_SE_xyz_wp = np.empty((1,n)), np.empty((1,n))\n",
    "    \n",
    "times_wp = np.linspace(0,timescale,num=n)"
   ]
  },
  {
   "cell_type": "markdown",
   "id": "89806528",
   "metadata": {},
   "source": [
    "Filling arrays with data using a for loop"
   ]
  },
  {
   "cell_type": "code",
   "execution_count": 93,
   "id": "88a951ca",
   "metadata": {},
   "outputs": [],
   "source": [
    "for j,t_wp in enumerate(times_wp):\n",
    "    sim_wp.integrate(t_wp)\n",
    "    \n",
    "    # x,y and z positions of the sun\n",
    "    x_pos_sun_wp[0,j] = sim_wp.particles[0].x\n",
    "    y_pos_sun_wp[0,j] = sim_wp.particles[0].y\n",
    "    z_pos_sun_wp[0,j] = sim_wp.particles[0].z\n",
    "    \n",
    "    # x,y and z positions of earth \n",
    "    x_pos_earth_wp[0,j] = sim_wp.particles[1].x\n",
    "    y_pos_earth_wp[0,j] = sim_wp.particles[1].y\n",
    "    z_pos_earth_wp[0,j] = sim_wp.particles[1].z\n",
    "    \n",
    "    # x,y and z positions of the star\n",
    "    x_pos_star_wp[0,j] = sim_wp.particles[2].x\n",
    "    y_pos_star_wp[0,j] = sim_wp.particles[2].y\n",
    "    z_pos_star_wp[0,j] = sim_wp.particles[2].z\n",
    "    \n",
    "    # x,y and z positions of the planet\n",
    "    x_pos_planet[0,j] = sim_wp.particles[3].x\n",
    "    y_pos_planet[0,j] = sim_wp.particles[3].y\n",
    "    z_pos_planet[0,j] = sim_wp.particles[3].z\n",
    "    \n",
    "    # x,y and z positions of COM of sun-earth system\n",
    "    x_cm_wp[0,j] = (sim_wp.particles[0].x*m_sun+ sim_wp.particles[1].x*m_earth)/(m_sun+m_earth)\n",
    "    y_cm_wp[0,j] = (sim_wp.particles[0].y*m_sun+ sim_wp.particles[1].y*m_earth)/(m_sun+m_earth)\n",
    "    z_cm_wp[0,j] = (sim_wp.particles[0].z*m_sun+ sim_wp.particles[1].z*m_earth)/(m_sun+m_earth)\n",
    "    \n",
    "    #r_star - r_earth \n",
    "    r_SE_x_wp[0,j] = x_pos_star_wp[0,j] - x_pos_earth_wp[0,j]\n",
    "    r_SE_y_wp[0,j] = y_pos_star_wp[0,j] - y_pos_earth_wp[0,j]\n",
    "    r_SE_z_wp[0,j] = z_pos_star_wp[0,j] - z_pos_earth_wp[0,j]\n",
    "    #print('The vector compponents of r_star - r_earth are (',r_SE_x_wp,',',r_SE_y_wp,',',r_SE_z_wp,')')\n",
    "\n",
    "    # calculating the lengths of vectors needed for RA and Dec\n",
    "    r_SE_xy_wp[0,j]  = np.sqrt(r_SE_x_wp[0,j]**2 + r_SE_y_wp[0,j]**2)\n",
    "    r_SE_xyz_wp[0,j] = np.sqrt(r_SE_x_wp[0,j]**2 + r_SE_y_wp[0,j]**2 + r_SE_z_wp[0,j]**2)\n",
    "    \n",
    "    #r_star - r_COM\n",
    "    r_SC_x_wp[0,j] = x_pos_star_wp[0,j] - x_cm_wp[0,j]\n",
    "    r_SC_y_wp[0,j] = y_pos_star_wp[0,j] - y_cm_wp[0,j]\n",
    "    r_SC_z_wp[0,j] = z_pos_star_wp[0,j] - z_cm_wp[0,j]\n",
    "    \n",
    "    # calculating RA and Dec\n",
    "    alpha_wp[0,j] = (np.arctan(r_SE_y_wp[0,j]/r_SE_x_wp[0,j]))*1e6\n",
    "    delta_wp[0,j] = (np.arccos(r_SE_xy_wp[0,j]/r_SE_xyz_wp[0,j]))*1e6"
   ]
  },
  {
   "cell_type": "markdown",
   "id": "93c49e7b",
   "metadata": {},
   "source": [
    "Printing the values of the arrays "
   ]
  },
  {
   "cell_type": "code",
   "execution_count": 94,
   "id": "24243fef",
   "metadata": {},
   "outputs": [
    {
     "name": "stdout",
     "output_type": "stream",
     "text": [
      "The x-positions of the planet are: [[10310000.48       10310000.00956005 10309999.42270178 10309999.31003947\n",
      "  10309999.72959223 10310000.38032311 10310000.28401254 10309999.61973074\n",
      "  10309999.28933954 10309999.50029039 10310000.1365007  10310000.45956269\n",
      "  10309999.88210843 10309999.36178638 10309999.34883915 10309999.84976065\n",
      "  10310000.4478224  10310000.16841783 10309999.52295869 10309999.28696163\n",
      "  10309999.59332648 10310000.25554372 10310000.40092997 10309999.75985322\n",
      "  10309999.31836306 10309999.40529018 10309999.97634966 10310000.47861508\n",
      "  10310000.04274516 10309999.44123332 10309999.30293052 10309999.70002798\n",
      "  10310000.35777642 10310000.31119083 10309999.64701685 10309999.29294686\n",
      "  10309999.4786606  10310000.10406248 10310000.4687183  10309999.91481242\n",
      "  10309999.37590792 10309999.33707679 10309999.81785069 10310000.43360008\n",
      "  10310000.1996671  10309999.54663893 10309999.28581476 10309999.56784231\n",
      "  10310000.22595209 10310000.41943981]]\n",
      "The y-positions of the planet are: [[ 0.          0.78995801  0.80929692  0.48925099  0.30729862  0.76734029\n",
      "   1.74257301  2.05260097  1.81006812  1.51451736  1.65228637  2.55192097\n",
      "   3.20344241  3.12234671  2.79290481  2.68876136  3.30167479  4.22318613\n",
      "   4.3944238   4.10772547  3.85221369  4.12498308  5.09127641  5.59105865\n",
      "   5.427568    5.10365253  5.09524033  5.85148061  6.67322214  6.72152563\n",
      "   6.40636016  6.20710163  6.62761653  7.6081455   7.95620445  7.72775049\n",
      "   7.42438822  7.5298119   8.40465942  9.09390944  9.03707416  8.70863126\n",
      "   8.58264412  9.15632536 10.09659559 10.30237904 10.02558451  9.75818011\n",
      "   9.99456394 10.94836356]]\n",
      "The z-positions of the planet are: [[200. 200. 200. 200. 200. 200. 200. 200. 200. 200. 200. 200. 200. 200.\n",
      "  200. 200. 200. 200. 200. 200. 200. 200. 200. 200. 200. 200. 200. 200.\n",
      "  200. 200. 200. 200. 200. 200. 200. 200. 200. 200. 200. 200. 200. 200.\n",
      "  200. 200. 200. 200. 200. 200. 200. 200.]]\n"
     ]
    }
   ],
   "source": [
    "#print('x-position of sun:', x_pos_sun_wp)\n",
    "#print('y-position of sun:', y_pos_sun_wp)\n",
    "\n",
    "#print('x-position of earth:', x_pos_earth_wp)\n",
    "#print('y-position of earth:', y_pos_earth_wp)\n",
    "\n",
    "#print('x-position of star:', x_pos_star_wp)\n",
    "#print('y-position of star:', y_pos_star_wp)\n",
    "\n",
    "print('The x-positions of the planet are:',x_pos_planet)\n",
    "print('The y-positions of the planet are:',y_pos_planet)\n",
    "print('The z-positions of the planet are:',z_pos_planet)\n",
    "\n",
    "#print('xcm of sun earth system:', x_cm_wp)\n",
    "#print('ycm of sun earth system:', y_cm_wp)\n",
    "\n",
    "#print('Values of RA are:',alpha_wp)\n",
    "#print('Values of Dec are:',delta_wp)"
   ]
  },
  {
   "cell_type": "markdown",
   "id": "5f5a65df",
   "metadata": {},
   "source": [
    "Creating a plot for the positions of the objects "
   ]
  },
  {
   "cell_type": "code",
   "execution_count": 100,
   "id": "7b8629fd",
   "metadata": {},
   "outputs": [
    {
     "data": {
      "image/png": "[encoded data removed]",
      "text/plain": [
       "<Figure size 576x396 with 1 Axes>"
      ]
     },
     "metadata": {},
     "output_type": "display_data"
    }
   ],
   "source": [
    "plt.clf() \n",
    "\n",
    "#plt.rcParams['figure.figsize'] = [15/2, 15/2]   \n",
    "\n",
    "# plot style and colour\n",
    "plt.style.use('seaborn')\n",
    "plt.rcParams['axes.facecolor']='whitesmoke'\n",
    "\n",
    "# plot border\n",
    "plt.rcParams[\"axes.edgecolor\"] = '0'\n",
    "plt.rcParams[\"axes.linewidth\"]  = 0.7\n",
    "\n",
    "# plot grid\n",
    "plt.grid(color='0.85')\n",
    "plt.minorticks_on() \n",
    "\n",
    "# plotting data \n",
    "#plt.scatter(x_pos_sun_wp, y_pos_sun_wp, color='gold', label='Sun', s=550,marker='*') \n",
    "#plt.scatter(x_pos_earth_wp, y_pos_earth_wp, color='dodgerblue', label='Earth', s=55) \n",
    "plt.scatter(x_pos_star_wp, y_pos_star_wp, color='darkorange', label='Star', s=55, marker='*') \n",
    "plt.scatter(x_pos_planet, y_pos_planet, color='red', s=55, label='planet') \n",
    "\n",
    "# creating titles \n",
    "plt.title('Positions (with planet)',fontsize = 25)             \n",
    "plt.xlabel('X-position',fontsize = 17)                     \n",
    "plt.ylabel('Y-position',fontsize = 17)\n",
    "\n",
    "# creating legend\n",
    "legend=plt.legend(loc=\"upper right\",frameon=True, markerscale=1)\n",
    "legend.get_frame().set_edgecolor('0.3')\n",
    "legend.get_frame().set_linewidth(1)\n",
    "         \n",
    "plt.show() "
   ]
  },
  {
   "cell_type": "markdown",
   "id": "b6708527",
   "metadata": {},
   "source": [
    "## Comparing astrometric signals"
   ]
  },
  {
   "cell_type": "markdown",
   "id": "0648efe7",
   "metadata": {},
   "source": [
    "Creating a plot for the astrometric signals of the simulation with and without the planets to look at their simularities/differences "
   ]
  },
  {
   "cell_type": "code",
   "execution_count": 96,
   "id": "010b207e",
   "metadata": {},
   "outputs": [
    {
     "data": {
      "image/png": "[encoded data removed]",
      "text/plain": [
       "<Figure size 576x396 with 1 Axes>"
      ]
     },
     "metadata": {},
     "output_type": "display_data"
    }
   ],
   "source": [
    "plt.clf() \n",
    "\n",
    "#plt.rcParams['figure.figsize'] = [15/2, 15/2]   \n",
    "\n",
    "# plot style and colour\n",
    "plt.style.use('seaborn')\n",
    "plt.rcParams['axes.facecolor']='whitesmoke'\n",
    "\n",
    "# plot border\n",
    "plt.rcParams[\"axes.edgecolor\"] = '0'\n",
    "plt.rcParams[\"axes.linewidth\"]  = 0.7\n",
    "\n",
    "# plot grid\n",
    "plt.grid(color='0.85')\n",
    "plt.minorticks_on() \n",
    "\n",
    "# plot data \n",
    "plt.scatter(alpha, delta, color='gold', label='Without planet', s=55) \n",
    "plt.scatter(alpha_wp, delta_wp, color='dodgerblue', label='With planet', s=55) \n",
    "\n",
    "# set titles \n",
    "plt.title('RA vs Dec Plot',fontsize = 25)             \n",
    "plt.xlabel('Right ascension [units]',fontsize = 17)                     \n",
    "plt.ylabel('Declination [units]',fontsize = 17)\n",
    "\n",
    "# plot legend\n",
    "legend=plt.legend(loc=\"upper right\",frameon=True, markerscale=1)\n",
    "legend.get_frame().set_edgecolor('0.3')\n",
    "legend.get_frame().set_linewidth(1)\n",
    "       \n",
    "plt.show() "
   ]
  },
  {
   "cell_type": "markdown",
   "id": "4ac619b3",
   "metadata": {},
   "source": [
    "## Reproducing astrometric signal using equations 3.22 and 3.23"
   ]
  },
  {
   "cell_type": "markdown",
   "id": "b7828861",
   "metadata": {},
   "source": [
    "Setting variables (random for now)"
   ]
  },
  {
   "cell_type": "code",
   "execution_count": 97,
   "id": "7c2ddd3a",
   "metadata": {},
   "outputs": [],
   "source": [
    "planets = ['Earth', 'Planet from Figure 3.1']\n",
    "\n",
    "a = [1,  0.6]           # semi-major axis in units of AU\n",
    "omega = [2,2]           # argument of perihelion\n",
    "OMEGA = [2,2]           # longitude of the ascending node \n",
    "i = [1.160644,2]         # orbital inclination (rad)\n",
    "\n",
    "e = [0.0167,0.2]        # ellipticity of the orbit \n",
    "E = [2,2]               #eccentricity anomaly \n",
    "\n",
    "prop_RA = [1,2]         # proper motion in RA direction\n",
    "prop_DEC = [1,2]        # proper motion in DEC direction \n",
    "\n",
    "# cartesian components of the observer position wrt the solar system barycentre\n",
    "rx = [1,2]\n",
    "ry = [2,2] \n",
    "rz = [3,2] \n",
    "\n",
    "alpha1 = [1,2]\n",
    "delta1 = [1,2]\n",
    "\n",
    "parallax = [1,2] \n",
    "change_RA = [1,2]\n",
    "change_DEC = [1,2] \n",
    "\n",
    "t1 = 4.2 \n",
    "t0 = 0"
   ]
  },
  {
   "cell_type": "markdown",
   "id": "166d865c",
   "metadata": {},
   "source": [
    "Using a loop to calculate and print the values "
   ]
  },
  {
   "cell_type": "code",
   "execution_count": 98,
   "id": "0d65e96f",
   "metadata": {},
   "outputs": [
    {
     "name": "stdout",
     "output_type": "stream",
     "text": [
      "The number of planets is: 2\n",
      "The planet we are calculating for is : Earth\n",
      "A = -0.1565162015497247\n",
      "B = -0.5292883763792944\n",
      "F = 0.5292883763792944\n",
      "G = -0.7577671761149258\n",
      "X = -0.4328468365471424\n",
      "Y =  0.909170621004163\n",
      "PI_RA = -0.23913362692838303\n",
      "PI_DEC = 0.24988863235556402\n",
      "3.22 = 4.04132982419173\n",
      "3.23 = 5.99884961690779\n",
      "The planet we are calculating for is : Planet from Figure 3.1\n",
      "A = 0.3103544822205427\n",
      "B = -0.1325584592983651\n",
      "F = 0.1325584592983651\n",
      "G = -0.5393336197077429\n",
      "X = -0.6161468365471424\n",
      "Y =  0.890925888059458\n",
      "PI_RA = 2.650888526745648\n",
      "PI_DEC = 1.7291347986499686\n",
      "3.22 = 12.4706525716528\n",
      "3.23 = 13.7851454279417\n"
     ]
    }
   ],
   "source": [
    "n = len(planets)\n",
    "print('The number of planets is:',n)\n",
    "    \n",
    "j = 0\n",
    "for j in range(n):\n",
    "    print('The planet we are calculating for is :', planets[j])\n",
    "    \n",
    "    A = a[j]*(math.cos(omega[j])*math.cos(OMEGA[j])-math.sin(omega[j])*math.sin(OMEGA[j])*math.cos(i[j]))\n",
    "    print('A =',A)\n",
    "    \n",
    "    B = a[j]*(math.cos(omega[j])*math.sin(OMEGA[j])+math.sin(omega[j])*math.cos(OMEGA[j])*math.cos(i[j]))\n",
    "    print('B =',B)\n",
    "    \n",
    "    F = a[j]*(-math.sin(omega[j])*math.cos(OMEGA[j])-math.cos(omega[j])*math.sin(OMEGA[j])*math.cos(i[j]))\n",
    "    print('F =',F)\n",
    "    \n",
    "    G = a[j]*(-math.sin(omega[j])*math.sin(OMEGA[j])+math.cos(omega[j])*math.cos(OMEGA[j])*math.cos(i[j]))\n",
    "    print('G =',G)\n",
    "    \n",
    "    X = math.cos(E[j])-e[j]\n",
    "    print('X =',X)\n",
    "    \n",
    "    Y = sqrt(1-e[j]**2)*math.sin(E[j])\n",
    "    print('Y = ', Y)\n",
    "    \n",
    "    PI_RA = rx[j]*math.sin(alpha1[j]) - ry[j]*math.cos(alpha1[j])\n",
    "    print('PI_RA =',PI_RA)\n",
    "    \n",
    "    PI_DEC = (rx[j]*math.cos(alpha1[j])+ry[j]*math.sin(alpha1[j]))*math.sin(delta1[j]) - rz[j]*math.cos(delta1[j])\n",
    "    print('PI_DEC =',PI_DEC)\n",
    "    \n",
    "    three22 = (B*X+G*Y)+change_RA[j]*math.cos(delta1[j])+parallax[j]*PI_RA+prop_RA[j]*(t-t0)\n",
    "    print('3.22 =',three22)\n",
    "    \n",
    "    three23 = ((A*X)+(F*Y))+change_DEC[j] + parallax[j]*PI_DEC + prop_DEC[j]*(t-t0)\n",
    "    print('3.23 =',three23)"
   ]
  }
 ],
 "metadata": {
  "kernelspec": {
   "display_name": "Python 3 (ipykernel)",
   "language": "python",
   "name": "python3"
  },
  "language_info": {
   "codemirror_mode": {
    "name": "ipython",
    "version": 3
   },
   "file_extension": ".py",
   "mimetype": "text/x-python",
   "name": "python",
   "nbconvert_exporter": "python",
   "pygments_lexer": "ipython3",
   "version": "3.9.7"
  }
 },
 "nbformat": 4,
 "nbformat_minor": 5
}
