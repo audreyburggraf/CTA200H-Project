{
 "cells": [
  {
   "cell_type": "code",
   "execution_count": 39,
   "id": "87251a2c",
   "metadata": {},
   "outputs": [],
   "source": [
    "import rebound \n",
    "\n",
    "import sympy as sp\n",
    "from matplotlib import pyplot as plt\n",
    "from matplotlib import pyplot\n",
    "\n",
    "import numpy as np\n",
    "from numpy import cos, sin\n",
    "\n",
    "from sympy import init_printing\n",
    "init_printing()\n",
    "\n",
    "%matplotlib inline\n",
    "from sympy import *\n",
    "\n",
    "# plot style and colour\n",
    "plt.style.use('seaborn')\n",
    "plt.rcParams['axes.facecolor'] = 'whitesmoke'\n",
    "\n",
    "# plot border\n",
    "plt.rcParams[\"axes.edgecolor\"] = '0'\n",
    "plt.rcParams[\"axes.linewidth\"] = 0.7"
   ]
  },
  {
   "cell_type": "code",
   "execution_count": 40,
   "id": "37b9a474",
   "metadata": {},
   "outputs": [],
   "source": [
    "rad_mas = 206264806\n",
    "rad_as  = 206264806/1000\n",
    "as_mas  = 1000\n",
    "AU_pc   = 4.84814e-6"
   ]
  },
  {
   "cell_type": "code",
   "execution_count": 41,
   "id": "e8142a69",
   "metadata": {},
   "outputs": [],
   "source": [
    "def simple_function(R):\n",
    "    Rx, Ry, Rz = R\n",
    "    \n",
    "    rho = np.sqrt(Rx**2+Ry**2)\n",
    "    \n",
    "    d      = np.linalg.norm(R, axis=0)\n",
    "    delta  = np.arctan2(Rz, rho)\n",
    "    alpha  = np.arctan2(Ry, Rx)\n",
    "    \n",
    "    return(d,delta,alpha)"
   ]
  },
  {
   "cell_type": "code",
   "execution_count": 42,
   "id": "ff233b13",
   "metadata": {},
   "outputs": [],
   "source": [
    "def making_signal(R0, V0, times, t0=0, a_earth = 1):\n",
    "    Rx, Ry, Rz = R0\n",
    "    Vx, Vy, Vz = V0 \n",
    "    \n",
    "    rho = np.sqrt(Rx**2+Ry**2)\n",
    "    \n",
    "    d      = np.linalg.norm(R0, axis=0)\n",
    "    delta  = np.arctan2(Rz, rho)\n",
    "    alpha  = np.arctan2(Ry, Rx)\n",
    "    \n",
    "    sind, cosd, sina, cosa  = sin(delta), cos(delta), sin(alpha), cos(alpha)\n",
    "    \n",
    "    d_dot     =   Vx * cosa * cosd      +  Vy * sina * cosd     +  Vz * sind\n",
    "    delta_dot = -(Vx * sind * cosa)/d   - (Vy * sina * sind)/d  + (Vz * cosd)/d\n",
    "    alpha_dot = -(Vx * sina)/(d * cosd) + (Vy * cosa)/(d*cosd)\n",
    "    \n",
    "    T = times - t0\n",
    "    \n",
    "    proper_motion_term_dec = delta_dot*T\n",
    "    proper_motion_term_ra  = alpha_dot*T\n",
    "    \n",
    "    parallax_term_dec = (a_earth/d)*sin(delta)*cos(2*np.pi*T-alpha)\n",
    "    parallax_term_ra  = ((a_earth/(d*cos(delta)))*(sin(alpha)*cos(2*np.pi*T)-cos(alpha)*sin(2*np.pi*T)))\n",
    "    \n",
    "    signal_dec = proper_motion_term_dec + parallax_term_dec + delta \n",
    "    signal_ra  = proper_motion_term_ra  + parallax_term_ra + alpha\n",
    "    \n",
    "    return (proper_motion_term_dec, proper_motion_term_ra, \n",
    "            parallax_term_dec, parallax_term_ra,\n",
    "            signal_dec, signal_ra)"
   ]
  },
  {
   "cell_type": "code",
   "execution_count": 43,
   "id": "1c8c4172",
   "metadata": {},
   "outputs": [],
   "source": [
    "def get_simulation(m_star = 1, vy_star = 2.498, vz_star=4.247, z_star = 50*206265, m_planet=0.0143188, inc=0, a_AU=0.6, e=0.2):\n",
    "    sim_wp = rebound.Simulation()                                                              # create a simulation named sim_wp \n",
    "\n",
    "    sim_wp.units = [\"msun\",\"AU\",\"year\"]                                                        # setting units of sim_wpm\n",
    "\n",
    "    sim_wp.add(m = 1)                                                                          # add the Sun as the central object \n",
    "\n",
    "    sim_wp.add(m = 3.0027e-6, a = 1, e = 0)                                                    # add Earth in a 1 AU circular orbit \n",
    "    \n",
    "    sim_wp.add(x = 1.031e7, vy = vy_star, m = m_star, z = z_star, vz = vz_star)                # add a star 50 pc away with calculated velocity and set parameters\n",
    "\n",
    "    sim_wp.add(m = m_planet, a = a_AU, e = e, primary = sim_wp.particles[2], inc = inc)        # add planet from figure 3.1 caption and have it orbit the star \n",
    "    \n",
    "    com_particle  = sim_wp.calculate_com(first = 2,last = 4)\n",
    "    ssbc_particle = sim_wp.calculate_com(first = 0,last = 2)\n",
    "    \n",
    "    sim = rebound.Simulation()                          # create a simulation named sim \n",
    "\n",
    "    sim.units = [\"msun\",\"AU\",\"year\"]                    # setting units of sim \n",
    "\n",
    "    sim.add(m = 1)                                      # add the Sun as the central object \n",
    "\n",
    "    sim.add(m = 3.0027e-6, a = 1, e = 0)                # add Earth in a 1 AU circular orbit \n",
    "\n",
    "    sim.add(com_particle)                               # add a particle equivaent to the star-planet barycentre\n",
    "    \n",
    "    return(sim_wp, sim)"
   ]
  },
  {
   "cell_type": "code",
   "execution_count": 44,
   "id": "cc882e05",
   "metadata": {},
   "outputs": [],
   "source": [
    "s_, sim = get_simulation()"
   ]
  },
  {
   "cell_type": "code",
   "execution_count": 45,
   "id": "b77b7a67",
   "metadata": {},
   "outputs": [],
   "source": [
    "star_particle = sim.particles[2]\n",
    "ssbc_particle = sim.calculate_com(first = 0,last = 2)"
   ]
  },
  {
   "cell_type": "code",
   "execution_count": 46,
   "id": "b255e5b0",
   "metadata": {},
   "outputs": [],
   "source": [
    "r_star = np.array(star_particle.xyz)\n",
    "v_star = np.array(star_particle.vxyz)"
   ]
  },
  {
   "cell_type": "code",
   "execution_count": 47,
   "id": "81173003",
   "metadata": {},
   "outputs": [],
   "source": [
    "r_ssbc = np.array(ssbc_particle.xyz)\n",
    "v_ssbc = np.array(ssbc_particle.vxyz)"
   ]
  },
  {
   "cell_type": "code",
   "execution_count": 48,
   "id": "7bfae44b",
   "metadata": {},
   "outputs": [],
   "source": [
    "R0 = r_star - r_ssbc\n",
    "V0 = v_star - v_ssbc"
   ]
  },
  {
   "cell_type": "code",
   "execution_count": 49,
   "id": "32406b03",
   "metadata": {},
   "outputs": [],
   "source": [
    "timescale = 4.2\n",
    "m         = 200\n",
    "times     = np.linspace(0,timescale,num = m)"
   ]
  },
  {
   "cell_type": "code",
   "execution_count": 50,
   "id": "99600ae3",
   "metadata": {},
   "outputs": [
    {
     "ename": "AttributeError",
     "evalue": "'ImmutableDenseNDimArray' object has no attribute 'could_extract_minus_sign'",
     "output_type": "error",
     "traceback": [
      "\u001b[0;31m---------------------------------------------------------------------------\u001b[0m",
      "\u001b[0;31mTypeError\u001b[0m                                 Traceback (most recent call last)",
      "\u001b[0;32m/opt/anaconda3/lib/python3.9/site-packages/sympy/core/cache.py\u001b[0m in \u001b[0;36mwrapper\u001b[0;34m(*args, **kwargs)\u001b[0m\n\u001b[1;32m     71\u001b[0m             \u001b[0;32mtry\u001b[0m\u001b[0;34m:\u001b[0m\u001b[0;34m\u001b[0m\u001b[0;34m\u001b[0m\u001b[0m\n\u001b[0;32m---> 72\u001b[0;31m                 \u001b[0mretval\u001b[0m \u001b[0;34m=\u001b[0m \u001b[0mcfunc\u001b[0m\u001b[0;34m(\u001b[0m\u001b[0;34m*\u001b[0m\u001b[0margs\u001b[0m\u001b[0;34m,\u001b[0m \u001b[0;34m**\u001b[0m\u001b[0mkwargs\u001b[0m\u001b[0;34m)\u001b[0m\u001b[0;34m\u001b[0m\u001b[0;34m\u001b[0m\u001b[0m\n\u001b[0m\u001b[1;32m     73\u001b[0m             \u001b[0;32mexcept\u001b[0m \u001b[0mTypeError\u001b[0m \u001b[0;32mas\u001b[0m \u001b[0me\u001b[0m\u001b[0;34m:\u001b[0m\u001b[0;34m\u001b[0m\u001b[0;34m\u001b[0m\u001b[0m\n",
      "\u001b[0;31mTypeError\u001b[0m: unhashable type: 'numpy.ndarray'",
      "\nDuring handling of the above exception, another exception occurred:\n",
      "\u001b[0;31mTypeError\u001b[0m                                 Traceback (most recent call last)",
      "\u001b[0;32m/opt/anaconda3/lib/python3.9/site-packages/sympy/core/cache.py\u001b[0m in \u001b[0;36mwrapper\u001b[0;34m(*args, **kwargs)\u001b[0m\n\u001b[1;32m     71\u001b[0m             \u001b[0;32mtry\u001b[0m\u001b[0;34m:\u001b[0m\u001b[0;34m\u001b[0m\u001b[0;34m\u001b[0m\u001b[0m\n\u001b[0;32m---> 72\u001b[0;31m                 \u001b[0mretval\u001b[0m \u001b[0;34m=\u001b[0m \u001b[0mcfunc\u001b[0m\u001b[0;34m(\u001b[0m\u001b[0;34m*\u001b[0m\u001b[0margs\u001b[0m\u001b[0;34m,\u001b[0m \u001b[0;34m**\u001b[0m\u001b[0mkwargs\u001b[0m\u001b[0;34m)\u001b[0m\u001b[0;34m\u001b[0m\u001b[0;34m\u001b[0m\u001b[0m\n\u001b[0m\u001b[1;32m     73\u001b[0m             \u001b[0;32mexcept\u001b[0m \u001b[0mTypeError\u001b[0m \u001b[0;32mas\u001b[0m \u001b[0me\u001b[0m\u001b[0;34m:\u001b[0m\u001b[0;34m\u001b[0m\u001b[0;34m\u001b[0m\u001b[0m\n",
      "\u001b[0;31mTypeError\u001b[0m: unhashable type: 'numpy.ndarray'",
      "\nDuring handling of the above exception, another exception occurred:\n",
      "\u001b[0;31mAttributeError\u001b[0m                            Traceback (most recent call last)",
      "\u001b[0;32m/var/folders/kj/bzmrgm6154j7yg37zyl66c340000gn/T/ipykernel_74314/4224214294.py\u001b[0m in \u001b[0;36m<module>\u001b[0;34m\u001b[0m\n\u001b[0;32m----> 1\u001b[0;31m \u001b[0mfunction\u001b[0m \u001b[0;34m=\u001b[0m \u001b[0mmaking_signal\u001b[0m\u001b[0;34m(\u001b[0m\u001b[0mR0\u001b[0m\u001b[0;34m,\u001b[0m \u001b[0mV0\u001b[0m\u001b[0;34m,\u001b[0m \u001b[0mtimes\u001b[0m\u001b[0;34m)\u001b[0m\u001b[0;34m\u001b[0m\u001b[0;34m\u001b[0m\u001b[0m\n\u001b[0m\u001b[1;32m      2\u001b[0m \u001b[0mproper_motion_term_dec\u001b[0m\u001b[0;34m,\u001b[0m \u001b[0mproper_motion_term_ra\u001b[0m\u001b[0;34m,\u001b[0m \u001b[0mparallax_term_dec\u001b[0m\u001b[0;34m,\u001b[0m \u001b[0mparallax_term_ra\u001b[0m\u001b[0;34m,\u001b[0m \u001b[0msignal_dec\u001b[0m\u001b[0;34m,\u001b[0m \u001b[0msignal_ra\u001b[0m \u001b[0;34m=\u001b[0m \u001b[0mfunction\u001b[0m\u001b[0;34m\u001b[0m\u001b[0;34m\u001b[0m\u001b[0m\n",
      "\u001b[0;32m/var/folders/kj/bzmrgm6154j7yg37zyl66c340000gn/T/ipykernel_74314/636307382.py\u001b[0m in \u001b[0;36mmaking_signal\u001b[0;34m(R0, V0, times, t0, a_earth)\u001b[0m\n\u001b[1;32m     20\u001b[0m     \u001b[0mproper_motion_term_ra\u001b[0m  \u001b[0;34m=\u001b[0m \u001b[0malpha_dot\u001b[0m\u001b[0;34m*\u001b[0m\u001b[0mT\u001b[0m\u001b[0;34m\u001b[0m\u001b[0;34m\u001b[0m\u001b[0m\n\u001b[1;32m     21\u001b[0m \u001b[0;34m\u001b[0m\u001b[0m\n\u001b[0;32m---> 22\u001b[0;31m     \u001b[0mparallax_term_dec\u001b[0m \u001b[0;34m=\u001b[0m \u001b[0;34m(\u001b[0m\u001b[0ma_earth\u001b[0m\u001b[0;34m/\u001b[0m\u001b[0md\u001b[0m\u001b[0;34m)\u001b[0m\u001b[0;34m*\u001b[0m\u001b[0msin\u001b[0m\u001b[0;34m(\u001b[0m\u001b[0mdelta\u001b[0m\u001b[0;34m)\u001b[0m\u001b[0;34m*\u001b[0m\u001b[0mcos\u001b[0m\u001b[0;34m(\u001b[0m\u001b[0;36m2\u001b[0m\u001b[0;34m*\u001b[0m\u001b[0mnp\u001b[0m\u001b[0;34m.\u001b[0m\u001b[0mpi\u001b[0m\u001b[0;34m*\u001b[0m\u001b[0mT\u001b[0m\u001b[0;34m-\u001b[0m\u001b[0malpha\u001b[0m\u001b[0;34m)\u001b[0m\u001b[0;34m\u001b[0m\u001b[0;34m\u001b[0m\u001b[0m\n\u001b[0m\u001b[1;32m     23\u001b[0m     \u001b[0mparallax_term_ra\u001b[0m  \u001b[0;34m=\u001b[0m \u001b[0;34m(\u001b[0m\u001b[0;34m(\u001b[0m\u001b[0ma_earth\u001b[0m\u001b[0;34m/\u001b[0m\u001b[0;34m(\u001b[0m\u001b[0md\u001b[0m\u001b[0;34m*\u001b[0m\u001b[0mcos\u001b[0m\u001b[0;34m(\u001b[0m\u001b[0mdelta\u001b[0m\u001b[0;34m)\u001b[0m\u001b[0;34m)\u001b[0m\u001b[0;34m)\u001b[0m\u001b[0;34m*\u001b[0m\u001b[0;34m(\u001b[0m\u001b[0msin\u001b[0m\u001b[0;34m(\u001b[0m\u001b[0malpha\u001b[0m\u001b[0;34m)\u001b[0m\u001b[0;34m*\u001b[0m\u001b[0mcos\u001b[0m\u001b[0;34m(\u001b[0m\u001b[0;36m2\u001b[0m\u001b[0;34m*\u001b[0m\u001b[0mnp\u001b[0m\u001b[0;34m.\u001b[0m\u001b[0mpi\u001b[0m\u001b[0;34m*\u001b[0m\u001b[0mT\u001b[0m\u001b[0;34m)\u001b[0m\u001b[0;34m-\u001b[0m\u001b[0mcos\u001b[0m\u001b[0;34m(\u001b[0m\u001b[0malpha\u001b[0m\u001b[0;34m)\u001b[0m\u001b[0;34m*\u001b[0m\u001b[0msin\u001b[0m\u001b[0;34m(\u001b[0m\u001b[0;36m2\u001b[0m\u001b[0;34m*\u001b[0m\u001b[0mnp\u001b[0m\u001b[0;34m.\u001b[0m\u001b[0mpi\u001b[0m\u001b[0;34m*\u001b[0m\u001b[0mT\u001b[0m\u001b[0;34m)\u001b[0m\u001b[0;34m)\u001b[0m\u001b[0;34m)\u001b[0m\u001b[0;34m\u001b[0m\u001b[0;34m\u001b[0m\u001b[0m\n\u001b[1;32m     24\u001b[0m \u001b[0;34m\u001b[0m\u001b[0m\n",
      "\u001b[0;32m/opt/anaconda3/lib/python3.9/site-packages/sympy/core/cache.py\u001b[0m in \u001b[0;36mwrapper\u001b[0;34m(*args, **kwargs)\u001b[0m\n\u001b[1;32m     74\u001b[0m                 \u001b[0;32mif\u001b[0m \u001b[0;32mnot\u001b[0m \u001b[0me\u001b[0m\u001b[0;34m.\u001b[0m\u001b[0margs\u001b[0m \u001b[0;32mor\u001b[0m \u001b[0;32mnot\u001b[0m \u001b[0me\u001b[0m\u001b[0;34m.\u001b[0m\u001b[0margs\u001b[0m\u001b[0;34m[\u001b[0m\u001b[0;36m0\u001b[0m\u001b[0;34m]\u001b[0m\u001b[0;34m.\u001b[0m\u001b[0mstartswith\u001b[0m\u001b[0;34m(\u001b[0m\u001b[0;34m'unhashable type:'\u001b[0m\u001b[0;34m)\u001b[0m\u001b[0;34m:\u001b[0m\u001b[0;34m\u001b[0m\u001b[0;34m\u001b[0m\u001b[0m\n\u001b[1;32m     75\u001b[0m                     \u001b[0;32mraise\u001b[0m\u001b[0;34m\u001b[0m\u001b[0;34m\u001b[0m\u001b[0m\n\u001b[0;32m---> 76\u001b[0;31m                 \u001b[0mretval\u001b[0m \u001b[0;34m=\u001b[0m \u001b[0mfunc\u001b[0m\u001b[0;34m(\u001b[0m\u001b[0;34m*\u001b[0m\u001b[0margs\u001b[0m\u001b[0;34m,\u001b[0m \u001b[0;34m**\u001b[0m\u001b[0mkwargs\u001b[0m\u001b[0;34m)\u001b[0m\u001b[0;34m\u001b[0m\u001b[0;34m\u001b[0m\u001b[0m\n\u001b[0m\u001b[1;32m     77\u001b[0m             \u001b[0;32mreturn\u001b[0m \u001b[0mretval\u001b[0m\u001b[0;34m\u001b[0m\u001b[0;34m\u001b[0m\u001b[0m\n\u001b[1;32m     78\u001b[0m \u001b[0;34m\u001b[0m\u001b[0m\n",
      "\u001b[0;32m/opt/anaconda3/lib/python3.9/site-packages/sympy/core/function.py\u001b[0m in \u001b[0;36m__new__\u001b[0;34m(cls, *args, **options)\u001b[0m\n\u001b[1;32m    471\u001b[0m \u001b[0;34m\u001b[0m\u001b[0m\n\u001b[1;32m    472\u001b[0m         \u001b[0mevaluate\u001b[0m \u001b[0;34m=\u001b[0m \u001b[0moptions\u001b[0m\u001b[0;34m.\u001b[0m\u001b[0mget\u001b[0m\u001b[0;34m(\u001b[0m\u001b[0;34m'evaluate'\u001b[0m\u001b[0;34m,\u001b[0m \u001b[0mglobal_parameters\u001b[0m\u001b[0;34m.\u001b[0m\u001b[0mevaluate\u001b[0m\u001b[0;34m)\u001b[0m\u001b[0;34m\u001b[0m\u001b[0;34m\u001b[0m\u001b[0m\n\u001b[0;32m--> 473\u001b[0;31m         \u001b[0mresult\u001b[0m \u001b[0;34m=\u001b[0m \u001b[0msuper\u001b[0m\u001b[0;34m(\u001b[0m\u001b[0;34m)\u001b[0m\u001b[0;34m.\u001b[0m\u001b[0m__new__\u001b[0m\u001b[0;34m(\u001b[0m\u001b[0mcls\u001b[0m\u001b[0;34m,\u001b[0m \u001b[0;34m*\u001b[0m\u001b[0margs\u001b[0m\u001b[0;34m,\u001b[0m \u001b[0;34m**\u001b[0m\u001b[0moptions\u001b[0m\u001b[0;34m)\u001b[0m\u001b[0;34m\u001b[0m\u001b[0;34m\u001b[0m\u001b[0m\n\u001b[0m\u001b[1;32m    474\u001b[0m         \u001b[0;32mif\u001b[0m \u001b[0mevaluate\u001b[0m \u001b[0;32mand\u001b[0m \u001b[0misinstance\u001b[0m\u001b[0;34m(\u001b[0m\u001b[0mresult\u001b[0m\u001b[0;34m,\u001b[0m \u001b[0mcls\u001b[0m\u001b[0;34m)\u001b[0m \u001b[0;32mand\u001b[0m \u001b[0mresult\u001b[0m\u001b[0;34m.\u001b[0m\u001b[0margs\u001b[0m\u001b[0;34m:\u001b[0m\u001b[0;34m\u001b[0m\u001b[0;34m\u001b[0m\u001b[0m\n\u001b[1;32m    475\u001b[0m             \u001b[0mpr2\u001b[0m \u001b[0;34m=\u001b[0m \u001b[0mmin\u001b[0m\u001b[0;34m(\u001b[0m\u001b[0mcls\u001b[0m\u001b[0;34m.\u001b[0m\u001b[0m_should_evalf\u001b[0m\u001b[0;34m(\u001b[0m\u001b[0ma\u001b[0m\u001b[0;34m)\u001b[0m \u001b[0;32mfor\u001b[0m \u001b[0ma\u001b[0m \u001b[0;32min\u001b[0m \u001b[0mresult\u001b[0m\u001b[0;34m.\u001b[0m\u001b[0margs\u001b[0m\u001b[0;34m)\u001b[0m\u001b[0;34m\u001b[0m\u001b[0;34m\u001b[0m\u001b[0m\n",
      "\u001b[0;32m/opt/anaconda3/lib/python3.9/site-packages/sympy/core/cache.py\u001b[0m in \u001b[0;36mwrapper\u001b[0;34m(*args, **kwargs)\u001b[0m\n\u001b[1;32m     74\u001b[0m                 \u001b[0;32mif\u001b[0m \u001b[0;32mnot\u001b[0m \u001b[0me\u001b[0m\u001b[0;34m.\u001b[0m\u001b[0margs\u001b[0m \u001b[0;32mor\u001b[0m \u001b[0;32mnot\u001b[0m \u001b[0me\u001b[0m\u001b[0;34m.\u001b[0m\u001b[0margs\u001b[0m\u001b[0;34m[\u001b[0m\u001b[0;36m0\u001b[0m\u001b[0;34m]\u001b[0m\u001b[0;34m.\u001b[0m\u001b[0mstartswith\u001b[0m\u001b[0;34m(\u001b[0m\u001b[0;34m'unhashable type:'\u001b[0m\u001b[0;34m)\u001b[0m\u001b[0;34m:\u001b[0m\u001b[0;34m\u001b[0m\u001b[0;34m\u001b[0m\u001b[0m\n\u001b[1;32m     75\u001b[0m                     \u001b[0;32mraise\u001b[0m\u001b[0;34m\u001b[0m\u001b[0;34m\u001b[0m\u001b[0m\n\u001b[0;32m---> 76\u001b[0;31m                 \u001b[0mretval\u001b[0m \u001b[0;34m=\u001b[0m \u001b[0mfunc\u001b[0m\u001b[0;34m(\u001b[0m\u001b[0;34m*\u001b[0m\u001b[0margs\u001b[0m\u001b[0;34m,\u001b[0m \u001b[0;34m**\u001b[0m\u001b[0mkwargs\u001b[0m\u001b[0;34m)\u001b[0m\u001b[0;34m\u001b[0m\u001b[0;34m\u001b[0m\u001b[0m\n\u001b[0m\u001b[1;32m     77\u001b[0m             \u001b[0;32mreturn\u001b[0m \u001b[0mretval\u001b[0m\u001b[0;34m\u001b[0m\u001b[0;34m\u001b[0m\u001b[0m\n\u001b[1;32m     78\u001b[0m \u001b[0;34m\u001b[0m\u001b[0m\n",
      "\u001b[0;32m/opt/anaconda3/lib/python3.9/site-packages/sympy/core/function.py\u001b[0m in \u001b[0;36m__new__\u001b[0;34m(cls, *args, **options)\u001b[0m\n\u001b[1;32m    283\u001b[0m \u001b[0;34m\u001b[0m\u001b[0m\n\u001b[1;32m    284\u001b[0m         \u001b[0;32mif\u001b[0m \u001b[0mevaluate\u001b[0m\u001b[0;34m:\u001b[0m\u001b[0;34m\u001b[0m\u001b[0;34m\u001b[0m\u001b[0m\n\u001b[0;32m--> 285\u001b[0;31m             \u001b[0mevaluated\u001b[0m \u001b[0;34m=\u001b[0m \u001b[0mcls\u001b[0m\u001b[0;34m.\u001b[0m\u001b[0meval\u001b[0m\u001b[0;34m(\u001b[0m\u001b[0;34m*\u001b[0m\u001b[0margs\u001b[0m\u001b[0;34m)\u001b[0m\u001b[0;34m\u001b[0m\u001b[0;34m\u001b[0m\u001b[0m\n\u001b[0m\u001b[1;32m    286\u001b[0m             \u001b[0;32mif\u001b[0m \u001b[0mevaluated\u001b[0m \u001b[0;32mis\u001b[0m \u001b[0;32mnot\u001b[0m \u001b[0;32mNone\u001b[0m\u001b[0;34m:\u001b[0m\u001b[0;34m\u001b[0m\u001b[0;34m\u001b[0m\u001b[0m\n\u001b[1;32m    287\u001b[0m                 \u001b[0;32mreturn\u001b[0m \u001b[0mevaluated\u001b[0m\u001b[0;34m\u001b[0m\u001b[0;34m\u001b[0m\u001b[0m\n",
      "\u001b[0;32m/opt/anaconda3/lib/python3.9/site-packages/sympy/functions/elementary/trigonometric.py\u001b[0m in \u001b[0;36meval\u001b[0;34m(cls, arg)\u001b[0m\n\u001b[1;32m    594\u001b[0m             \u001b[0;32mreturn\u001b[0m \u001b[0mAccumBounds\u001b[0m\u001b[0;34m(\u001b[0m\u001b[0;34m-\u001b[0m\u001b[0;36m1\u001b[0m\u001b[0;34m,\u001b[0m \u001b[0;36m1\u001b[0m\u001b[0;34m)\u001b[0m\u001b[0;34m\u001b[0m\u001b[0;34m\u001b[0m\u001b[0m\n\u001b[1;32m    595\u001b[0m \u001b[0;34m\u001b[0m\u001b[0m\n\u001b[0;32m--> 596\u001b[0;31m         \u001b[0;32mif\u001b[0m \u001b[0marg\u001b[0m\u001b[0;34m.\u001b[0m\u001b[0mcould_extract_minus_sign\u001b[0m\u001b[0;34m(\u001b[0m\u001b[0;34m)\u001b[0m\u001b[0;34m:\u001b[0m\u001b[0;34m\u001b[0m\u001b[0;34m\u001b[0m\u001b[0m\n\u001b[0m\u001b[1;32m    597\u001b[0m             \u001b[0;32mreturn\u001b[0m \u001b[0mcls\u001b[0m\u001b[0;34m(\u001b[0m\u001b[0;34m-\u001b[0m\u001b[0marg\u001b[0m\u001b[0;34m)\u001b[0m\u001b[0;34m\u001b[0m\u001b[0;34m\u001b[0m\u001b[0m\n\u001b[1;32m    598\u001b[0m \u001b[0;34m\u001b[0m\u001b[0m\n",
      "\u001b[0;31mAttributeError\u001b[0m: 'ImmutableDenseNDimArray' object has no attribute 'could_extract_minus_sign'"
     ]
    }
   ],
   "source": [
    "function = making_signal(R0, V0, times)\n",
    "proper_motion_term_dec, proper_motion_term_ra, parallax_term_dec, parallax_term_ra, signal_dec, signal_ra = function"
   ]
  },
  {
   "cell_type": "code",
   "execution_count": 51,
   "id": "2b481d37",
   "metadata": {},
   "outputs": [
    {
     "ename": "SyntaxError",
     "evalue": "cannot assign to operator (627511487.py, line 27)",
     "output_type": "error",
     "traceback": [
      "\u001b[0;36m  File \u001b[0;32m\"/var/folders/kj/bzmrgm6154j7yg37zyl66c340000gn/T/ipykernel_74314/627511487.py\"\u001b[0;36m, line \u001b[0;32m27\u001b[0m\n\u001b[0;31m    r_star - r_earth - (r_star - r_ssbc) = r_ssbc-r_earth\u001b[0m\n\u001b[0m    ^\u001b[0m\n\u001b[0;31mSyntaxError\u001b[0m\u001b[0;31m:\u001b[0m cannot assign to operator\n"
     ]
    }
   ],
   "source": [
    "_ = np.zeros(m)\n",
    "alpha = np.zeros(m)\n",
    "delta = np.zeros(m)\n",
    "alpha_bc = np.zeros(m)\n",
    "delta_bc = np.zeros(m)\n",
    "\n",
    "_, sim = get_simulation()\n",
    "\n",
    "star_particle = sim.particles[2]\n",
    "ssbc_particle = sim.calculate_com(first = 0,last = 2)\n",
    "earth_particle = sim.particles[1]\n",
    "\n",
    "for i,t in enumerate(times):\n",
    "    sim.integrate(t)\n",
    "    r_star = np.array(star_particle.xyz)\n",
    "    r_ssbc = np.array(ssbc_particle.xyz)\n",
    "    r_earth = np.array(earth_particle.xyz)\n",
    "    \n",
    "    R = r_star - r_earth\n",
    "    \n",
    "    R_bc = r_star - r_ssbc\n",
    "    \n",
    "    _, delta_bc[i], alpha_bc[i] = simple_function(R_bc)\n",
    "    \n",
    "    _, delta[i], alpha[i] = simple_function(R)\n",
    "    \n",
    "    r_star - r_earth - (r_star - r_ssbc) = r_ssbc-r_earth"
   ]
  },
  {
   "cell_type": "code",
   "execution_count": 52,
   "id": "7b22f875",
   "metadata": {},
   "outputs": [
    {
     "data": {
      "text/plain": [
       "[<matplotlib.lines.Line2D at 0x7f82870ba520>]"
      ]
     },
     "execution_count": 52,
     "metadata": {},
     "output_type": "execute_result"
    },
    {
     "data": {
      "image/png": "[encoded data removed]",
      "text/plain": [
       "<Figure size 576x396 with 1 Axes>"
      ]
     },
     "metadata": {},
     "output_type": "display_data"
    }
   ],
   "source": [
    "plt.plot((alpha-alpha_bc[0])*rad_mas,(delta-delta_bc[0])*rad_mas, color='blue') \n",
    "\n",
    "plt.plot((alpha_bc-alpha_bc[0])*rad_mas,(delta_bc-delta_bc[0])*rad_mas, color='red')\n",
    "\n",
    "plt.plot(proper_motion_term_ra*rad_mas, proper_motion_term_dec*rad_mas, color='orange', ls='--')\n",
    "\n",
    "predicted_x = parallax_term_ra+proper_motion_term_ra\n",
    "predicted_y = parallax_term_dec+proper_motion_term_dec\n",
    "\n",
    "plt.plot(predicted_x*rad_mas, predicted_y*rad_mas, color='green', ls='--')"
   ]
  },
  {
   "cell_type": "code",
   "execution_count": null,
   "id": "606e5bdc",
   "metadata": {},
   "outputs": [],
   "source": []
  }
 ],
 "metadata": {
  "kernelspec": {
   "display_name": "Python 3 (ipykernel)",
   "language": "python",
   "name": "python3"
  },
  "language_info": {
   "codemirror_mode": {
    "name": "ipython",
    "version": 3
   },
   "file_extension": ".py",
   "mimetype": "text/x-python",
   "name": "python",
   "nbconvert_exporter": "python",
   "pygments_lexer": "ipython3",
   "version": "3.9.7"
  },
  "varInspector": {
   "cols": {
    "lenName": 16,
    "lenType": 16,
    "lenVar": 40
   },
   "kernels_config": {
    "python": {
     "delete_cmd_postfix": "",
     "delete_cmd_prefix": "del ",
     "library": "var_list.py",
     "varRefreshCmd": "print(var_dic_list())"
    },
    "r": {
     "delete_cmd_postfix": ") ",
     "delete_cmd_prefix": "rm(",
     "library": "var_list.r",
     "varRefreshCmd": "cat(var_dic_list()) "
    }
   },
   "types_to_exclude": [
    "module",
    "function",
    "builtin_function_or_method",
    "instance",
    "_Feature"
   ],
   "window_display": false
  }
 },
 "nbformat": 4,
 "nbformat_minor": 5
}
